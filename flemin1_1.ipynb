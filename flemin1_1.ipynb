{
  "nbformat": 4,
  "nbformat_minor": 0,
  "metadata": {
    "colab": {
      "name": "flemin1.1.ipynb",
      "provenance": [],
      "collapsed_sections": []
    },
    "kernelspec": {
      "name": "python3",
      "display_name": "Python 3"
    }
  },
  "cells": [
    {
      "cell_type": "markdown",
      "metadata": {
        "id": "4sTo-tbmlX_k"
      },
      "source": [
        "###python tutorial###"
      ]
    },
    {
      "cell_type": "code",
      "metadata": {
        "id": "CY5IEjQVy2Mj",
        "colab": {
          "base_uri": "https://localhost:8080/"
        },
        "outputId": "f50ad46a-70e9-41da-dee0-091d1bca2cc6"
      },
      "source": [
        "print('welcome to the revision class of python')"
      ],
      "execution_count": 2,
      "outputs": [
        {
          "output_type": "stream",
          "text": [
            "welcome to the revision class of python\n"
          ],
          "name": "stdout"
        }
      ]
    },
    {
      "cell_type": "code",
      "metadata": {
        "id": "LeQVY48kzdKF",
        "colab": {
          "base_uri": "https://localhost:8080/"
        },
        "outputId": "493e1df6-a0ea-4de2-9797-79867f03eca9"
      },
      "source": [
        "if 6>2:\r\n",
        "  print('welcome to the revision class of python')"
      ],
      "execution_count": 3,
      "outputs": [
        {
          "output_type": "stream",
          "text": [
            "welcome to the revision class of python\n"
          ],
          "name": "stdout"
        }
      ]
    },
    {
      "cell_type": "code",
      "metadata": {
        "id": "6QB21APCzgq-",
        "colab": {
          "base_uri": "https://localhost:8080/"
        },
        "outputId": "aa17a224-f2af-4662-8191-5db75912d50d"
      },
      "source": [
        "if 5>12:\r\n",
        "  print('welcome to the revision class of python')\r\n",
        "else:\r\n",
        "  print('ok')"
      ],
      "execution_count": 4,
      "outputs": [
        {
          "output_type": "stream",
          "text": [
            "ok\n"
          ],
          "name": "stdout"
        }
      ]
    },
    {
      "cell_type": "code",
      "metadata": {
        "id": "i6YVoYORzksl"
      },
      "source": [
        "x=5\r\n",
        "y='hello world'"
      ],
      "execution_count": 5,
      "outputs": []
    },
    {
      "cell_type": "code",
      "metadata": {
        "id": "TSqjMUDI0RCL",
        "colab": {
          "base_uri": "https://localhost:8080/"
        },
        "outputId": "12132fbf-e7c6-4236-b1ec-116286a7361e"
      },
      "source": [
        "x"
      ],
      "execution_count": 6,
      "outputs": [
        {
          "output_type": "execute_result",
          "data": {
            "text/plain": [
              "5"
            ]
          },
          "metadata": {
            "tags": []
          },
          "execution_count": 6
        }
      ]
    },
    {
      "cell_type": "code",
      "metadata": {
        "id": "SWsFiyx30SOw",
        "colab": {
          "base_uri": "https://localhost:8080/",
          "height": 35
        },
        "outputId": "3b3362b2-1f03-4cf0-8192-77c433eb8816"
      },
      "source": [
        "y"
      ],
      "execution_count": 7,
      "outputs": [
        {
          "output_type": "execute_result",
          "data": {
            "application/vnd.google.colaboratory.intrinsic+json": {
              "type": "string"
            },
            "text/plain": [
              "'hello world'"
            ]
          },
          "metadata": {
            "tags": []
          },
          "execution_count": 7
        }
      ]
    },
    {
      "cell_type": "code",
      "metadata": {
        "id": "klaBGHKP0T6l",
        "colab": {
          "base_uri": "https://localhost:8080/"
        },
        "outputId": "b797a6d0-8cd7-4675-d4bf-52aeeb5de652"
      },
      "source": [
        "x=7\r\n",
        "y='hello world'\r\n",
        "print(x)\r\n",
        "print(y)"
      ],
      "execution_count": 8,
      "outputs": [
        {
          "output_type": "stream",
          "text": [
            "7\n",
            "hello world\n"
          ],
          "name": "stdout"
        }
      ]
    },
    {
      "cell_type": "code",
      "metadata": {
        "id": "VISBeMcx0bgd",
        "colab": {
          "base_uri": "https://localhost:8080/"
        },
        "outputId": "35af257e-4c88-4b1c-d3bb-1f31438138ad"
      },
      "source": [
        "x=b\"hello\"\r\n",
        "print(type(x))\r\n",
        "print(x)"
      ],
      "execution_count": 9,
      "outputs": [
        {
          "output_type": "stream",
          "text": [
            "<class 'bytes'>\n",
            "b'hello'\n"
          ],
          "name": "stdout"
        }
      ]
    },
    {
      "cell_type": "code",
      "metadata": {
        "id": "4qrHdaNq1e08",
        "colab": {
          "base_uri": "https://localhost:8080/"
        },
        "outputId": "23caf9b7-34ca-4c86-9ee1-6575476330d9"
      },
      "source": [
        "x=bytearray(4)\r\n",
        "print(x)"
      ],
      "execution_count": 10,
      "outputs": [
        {
          "output_type": "stream",
          "text": [
            "bytearray(b'\\x00\\x00\\x00\\x00')\n"
          ],
          "name": "stdout"
        }
      ]
    },
    {
      "cell_type": "code",
      "metadata": {
        "id": "uEwo8RRh1nXm"
      },
      "source": [
        "#python numbers\r\n",
        "x=1   #int\r\n",
        "y=6.9 #float\r\n",
        "z=6j  #complex"
      ],
      "execution_count": 11,
      "outputs": []
    },
    {
      "cell_type": "code",
      "metadata": {
        "id": "C_yy3fVk2qPX",
        "colab": {
          "base_uri": "https://localhost:8080/"
        },
        "outputId": "060e9459-8219-49f3-f3ad-551fa4f3ac00"
      },
      "source": [
        "x"
      ],
      "execution_count": 12,
      "outputs": [
        {
          "output_type": "execute_result",
          "data": {
            "text/plain": [
              "1"
            ]
          },
          "metadata": {
            "tags": []
          },
          "execution_count": 12
        }
      ]
    },
    {
      "cell_type": "code",
      "metadata": {
        "id": "JYzoizly2rz-",
        "colab": {
          "base_uri": "https://localhost:8080/"
        },
        "outputId": "2c056a36-c503-4f11-e935-86e287805e3f"
      },
      "source": [
        "y"
      ],
      "execution_count": 13,
      "outputs": [
        {
          "output_type": "execute_result",
          "data": {
            "text/plain": [
              "6.9"
            ]
          },
          "metadata": {
            "tags": []
          },
          "execution_count": 13
        }
      ]
    },
    {
      "cell_type": "code",
      "metadata": {
        "id": "CRNxL-Gj2u5g",
        "colab": {
          "base_uri": "https://localhost:8080/"
        },
        "outputId": "ce8c6cf9-3e4e-44bd-c8d5-aea8f7cfb881"
      },
      "source": [
        "z"
      ],
      "execution_count": 14,
      "outputs": [
        {
          "output_type": "execute_result",
          "data": {
            "text/plain": [
              "6j"
            ]
          },
          "metadata": {
            "tags": []
          },
          "execution_count": 14
        }
      ]
    },
    {
      "cell_type": "code",
      "metadata": {
        "id": "eN6-paZh2xl-",
        "colab": {
          "base_uri": "https://localhost:8080/"
        },
        "outputId": "9442cc60-6542-4156-a76d-c10e7e0af138"
      },
      "source": [
        "print(x)\r\n",
        "print(type(x))"
      ],
      "execution_count": 15,
      "outputs": [
        {
          "output_type": "stream",
          "text": [
            "1\n",
            "<class 'int'>\n"
          ],
          "name": "stdout"
        }
      ]
    },
    {
      "cell_type": "code",
      "metadata": {
        "id": "AyubUFph26Ub",
        "colab": {
          "base_uri": "https://localhost:8080/"
        },
        "outputId": "6cc13d4c-bfda-4d07-e042-6e50a445f50b"
      },
      "source": [
        "print(y)\r\n",
        "print(type(y))"
      ],
      "execution_count": 16,
      "outputs": [
        {
          "output_type": "stream",
          "text": [
            "6.9\n",
            "<class 'float'>\n"
          ],
          "name": "stdout"
        }
      ]
    },
    {
      "cell_type": "code",
      "metadata": {
        "id": "60ZWlyhR3SD4",
        "colab": {
          "base_uri": "https://localhost:8080/"
        },
        "outputId": "56462860-2987-410b-beab-c5252e2c2c15"
      },
      "source": [
        "print(z)\r\n",
        "print(type(z))"
      ],
      "execution_count": 17,
      "outputs": [
        {
          "output_type": "stream",
          "text": [
            "6j\n",
            "<class 'complex'>\n"
          ],
          "name": "stdout"
        }
      ]
    },
    {
      "cell_type": "code",
      "metadata": {
        "id": "eOwI0scZ3TLQ",
        "colab": {
          "base_uri": "https://localhost:8080/"
        },
        "outputId": "3b50021b-c8c0-4528-dd3a-f65d38c37436"
      },
      "source": [
        "x=int(8)\r\n",
        "y=int(9.8)\r\n",
        "z=int(\"3\")\r\n",
        "print(x)\r\n",
        "print(y)\r\n",
        "print(z)"
      ],
      "execution_count": 18,
      "outputs": [
        {
          "output_type": "stream",
          "text": [
            "8\n",
            "9\n",
            "3\n"
          ],
          "name": "stdout"
        }
      ]
    },
    {
      "cell_type": "code",
      "metadata": {
        "id": "dTh5lz5m32I7",
        "colab": {
          "base_uri": "https://localhost:8080/"
        },
        "outputId": "153a401d-bbd6-49e2-cc6f-b132323e436b"
      },
      "source": [
        "x=str(8)\r\n",
        "y=str(9.8)\r\n",
        "z=str(\"3\")\r\n",
        "print(x)\r\n",
        "print(y)\r\n",
        "print(z)\r\n",
        "print(type(x))\r\n",
        "print(type(y))\r\n",
        "print(type(z))"
      ],
      "execution_count": 19,
      "outputs": [
        {
          "output_type": "stream",
          "text": [
            "8\n",
            "9.8\n",
            "3\n",
            "<class 'str'>\n",
            "<class 'str'>\n",
            "<class 'str'>\n"
          ],
          "name": "stdout"
        }
      ]
    },
    {
      "cell_type": "code",
      "metadata": {
        "id": "2Bu47zR_35fT",
        "colab": {
          "base_uri": "https://localhost:8080/"
        },
        "outputId": "46cf29d5-21b5-4ce5-dc32-7aa523309aec"
      },
      "source": [
        "a=\"\"\" aditya has a doubt,\r\n",
        "which is regarding scan,\r\n",
        "we need to adress,\r\n",
        "the topic.\"\"\"\r\n",
        "print(a)"
      ],
      "execution_count": 20,
      "outputs": [
        {
          "output_type": "stream",
          "text": [
            " aditya has a doubt,\n",
            "which is regarding scan,\n",
            "we need to adress,\n",
            "the topic.\n"
          ],
          "name": "stdout"
        }
      ]
    },
    {
      "cell_type": "code",
      "metadata": {
        "id": "4AwSTLI04vgv",
        "colab": {
          "base_uri": "https://localhost:8080/"
        },
        "outputId": "74d7a149-1ed0-4cec-fbe8-8bc9a66cd376"
      },
      "source": [
        "print(10>9)\r\n",
        "print(10==9)\r\n",
        "print(10<9)"
      ],
      "execution_count": 21,
      "outputs": [
        {
          "output_type": "stream",
          "text": [
            "True\n",
            "False\n",
            "False\n"
          ],
          "name": "stdout"
        }
      ]
    },
    {
      "cell_type": "markdown",
      "metadata": {
        "id": "qUf8F1XJ40CT"
      },
      "source": [
        "##Python lists"
      ]
    },
    {
      "cell_type": "code",
      "metadata": {
        "id": "3H6-MGZ_zjks",
        "colab": {
          "base_uri": "https://localhost:8080/"
        },
        "outputId": "4522ea54-d751-403a-9a9c-b7645a175104"
      },
      "source": [
        "thisislist=['apple','banana','grapes']\n",
        "thisislist"
      ],
      "execution_count": 22,
      "outputs": [
        {
          "output_type": "execute_result",
          "data": {
            "text/plain": [
              "['apple', 'banana', 'grapes']"
            ]
          },
          "metadata": {
            "tags": []
          },
          "execution_count": 22
        }
      ]
    },
    {
      "cell_type": "code",
      "metadata": {
        "id": "hriCEiOf1eav",
        "colab": {
          "base_uri": "https://localhost:8080/"
        },
        "outputId": "32069806-fab8-4022-b47c-e73d6ab1014d"
      },
      "source": [
        "type(thisislist)"
      ],
      "execution_count": 23,
      "outputs": [
        {
          "output_type": "execute_result",
          "data": {
            "text/plain": [
              "list"
            ]
          },
          "metadata": {
            "tags": []
          },
          "execution_count": 23
        }
      ]
    },
    {
      "cell_type": "code",
      "metadata": {
        "id": "4lNNMCN81lcz",
        "colab": {
          "base_uri": "https://localhost:8080/"
        },
        "outputId": "04ed8ee3-60b2-4b47-be61-97423b3c5ada"
      },
      "source": [
        "thisislist=['apple','banana','grapes','apple1','banana1','grapes1']\n",
        "print(thisislist)"
      ],
      "execution_count": 24,
      "outputs": [
        {
          "output_type": "stream",
          "text": [
            "['apple', 'banana', 'grapes', 'apple1', 'banana1', 'grapes1']\n"
          ],
          "name": "stdout"
        }
      ]
    },
    {
      "cell_type": "code",
      "metadata": {
        "id": "d_DTouhI15Ih",
        "colab": {
          "base_uri": "https://localhost:8080/"
        },
        "outputId": "15809605-244f-4d52-9d23-f99518a35388"
      },
      "source": [
        "thisislist=['apple','banana','grapes','apple1','banana1','grapes1']\n",
        "print(thisislist[1])"
      ],
      "execution_count": 25,
      "outputs": [
        {
          "output_type": "stream",
          "text": [
            "banana\n"
          ],
          "name": "stdout"
        }
      ]
    },
    {
      "cell_type": "code",
      "metadata": {
        "id": "w7_FdFLX1_yj",
        "colab": {
          "base_uri": "https://localhost:8080/"
        },
        "outputId": "a02548b3-490f-4b98-a527-be9ca2f52798"
      },
      "source": [
        "thisislist=['apple','banana','grapes','apple1','banana1','grapes1']\n",
        "print(thisislist[0:4])"
      ],
      "execution_count": 26,
      "outputs": [
        {
          "output_type": "stream",
          "text": [
            "['apple', 'banana', 'grapes', 'apple1']\n"
          ],
          "name": "stdout"
        }
      ]
    },
    {
      "cell_type": "code",
      "metadata": {
        "id": "acRJyE_q2LJo",
        "colab": {
          "base_uri": "https://localhost:8080/"
        },
        "outputId": "67a71e4d-4cac-4ba3-cab6-66485d8a3585"
      },
      "source": [
        "thisislist=['apple','banana','grapes','apple1','banana1','grapes1']\n",
        "print(thisislist[:4])"
      ],
      "execution_count": 27,
      "outputs": [
        {
          "output_type": "stream",
          "text": [
            "['apple', 'banana', 'grapes', 'apple1']\n"
          ],
          "name": "stdout"
        }
      ]
    },
    {
      "cell_type": "code",
      "metadata": {
        "id": "obfUFWx82gAF",
        "colab": {
          "base_uri": "https://localhost:8080/"
        },
        "outputId": "6c53dcc3-afc2-4aff-f675-3222507b5a02"
      },
      "source": [
        "thisislist=['apple','banana','grapes','apple1','banana1','grapes1']\n",
        "print(thisislist[2:])"
      ],
      "execution_count": 28,
      "outputs": [
        {
          "output_type": "stream",
          "text": [
            "['grapes', 'apple1', 'banana1', 'grapes1']\n"
          ],
          "name": "stdout"
        }
      ]
    },
    {
      "cell_type": "code",
      "metadata": {
        "id": "2onCMRUV2imX",
        "colab": {
          "base_uri": "https://localhost:8080/"
        },
        "outputId": "4279fe43-e564-423c-ace8-e499d8ac8b9f"
      },
      "source": [
        "thisislist=['apple','banana','grapes','apple1','banana1','grapes1']\n",
        "thisislist[1]='bingo'\n",
        "print(thisislist)"
      ],
      "execution_count": 29,
      "outputs": [
        {
          "output_type": "stream",
          "text": [
            "['apple', 'bingo', 'grapes', 'apple1', 'banana1', 'grapes1']\n"
          ],
          "name": "stdout"
        }
      ]
    },
    {
      "cell_type": "code",
      "metadata": {
        "id": "cKGghBuH3Vd_",
        "colab": {
          "base_uri": "https://localhost:8080/"
        },
        "outputId": "1ba4c079-61d6-44c3-b0cb-296515352890"
      },
      "source": [
        "thisislist=['apple','banana','grapes','apple1','banana1','grapes1']\n",
        "thisislist[1]=['bingo','mango']\n",
        "print(thisislist)"
      ],
      "execution_count": 30,
      "outputs": [
        {
          "output_type": "stream",
          "text": [
            "['apple', ['bingo', 'mango'], 'grapes', 'apple1', 'banana1', 'grapes1']\n"
          ],
          "name": "stdout"
        }
      ]
    },
    {
      "cell_type": "code",
      "metadata": {
        "id": "wRtuHVmw3kAL",
        "colab": {
          "base_uri": "https://localhost:8080/"
        },
        "outputId": "48ed67d9-e8db-412a-818d-9ab36f1071d3"
      },
      "source": [
        "thisislist=['apple','banana','grapes','apple1','banana1','grapes1']\n",
        "thisislist.append('orange')\n",
        "print(thisislist)"
      ],
      "execution_count": 31,
      "outputs": [
        {
          "output_type": "stream",
          "text": [
            "['apple', 'banana', 'grapes', 'apple1', 'banana1', 'grapes1', 'orange']\n"
          ],
          "name": "stdout"
        }
      ]
    },
    {
      "cell_type": "code",
      "metadata": {
        "id": "DuFRvu6H6Aj9",
        "colab": {
          "base_uri": "https://localhost:8080/"
        },
        "outputId": "0def29c3-b3f6-4141-b7d0-fd2b751b1c64"
      },
      "source": [
        "thisislist=['apple','banana','grapes','apple1','banana1','grapes1']\n",
        "thisislist.insert(2,'orange')\n",
        "print(thisislist)"
      ],
      "execution_count": 32,
      "outputs": [
        {
          "output_type": "stream",
          "text": [
            "['apple', 'banana', 'orange', 'grapes', 'apple1', 'banana1', 'grapes1']\n"
          ],
          "name": "stdout"
        }
      ]
    },
    {
      "cell_type": "code",
      "metadata": {
        "id": "jKs2lwpZ6TwN",
        "colab": {
          "base_uri": "https://localhost:8080/"
        },
        "outputId": "4b6f7ec3-0723-49bc-fbbd-7f3b02b127fc"
      },
      "source": [
        "thisislist=['apple','banana','grapes','apple1','banana1','grapes1']\n",
        "tropical=['mango','pineapple','papaya','mango1','pineapple1','papaya1']\n",
        "thisislist.extend(tropical)\n",
        "print(thisislist)"
      ],
      "execution_count": 33,
      "outputs": [
        {
          "output_type": "stream",
          "text": [
            "['apple', 'banana', 'grapes', 'apple1', 'banana1', 'grapes1', 'mango', 'pineapple', 'papaya', 'mango1', 'pineapple1', 'papaya1']\n"
          ],
          "name": "stdout"
        }
      ]
    },
    {
      "cell_type": "code",
      "metadata": {
        "id": "SlKT8UtR62kT",
        "colab": {
          "base_uri": "https://localhost:8080/"
        },
        "outputId": "981b54ce-6546-4596-d588-a79e2871a1a6"
      },
      "source": [
        "thisislist=['apple','banana','grapes','apple1','banana1','grapes1']\n",
        "thisistuple=('mango','pineapple','papaya','mango1','pineapple1','papaya1')\n",
        "thisislist.extend(thisistuple)\n",
        "print(thisislist)"
      ],
      "execution_count": 34,
      "outputs": [
        {
          "output_type": "stream",
          "text": [
            "['apple', 'banana', 'grapes', 'apple1', 'banana1', 'grapes1', 'mango', 'pineapple', 'papaya', 'mango1', 'pineapple1', 'papaya1']\n"
          ],
          "name": "stdout"
        }
      ]
    },
    {
      "cell_type": "code",
      "metadata": {
        "id": "QpWFPfAH7W7_",
        "colab": {
          "base_uri": "https://localhost:8080/"
        },
        "outputId": "c95facb2-dba1-4ed8-eaa5-6ec0da708d08"
      },
      "source": [
        "thisislist=['apple','banana','grapes','apple1','banana1','grapes1']\n",
        "tropical=['mango','pineapple','papaya','mango1','pineapple1','papaya1']\n",
        "thisislist.remove('apple1')\n",
        "print(thisislist)"
      ],
      "execution_count": 35,
      "outputs": [
        {
          "output_type": "stream",
          "text": [
            "['apple', 'banana', 'grapes', 'banana1', 'grapes1']\n"
          ],
          "name": "stdout"
        }
      ]
    },
    {
      "cell_type": "code",
      "metadata": {
        "id": "vs1c9W-w7pYc",
        "colab": {
          "base_uri": "https://localhost:8080/"
        },
        "outputId": "5e57fea2-bb9b-465b-826b-68de89a0f4a6"
      },
      "source": [
        "thisislist=['apple','banana','grapes','apple1','banana1','grapes1']\n",
        "tropical=['mango','pineapple','papaya','mango1','pineapple1','papaya1']\n",
        "thisislist.pop(0)\n",
        "print(thisislist)"
      ],
      "execution_count": 36,
      "outputs": [
        {
          "output_type": "stream",
          "text": [
            "['banana', 'grapes', 'apple1', 'banana1', 'grapes1']\n"
          ],
          "name": "stdout"
        }
      ]
    },
    {
      "cell_type": "code",
      "metadata": {
        "id": "qzyosIsa8EtY"
      },
      "source": [
        "thisislist=['apple','banana','grapes','apple1','banana1','grapes1']\n",
        "tropical=['mango','pineapple','papaya','mango1','pineapple1','papaya1']\n",
        "del thisislist #thisislist gets deleted"
      ],
      "execution_count": 37,
      "outputs": []
    },
    {
      "cell_type": "code",
      "metadata": {
        "id": "h_P4aWHw8QjE",
        "colab": {
          "base_uri": "https://localhost:8080/"
        },
        "outputId": "13d7b3e8-c970-49b0-bc1f-431970eb7a3a"
      },
      "source": [
        "thisislist=['apple','banana','grapes','apple1','banana1','grapes1']\n",
        "tropical=['mango','pineapple','papaya','mango1','pineapple1','papaya1']\n",
        "thisislist.clear()\n",
        "print(thisislist)"
      ],
      "execution_count": 38,
      "outputs": [
        {
          "output_type": "stream",
          "text": [
            "[]\n"
          ],
          "name": "stdout"
        }
      ]
    },
    {
      "cell_type": "markdown",
      "metadata": {
        "id": "vDdaYrPdGyUd"
      },
      "source": [
        "##loops through list"
      ]
    },
    {
      "cell_type": "code",
      "metadata": {
        "id": "bnQehNL08tdb",
        "colab": {
          "base_uri": "https://localhost:8080/"
        },
        "outputId": "16200e33-d7e5-4392-a504-81613e39a0ab"
      },
      "source": [
        "thisislist=['apple','banana','grapes','apple1','banana1','grapes1']\n",
        "for x in thisislist:\n",
        "  print(x)"
      ],
      "execution_count": 39,
      "outputs": [
        {
          "output_type": "stream",
          "text": [
            "apple\n",
            "banana\n",
            "grapes\n",
            "apple1\n",
            "banana1\n",
            "grapes1\n"
          ],
          "name": "stdout"
        }
      ]
    },
    {
      "cell_type": "code",
      "metadata": {
        "id": "f9FSyreR9gmQ",
        "colab": {
          "base_uri": "https://localhost:8080/"
        },
        "outputId": "c7a0a64d-65e0-46af-a4e5-187bce067dd6"
      },
      "source": [
        "thisislist=['apple','banana','grapes','apple1','banana1','grapes1']\n",
        "i=0\n",
        "while i<len(thisislist):\n",
        " print(thisislist[i])\n",
        " i+=1"
      ],
      "execution_count": 40,
      "outputs": [
        {
          "output_type": "stream",
          "text": [
            "apple\n",
            "banana\n",
            "grapes\n",
            "apple1\n",
            "banana1\n",
            "grapes1\n"
          ],
          "name": "stdout"
        }
      ]
    },
    {
      "cell_type": "code",
      "metadata": {
        "id": "namElGka_GKf",
        "colab": {
          "base_uri": "https://localhost:8080/"
        },
        "outputId": "a245f484-5077-4e4c-8193-542e1c3fbcaf"
      },
      "source": [
        "thislist=['apple','banana','cherry']\n",
        "[print (x) for x in thislist]"
      ],
      "execution_count": 41,
      "outputs": [
        {
          "output_type": "stream",
          "text": [
            "apple\n",
            "banana\n",
            "cherry\n"
          ],
          "name": "stdout"
        },
        {
          "output_type": "execute_result",
          "data": {
            "text/plain": [
              "[None, None, None]"
            ]
          },
          "metadata": {
            "tags": []
          },
          "execution_count": 41
        }
      ]
    },
    {
      "cell_type": "code",
      "metadata": {
        "id": "UP1n8RDW_zvU",
        "colab": {
          "base_uri": "https://localhost:8080/"
        },
        "outputId": "d20cbef6-6d19-4cc3-d7f5-6ba4156b9c87"
      },
      "source": [
        "fruits=['apple','banana','cherry','kiwi','mango']\n",
        "newlist=[]\n",
        "for x in fruits:\n",
        "    if 'a' in x:\n",
        "     newlist.append(x)\n",
        "print(newlist)\n"
      ],
      "execution_count": 42,
      "outputs": [
        {
          "output_type": "stream",
          "text": [
            "['apple', 'banana', 'mango']\n"
          ],
          "name": "stdout"
        }
      ]
    },
    {
      "cell_type": "code",
      "metadata": {
        "id": "arq6Dg2zBtyD",
        "colab": {
          "base_uri": "https://localhost:8080/"
        },
        "outputId": "379242d5-2913-426c-e0b4-d6e3af338b5e"
      },
      "source": [
        "fruits=['apple','banana','cherry','kiwi','mango']\n",
        "newlist=[x for x in fruits if 'a' in x]\n",
        "print(newlist)"
      ],
      "execution_count": 43,
      "outputs": [
        {
          "output_type": "stream",
          "text": [
            "['apple', 'banana', 'mango']\n"
          ],
          "name": "stdout"
        }
      ]
    },
    {
      "cell_type": "code",
      "metadata": {
        "id": "4nbSe5pvCe3R",
        "colab": {
          "base_uri": "https://localhost:8080/"
        },
        "outputId": "df77d538-293b-40ab-88ee-88d91fbb22e2"
      },
      "source": [
        "fruits=['apple','banana','cherry','kiwi','mango']\n",
        "fruits.sort()\n",
        "print(fruits)"
      ],
      "execution_count": 44,
      "outputs": [
        {
          "output_type": "stream",
          "text": [
            "['apple', 'banana', 'cherry', 'kiwi', 'mango']\n"
          ],
          "name": "stdout"
        }
      ]
    },
    {
      "cell_type": "code",
      "metadata": {
        "id": "2D1Z5J0Y3_Nq",
        "colab": {
          "base_uri": "https://localhost:8080/"
        },
        "outputId": "7232fc64-d66a-4664-fe15-bb8d88fe7a8e"
      },
      "source": [
        "thislist=[\"orange\",\"mango\",\"kiwi\",\"pineapple\",\"banana\"]\n",
        "thislist.sort()\n",
        "print(thislist)"
      ],
      "execution_count": 45,
      "outputs": [
        {
          "output_type": "stream",
          "text": [
            "['banana', 'kiwi', 'mango', 'orange', 'pineapple']\n"
          ],
          "name": "stdout"
        }
      ]
    },
    {
      "cell_type": "code",
      "metadata": {
        "id": "KHsQd7Uj4jrJ",
        "colab": {
          "base_uri": "https://localhost:8080/"
        },
        "outputId": "d5a313a7-5952-4b39-bf75-a8a3b6b853b4"
      },
      "source": [
        "thislist=[100,40,50,2,22,83,78]\n",
        "thislist.sort()\n",
        "print(thislist)"
      ],
      "execution_count": 46,
      "outputs": [
        {
          "output_type": "stream",
          "text": [
            "[2, 22, 40, 50, 78, 83, 100]\n"
          ],
          "name": "stdout"
        }
      ]
    },
    {
      "cell_type": "code",
      "metadata": {
        "id": "GoLJI8Er5JtI",
        "colab": {
          "base_uri": "https://localhost:8080/"
        },
        "outputId": "e8468af3-7fc6-4b2f-8cd1-b045b3ee8405"
      },
      "source": [
        "thislist=[\"orange\",\"mango\",\"kiwi\",\"pineapple\",\"banana\"]\n",
        "thislist.sort(reverse=True)\n",
        "print(thislist)"
      ],
      "execution_count": 47,
      "outputs": [
        {
          "output_type": "stream",
          "text": [
            "['pineapple', 'orange', 'mango', 'kiwi', 'banana']\n"
          ],
          "name": "stdout"
        }
      ]
    },
    {
      "cell_type": "code",
      "metadata": {
        "id": "CMBNPJsZ5VbG",
        "colab": {
          "base_uri": "https://localhost:8080/"
        },
        "outputId": "b7562aba-9cfd-43b8-ed51-f269311aaf0f"
      },
      "source": [
        "thislist=[100,40,50,2,22,83,78]\n",
        "thislist.sort(reverse=True)\n",
        "print(thislist)"
      ],
      "execution_count": 48,
      "outputs": [
        {
          "output_type": "stream",
          "text": [
            "[100, 83, 78, 50, 40, 22, 2]\n"
          ],
          "name": "stdout"
        }
      ]
    },
    {
      "cell_type": "code",
      "metadata": {
        "id": "lmZGRdxr5dlU",
        "colab": {
          "base_uri": "https://localhost:8080/"
        },
        "outputId": "90c2829f-f261-4d7c-bb67-5a8500bfc94f"
      },
      "source": [
        "thislist=[\"orange\",\"mango\",\"kiwi\",\"pineapple\",\"banana\"]\n",
        "newlist=thislist.copy()\n",
        "print(newlist)"
      ],
      "execution_count": 49,
      "outputs": [
        {
          "output_type": "stream",
          "text": [
            "['orange', 'mango', 'kiwi', 'pineapple', 'banana']\n"
          ],
          "name": "stdout"
        }
      ]
    },
    {
      "cell_type": "code",
      "metadata": {
        "id": "QVg-eddl5-Ew",
        "colab": {
          "base_uri": "https://localhost:8080/"
        },
        "outputId": "123e08fd-a9a4-484e-cb82-9721745b134f"
      },
      "source": [
        "thislist=[100,40,50,2,22,83,78]\n",
        "newlist=thislist.copy()\n",
        "print(newlist)"
      ],
      "execution_count": 50,
      "outputs": [
        {
          "output_type": "stream",
          "text": [
            "[100, 40, 50, 2, 22, 83, 78]\n"
          ],
          "name": "stdout"
        }
      ]
    },
    {
      "cell_type": "code",
      "metadata": {
        "id": "IdT6B4aQ6KC6",
        "colab": {
          "base_uri": "https://localhost:8080/"
        },
        "outputId": "b4068443-12db-4676-b392-bcc44a447768"
      },
      "source": [
        "thislist1=[\"orange\",\"mango\",\"kiwi\",\"pineapple\",\"banana\"]\n",
        "thislist2=[100,40,50,2,22,83,78]\n",
        "list3=thislist1+thislist2\n",
        "print(list3)"
      ],
      "execution_count": 51,
      "outputs": [
        {
          "output_type": "stream",
          "text": [
            "['orange', 'mango', 'kiwi', 'pineapple', 'banana', 100, 40, 50, 2, 22, 83, 78]\n"
          ],
          "name": "stdout"
        }
      ]
    },
    {
      "cell_type": "code",
      "metadata": {
        "id": "2Euh6qUN6c2u",
        "colab": {
          "base_uri": "https://localhost:8080/"
        },
        "outputId": "7c76b55c-afb9-44a1-9afa-2866b7199fcc"
      },
      "source": [
        "thislist1=[\"orange\",\"mango\",\"kiwi\",\"pineapple\",\"banana\"]\n",
        "thislist2=[100,40,50,2,22,83,78]\n",
        "for x in thislist2:\n",
        " thislist1.append(x)\n",
        "print(thislist1)"
      ],
      "execution_count": 52,
      "outputs": [
        {
          "output_type": "stream",
          "text": [
            "['orange', 'mango', 'kiwi', 'pineapple', 'banana', 100, 40, 50, 2, 22, 83, 78]\n"
          ],
          "name": "stdout"
        }
      ]
    },
    {
      "cell_type": "code",
      "metadata": {
        "id": "QuRnfR7B7Jfu",
        "colab": {
          "base_uri": "https://localhost:8080/"
        },
        "outputId": "a5f03ca7-8efc-4e64-f930-85755c1cc581"
      },
      "source": [
        "thislist1=[\"orange\",\"mango\",\"kiwi\",\"pineapple\",\"banana\"]\n",
        "thislist2=[100,40,50,2,22,83,78]\n",
        "thislist1.extend(thislist2)\n",
        "print(thislist1)"
      ],
      "execution_count": 53,
      "outputs": [
        {
          "output_type": "stream",
          "text": [
            "['orange', 'mango', 'kiwi', 'pineapple', 'banana', 100, 40, 50, 2, 22, 83, 78]\n"
          ],
          "name": "stdout"
        }
      ]
    },
    {
      "cell_type": "code",
      "metadata": {
        "id": "lXhT63Px7jOz",
        "colab": {
          "base_uri": "https://localhost:8080/"
        },
        "outputId": "bfdf31c7-9f20-4f9c-aedd-b25e63ed4195"
      },
      "source": [
        "l=['k','a','r','u','n']\n",
        "p=['n','a','y','a','r']\n",
        "for x in p:\n",
        "  l.append(x)\n",
        "print(l)"
      ],
      "execution_count": 54,
      "outputs": [
        {
          "output_type": "stream",
          "text": [
            "['k', 'a', 'r', 'u', 'n', 'n', 'a', 'y', 'a', 'r']\n"
          ],
          "name": "stdout"
        }
      ]
    },
    {
      "cell_type": "code",
      "metadata": {
        "id": "Xmvi92Z179eR",
        "colab": {
          "base_uri": "https://localhost:8080/"
        },
        "outputId": "daa10374-a8fe-4ecd-ea1e-ac682db86c9f"
      },
      "source": [
        "l=['k','a','r','u','n']\n",
        "p=['n','a','y','a','r']\n",
        "l.extend(p)\n",
        "print(l)"
      ],
      "execution_count": 55,
      "outputs": [
        {
          "output_type": "stream",
          "text": [
            "['k', 'a', 'r', 'u', 'n', 'n', 'a', 'y', 'a', 'r']\n"
          ],
          "name": "stdout"
        }
      ]
    },
    {
      "cell_type": "code",
      "metadata": {
        "id": "qSYC-nkj8bEl",
        "colab": {
          "base_uri": "https://localhost:8080/"
        },
        "outputId": "20f6459d-2981-4071-b5d6-27d830e3b340"
      },
      "source": [
        "l=['k','a','r','u','n']\n",
        "p=['n','a','y','a','r']\n",
        "o=l+p\n",
        "print(o)"
      ],
      "execution_count": 56,
      "outputs": [
        {
          "output_type": "stream",
          "text": [
            "['k', 'a', 'r', 'u', 'n', 'n', 'a', 'y', 'a', 'r']\n"
          ],
          "name": "stdout"
        }
      ]
    },
    {
      "cell_type": "markdown",
      "metadata": {
        "id": "_u4MiwOO8x1T"
      },
      "source": [
        "#python has set of boilt in methods like:\n",
        "append(),clear(),copy(),count(),extend(),index(),insert(),pop(),remove(),sort()#"
      ]
    },
    {
      "cell_type": "code",
      "metadata": {
        "id": "fLKjw3UT8i_I",
        "colab": {
          "base_uri": "https://localhost:8080/"
        },
        "outputId": "3c053bb2-a8d6-443a-dc72-f36d2177130f"
      },
      "source": [
        "l=['k','a','r','u','n']\n",
        "print(l)"
      ],
      "execution_count": 58,
      "outputs": [
        {
          "output_type": "stream",
          "text": [
            "['k', 'a', 'r', 'u', 'n']\n"
          ],
          "name": "stdout"
        }
      ]
    },
    {
      "cell_type": "markdown",
      "metadata": {
        "id": "bnxukcJT943g"
      },
      "source": [
        "#python--tuple:\n",
        "are used to store multiple items in a single variable\n"
      ]
    },
    {
      "cell_type": "markdown",
      "metadata": {
        "id": "-mrO4bxN-OQu"
      },
      "source": [
        "list-tuple:tuple is unchangable unlike list, tuple is created by using parantheses"
      ]
    },
    {
      "cell_type": "code",
      "metadata": {
        "id": "WGgNaDT39mQ3",
        "colab": {
          "base_uri": "https://localhost:8080/"
        },
        "outputId": "037e51b7-955a-4a87-ff34-c9518d9620c4"
      },
      "source": [
        "thisistuple=('cherry','banana','apple')\n",
        "print(thisistuple)"
      ],
      "execution_count": 59,
      "outputs": [
        {
          "output_type": "stream",
          "text": [
            "('cherry', 'banana', 'apple')\n"
          ],
          "name": "stdout"
        }
      ]
    },
    {
      "cell_type": "code",
      "metadata": {
        "id": "7OqAmN-G-u-e",
        "colab": {
          "base_uri": "https://localhost:8080/"
        },
        "outputId": "03ed940f-05c8-4f75-ed79-6105bd9d84b7"
      },
      "source": [
        "thisistuple=('cherry','banana','apple','cherry','banana','apple')\n",
        "print(thisistuple)"
      ],
      "execution_count": 60,
      "outputs": [
        {
          "output_type": "stream",
          "text": [
            "('cherry', 'banana', 'apple', 'cherry', 'banana', 'apple')\n"
          ],
          "name": "stdout"
        }
      ]
    },
    {
      "cell_type": "code",
      "metadata": {
        "id": "sEeCdv2m-4uB",
        "colab": {
          "base_uri": "https://localhost:8080/"
        },
        "outputId": "f40fcc07-3758-41e6-c678-c808de41c0fa"
      },
      "source": [
        "thisistuple=('cherry','banana','apple','cherry','banana','apple')\n",
        "print(len(thisistuple))"
      ],
      "execution_count": 61,
      "outputs": [
        {
          "output_type": "stream",
          "text": [
            "6\n"
          ],
          "name": "stdout"
        }
      ]
    },
    {
      "cell_type": "code",
      "metadata": {
        "id": "jSMW0lzS_ArG",
        "colab": {
          "base_uri": "https://localhost:8080/"
        },
        "outputId": "adb831b4-a6e4-4a73-b86d-7a1245a54ec8"
      },
      "source": [
        "tuple1=(\"orange\",\"mango\",\"kiwi\",\"pineapple\",\"banana\")\n",
        "tuple2=(100,40,50,2,22,83,78)\n",
        "tuple3=(True,False,False)\n",
        "print(tuple1)\n",
        "print(tuple2)\n",
        "print(tuple3)"
      ],
      "execution_count": 62,
      "outputs": [
        {
          "output_type": "stream",
          "text": [
            "('orange', 'mango', 'kiwi', 'pineapple', 'banana')\n",
            "(100, 40, 50, 2, 22, 83, 78)\n",
            "(True, False, False)\n"
          ],
          "name": "stdout"
        }
      ]
    },
    {
      "cell_type": "code",
      "metadata": {
        "id": "PjtyX_MZ_p5n",
        "colab": {
          "base_uri": "https://localhost:8080/"
        },
        "outputId": "01d45121-11f7-4318-c408-8f044274630e"
      },
      "source": [
        "tuple1=(\"orange\",3,True,\"pineapple\",\"banana\")\n",
        "tuple2=(100,40,50,2,22,83,78)\n",
        "tuple3=(True,False,False)\n",
        "print(tuple1)\n",
        "print(type(tuple1))\n"
      ],
      "execution_count": 63,
      "outputs": [
        {
          "output_type": "stream",
          "text": [
            "('orange', 3, True, 'pineapple', 'banana')\n",
            "<class 'tuple'>\n"
          ],
          "name": "stdout"
        }
      ]
    },
    {
      "cell_type": "markdown",
      "metadata": {
        "id": "y1me-W_SAUuh"
      },
      "source": [
        "#python collections/arrays: 4 types--list,tuple,set,dictionary#"
      ]
    },
    {
      "cell_type": "markdown",
      "metadata": {
        "id": "8S9pMf32Ax5R"
      },
      "source": [
        "dictionary is unordered and changable-no duplicate members"
      ]
    },
    {
      "cell_type": "code",
      "metadata": {
        "id": "jBZpBtKN_6Hr",
        "colab": {
          "base_uri": "https://localhost:8080/"
        },
        "outputId": "b8ab4287-5af2-42a3-d41e-76f7dbbb2b5f"
      },
      "source": [
        "tuple1=(\"orange\",3,True,\"pineapple\",\"banana\")\n",
        "print(tuple1[1])"
      ],
      "execution_count": 64,
      "outputs": [
        {
          "output_type": "stream",
          "text": [
            "3\n"
          ],
          "name": "stdout"
        }
      ]
    },
    {
      "cell_type": "code",
      "metadata": {
        "id": "pBXVYa6XBFrd",
        "colab": {
          "base_uri": "https://localhost:8080/"
        },
        "outputId": "8f720ef3-e298-4d36-9220-acba2b967aeb"
      },
      "source": [
        "tuple1=(\"orange\",3,True,\"pineapple\",\"banana\")\n",
        "print(tuple1[-2])"
      ],
      "execution_count": 65,
      "outputs": [
        {
          "output_type": "stream",
          "text": [
            "pineapple\n"
          ],
          "name": "stdout"
        }
      ]
    },
    {
      "cell_type": "code",
      "metadata": {
        "id": "yPWLUNkaBd92",
        "colab": {
          "base_uri": "https://localhost:8080/"
        },
        "outputId": "da0105c3-22c7-414c-e4d3-e6d830e24fb5"
      },
      "source": [
        "tuple1=(\"orange\",3,True,\"pineapple\",\"banana\")\n",
        "print(tuple1[:4])"
      ],
      "execution_count": 66,
      "outputs": [
        {
          "output_type": "stream",
          "text": [
            "('orange', 3, True, 'pineapple')\n"
          ],
          "name": "stdout"
        }
      ]
    },
    {
      "cell_type": "code",
      "metadata": {
        "id": "c2NKRGTRBtKu",
        "colab": {
          "base_uri": "https://localhost:8080/"
        },
        "outputId": "d808e224-101e-472d-bccd-bfe30819dffc"
      },
      "source": [
        "tuple1=(\"orange\",3,True,\"pineapple\",\"banana\")\n",
        "print(tuple1[1:7])"
      ],
      "execution_count": 67,
      "outputs": [
        {
          "output_type": "stream",
          "text": [
            "(3, True, 'pineapple', 'banana')\n"
          ],
          "name": "stdout"
        }
      ]
    },
    {
      "cell_type": "code",
      "metadata": {
        "id": "IbC0Pq68B7il",
        "colab": {
          "base_uri": "https://localhost:8080/"
        },
        "outputId": "d3b36d4d-e6cc-41e8-f45b-24b167781b09"
      },
      "source": [
        "x=('apple','banana','cherry')\n",
        "y=list(x)\n",
        "y[1]='kiwi'\n",
        "x=tuple(y)\n",
        "print(x)"
      ],
      "execution_count": 68,
      "outputs": [
        {
          "output_type": "stream",
          "text": [
            "('apple', 'kiwi', 'cherry')\n"
          ],
          "name": "stdout"
        }
      ]
    },
    {
      "cell_type": "code",
      "metadata": {
        "id": "O3xtq7KlCV2l",
        "colab": {
          "base_uri": "https://localhost:8080/"
        },
        "outputId": "2a939e31-d518-4786-f806-c815a5ed2eed"
      },
      "source": [
        "tuple1=(\"orange\",3,True,\"pineapple\",\"banana\")\n",
        "y=list(tuple1)\n",
        "y.append('apple')\n",
        "tuple1=tuple(y)\n",
        "print(tuple1)"
      ],
      "execution_count": 69,
      "outputs": [
        {
          "output_type": "stream",
          "text": [
            "('orange', 3, True, 'pineapple', 'banana', 'apple')\n"
          ],
          "name": "stdout"
        }
      ]
    },
    {
      "cell_type": "code",
      "metadata": {
        "id": "dx0uYVvDC8Il",
        "colab": {
          "base_uri": "https://localhost:8080/"
        },
        "outputId": "f3e572b6-4946-4e16-df42-0b18982470a4"
      },
      "source": [
        "tuple1=(\"orange\",3,True,\"pineapple\",\"banana\")\n",
        "y=list(tuple1)\n",
        "y.remove('banana')\n",
        "tuple1=tuple(y)\n",
        "print(tuple1)"
      ],
      "execution_count": 70,
      "outputs": [
        {
          "output_type": "stream",
          "text": [
            "('orange', 3, True, 'pineapple')\n"
          ],
          "name": "stdout"
        }
      ]
    },
    {
      "cell_type": "code",
      "metadata": {
        "id": "DLRv4I-XEQBt",
        "colab": {
          "base_uri": "https://localhost:8080/"
        },
        "outputId": "b2b7fdb8-6460-40de-8288-93cb6fcb6a3a"
      },
      "source": [
        "colours=(\"orange\",\"pineapple\",\"banana\")\n",
        "(green,yellow,red)=colours\n",
        "print(green)\n",
        "print(yellow)\n",
        "print(red)"
      ],
      "execution_count": 71,
      "outputs": [
        {
          "output_type": "stream",
          "text": [
            "orange\n",
            "pineapple\n",
            "banana\n"
          ],
          "name": "stdout"
        }
      ]
    },
    {
      "cell_type": "code",
      "metadata": {
        "id": "gVn0-HbNFRhQ",
        "colab": {
          "base_uri": "https://localhost:8080/"
        },
        "outputId": "53322434-7640-4ddf-b549-b7c55878f632"
      },
      "source": [
        "colours=(\"orange\",\"pineapple\",\"banana\",\"cherry\",\"mango\")\n",
        "(green,yellow,*red)=colours\n",
        "print(green)\n",
        "print(yellow)\n",
        "print(red)"
      ],
      "execution_count": 72,
      "outputs": [
        {
          "output_type": "stream",
          "text": [
            "orange\n",
            "pineapple\n",
            "['banana', 'cherry', 'mango']\n"
          ],
          "name": "stdout"
        }
      ]
    },
    {
      "cell_type": "code",
      "metadata": {
        "id": "32PyuOkvF034",
        "colab": {
          "base_uri": "https://localhost:8080/"
        },
        "outputId": "65310877-2ae9-480e-8c65-4946eefc8768"
      },
      "source": [
        "colours=(\"orange\",\"pineapple\",\"banana\",\"cherry\",\"mango\")\n",
        "(green,*yellow,red)=colours\n",
        "print(green)\n",
        "print(yellow)\n",
        "print(red)"
      ],
      "execution_count": 73,
      "outputs": [
        {
          "output_type": "stream",
          "text": [
            "orange\n",
            "['pineapple', 'banana', 'cherry']\n",
            "mango\n"
          ],
          "name": "stdout"
        }
      ]
    },
    {
      "cell_type": "code",
      "metadata": {
        "id": "2wLbs0eMGZRn",
        "colab": {
          "base_uri": "https://localhost:8080/"
        },
        "outputId": "d17afa6e-a7fd-43bc-d4af-e9e0a3f1d629"
      },
      "source": [
        "colours=(\"orange\",\"pineapple\",\"banana\",\"cherry\",\"mango\")\n",
        "for x in colours:\n",
        "  print(x)"
      ],
      "execution_count": 74,
      "outputs": [
        {
          "output_type": "stream",
          "text": [
            "orange\n",
            "pineapple\n",
            "banana\n",
            "cherry\n",
            "mango\n"
          ],
          "name": "stdout"
        }
      ]
    },
    {
      "cell_type": "code",
      "metadata": {
        "id": "5NCksfjJG7Xj",
        "colab": {
          "base_uri": "https://localhost:8080/"
        },
        "outputId": "4fe94e90-9718-42ed-cbdf-efd209a76c64"
      },
      "source": [
        "colours=(\"orange\",\"pineapple\",\"banana\",\"cherry\",\"mango\")\n",
        "for i in range(len(colours)):\n",
        "  print(colours[i])"
      ],
      "execution_count": 75,
      "outputs": [
        {
          "output_type": "stream",
          "text": [
            "orange\n",
            "pineapple\n",
            "banana\n",
            "cherry\n",
            "mango\n"
          ],
          "name": "stdout"
        }
      ]
    },
    {
      "cell_type": "code",
      "metadata": {
        "id": "012-BulWHTFj"
      },
      "source": [
        "#concatenatioin, merge and joining dataframes in pandas"
      ],
      "execution_count": 76,
      "outputs": []
    },
    {
      "cell_type": "markdown",
      "metadata": {
        "id": "QzmkhEZraxWy"
      },
      "source": [
        "#let us understand concatenetion#"
      ]
    },
    {
      "cell_type": "code",
      "metadata": {
        "id": "U2SWEU2Sat5m",
        "colab": {
          "base_uri": "https://localhost:8080/"
        },
        "outputId": "c4cdd3a6-c8bc-4f1e-dc4e-89417c7a84f4"
      },
      "source": [
        "import pandas as pd\n",
        "df1=pd.DataFrame({'item':['a','b','c','d'],'value':[1,2,3,5]})\n",
        "df2=pd.DataFrame({'item':['e','f','g','h'],'value':[5,6,7,8]})\n",
        "print(df1)\n",
        "print(df2)"
      ],
      "execution_count": 77,
      "outputs": [
        {
          "output_type": "stream",
          "text": [
            "  item  value\n",
            "0    a      1\n",
            "1    b      2\n",
            "2    c      3\n",
            "3    d      5\n",
            "  item  value\n",
            "0    e      5\n",
            "1    f      6\n",
            "2    g      7\n",
            "3    h      8\n"
          ],
          "name": "stdout"
        }
      ]
    },
    {
      "cell_type": "code",
      "metadata": {
        "id": "kYjvRJG4d6fQ",
        "colab": {
          "base_uri": "https://localhost:8080/",
          "height": 166
        },
        "outputId": "ee38aaf7-916e-4e23-e99e-5916182b0d43"
      },
      "source": [
        "df1"
      ],
      "execution_count": 78,
      "outputs": [
        {
          "output_type": "execute_result",
          "data": {
            "text/html": [
              "<div>\n",
              "<style scoped>\n",
              "    .dataframe tbody tr th:only-of-type {\n",
              "        vertical-align: middle;\n",
              "    }\n",
              "\n",
              "    .dataframe tbody tr th {\n",
              "        vertical-align: top;\n",
              "    }\n",
              "\n",
              "    .dataframe thead th {\n",
              "        text-align: right;\n",
              "    }\n",
              "</style>\n",
              "<table border=\"1\" class=\"dataframe\">\n",
              "  <thead>\n",
              "    <tr style=\"text-align: right;\">\n",
              "      <th></th>\n",
              "      <th>item</th>\n",
              "      <th>value</th>\n",
              "    </tr>\n",
              "  </thead>\n",
              "  <tbody>\n",
              "    <tr>\n",
              "      <th>0</th>\n",
              "      <td>a</td>\n",
              "      <td>1</td>\n",
              "    </tr>\n",
              "    <tr>\n",
              "      <th>1</th>\n",
              "      <td>b</td>\n",
              "      <td>2</td>\n",
              "    </tr>\n",
              "    <tr>\n",
              "      <th>2</th>\n",
              "      <td>c</td>\n",
              "      <td>3</td>\n",
              "    </tr>\n",
              "    <tr>\n",
              "      <th>3</th>\n",
              "      <td>d</td>\n",
              "      <td>5</td>\n",
              "    </tr>\n",
              "  </tbody>\n",
              "</table>\n",
              "</div>"
            ],
            "text/plain": [
              "  item  value\n",
              "0    a      1\n",
              "1    b      2\n",
              "2    c      3\n",
              "3    d      5"
            ]
          },
          "metadata": {
            "tags": []
          },
          "execution_count": 78
        }
      ]
    },
    {
      "cell_type": "code",
      "metadata": {
        "id": "YnX4cSfTeEJS",
        "colab": {
          "base_uri": "https://localhost:8080/",
          "height": 166
        },
        "outputId": "b55793ac-4b15-4745-d1cb-e6cece2dffc8"
      },
      "source": [
        "df2"
      ],
      "execution_count": 79,
      "outputs": [
        {
          "output_type": "execute_result",
          "data": {
            "text/html": [
              "<div>\n",
              "<style scoped>\n",
              "    .dataframe tbody tr th:only-of-type {\n",
              "        vertical-align: middle;\n",
              "    }\n",
              "\n",
              "    .dataframe tbody tr th {\n",
              "        vertical-align: top;\n",
              "    }\n",
              "\n",
              "    .dataframe thead th {\n",
              "        text-align: right;\n",
              "    }\n",
              "</style>\n",
              "<table border=\"1\" class=\"dataframe\">\n",
              "  <thead>\n",
              "    <tr style=\"text-align: right;\">\n",
              "      <th></th>\n",
              "      <th>item</th>\n",
              "      <th>value</th>\n",
              "    </tr>\n",
              "  </thead>\n",
              "  <tbody>\n",
              "    <tr>\n",
              "      <th>0</th>\n",
              "      <td>e</td>\n",
              "      <td>5</td>\n",
              "    </tr>\n",
              "    <tr>\n",
              "      <th>1</th>\n",
              "      <td>f</td>\n",
              "      <td>6</td>\n",
              "    </tr>\n",
              "    <tr>\n",
              "      <th>2</th>\n",
              "      <td>g</td>\n",
              "      <td>7</td>\n",
              "    </tr>\n",
              "    <tr>\n",
              "      <th>3</th>\n",
              "      <td>h</td>\n",
              "      <td>8</td>\n",
              "    </tr>\n",
              "  </tbody>\n",
              "</table>\n",
              "</div>"
            ],
            "text/plain": [
              "  item  value\n",
              "0    e      5\n",
              "1    f      6\n",
              "2    g      7\n",
              "3    h      8"
            ]
          },
          "metadata": {
            "tags": []
          },
          "execution_count": 79
        }
      ]
    },
    {
      "cell_type": "code",
      "metadata": {
        "id": "wwTdL3G-eE7n",
        "colab": {
          "base_uri": "https://localhost:8080/",
          "height": 284
        },
        "outputId": "00bd03f6-b471-4233-e531-dbcdec12027a"
      },
      "source": [
        "pd.concat([df1,df2])"
      ],
      "execution_count": 80,
      "outputs": [
        {
          "output_type": "execute_result",
          "data": {
            "text/html": [
              "<div>\n",
              "<style scoped>\n",
              "    .dataframe tbody tr th:only-of-type {\n",
              "        vertical-align: middle;\n",
              "    }\n",
              "\n",
              "    .dataframe tbody tr th {\n",
              "        vertical-align: top;\n",
              "    }\n",
              "\n",
              "    .dataframe thead th {\n",
              "        text-align: right;\n",
              "    }\n",
              "</style>\n",
              "<table border=\"1\" class=\"dataframe\">\n",
              "  <thead>\n",
              "    <tr style=\"text-align: right;\">\n",
              "      <th></th>\n",
              "      <th>item</th>\n",
              "      <th>value</th>\n",
              "    </tr>\n",
              "  </thead>\n",
              "  <tbody>\n",
              "    <tr>\n",
              "      <th>0</th>\n",
              "      <td>a</td>\n",
              "      <td>1</td>\n",
              "    </tr>\n",
              "    <tr>\n",
              "      <th>1</th>\n",
              "      <td>b</td>\n",
              "      <td>2</td>\n",
              "    </tr>\n",
              "    <tr>\n",
              "      <th>2</th>\n",
              "      <td>c</td>\n",
              "      <td>3</td>\n",
              "    </tr>\n",
              "    <tr>\n",
              "      <th>3</th>\n",
              "      <td>d</td>\n",
              "      <td>5</td>\n",
              "    </tr>\n",
              "    <tr>\n",
              "      <th>0</th>\n",
              "      <td>e</td>\n",
              "      <td>5</td>\n",
              "    </tr>\n",
              "    <tr>\n",
              "      <th>1</th>\n",
              "      <td>f</td>\n",
              "      <td>6</td>\n",
              "    </tr>\n",
              "    <tr>\n",
              "      <th>2</th>\n",
              "      <td>g</td>\n",
              "      <td>7</td>\n",
              "    </tr>\n",
              "    <tr>\n",
              "      <th>3</th>\n",
              "      <td>h</td>\n",
              "      <td>8</td>\n",
              "    </tr>\n",
              "  </tbody>\n",
              "</table>\n",
              "</div>"
            ],
            "text/plain": [
              "  item  value\n",
              "0    a      1\n",
              "1    b      2\n",
              "2    c      3\n",
              "3    d      5\n",
              "0    e      5\n",
              "1    f      6\n",
              "2    g      7\n",
              "3    h      8"
            ]
          },
          "metadata": {
            "tags": []
          },
          "execution_count": 80
        }
      ]
    },
    {
      "cell_type": "code",
      "metadata": {
        "id": "X9IJQX7DebMH",
        "colab": {
          "base_uri": "https://localhost:8080/"
        },
        "outputId": "c99db726-ad37-49a6-e84a-4005672fe7ac"
      },
      "source": [
        "import pandas as pd\n",
        "df1=pd.DataFrame({'item':['a','b','c','d'],'value':[1,2,3,5]})\n",
        "df2=pd.DataFrame({'item':['e','f','g','h'],'value':[6,7,8,9]})\n",
        "print(df1)\n",
        "print(df2)"
      ],
      "execution_count": 81,
      "outputs": [
        {
          "output_type": "stream",
          "text": [
            "  item  value\n",
            "0    a      1\n",
            "1    b      2\n",
            "2    c      3\n",
            "3    d      5\n",
            "  item  value\n",
            "0    e      6\n",
            "1    f      7\n",
            "2    g      8\n",
            "3    h      9\n"
          ],
          "name": "stdout"
        }
      ]
    },
    {
      "cell_type": "code",
      "metadata": {
        "id": "d2nCiZqDerzO",
        "colab": {
          "base_uri": "https://localhost:8080/",
          "height": 284
        },
        "outputId": "2a26c7a9-da76-49ee-e962-37946524f981"
      },
      "source": [
        "pd.concat([df1,df2])"
      ],
      "execution_count": 82,
      "outputs": [
        {
          "output_type": "execute_result",
          "data": {
            "text/html": [
              "<div>\n",
              "<style scoped>\n",
              "    .dataframe tbody tr th:only-of-type {\n",
              "        vertical-align: middle;\n",
              "    }\n",
              "\n",
              "    .dataframe tbody tr th {\n",
              "        vertical-align: top;\n",
              "    }\n",
              "\n",
              "    .dataframe thead th {\n",
              "        text-align: right;\n",
              "    }\n",
              "</style>\n",
              "<table border=\"1\" class=\"dataframe\">\n",
              "  <thead>\n",
              "    <tr style=\"text-align: right;\">\n",
              "      <th></th>\n",
              "      <th>item</th>\n",
              "      <th>value</th>\n",
              "    </tr>\n",
              "  </thead>\n",
              "  <tbody>\n",
              "    <tr>\n",
              "      <th>0</th>\n",
              "      <td>a</td>\n",
              "      <td>1</td>\n",
              "    </tr>\n",
              "    <tr>\n",
              "      <th>1</th>\n",
              "      <td>b</td>\n",
              "      <td>2</td>\n",
              "    </tr>\n",
              "    <tr>\n",
              "      <th>2</th>\n",
              "      <td>c</td>\n",
              "      <td>3</td>\n",
              "    </tr>\n",
              "    <tr>\n",
              "      <th>3</th>\n",
              "      <td>d</td>\n",
              "      <td>5</td>\n",
              "    </tr>\n",
              "    <tr>\n",
              "      <th>0</th>\n",
              "      <td>e</td>\n",
              "      <td>6</td>\n",
              "    </tr>\n",
              "    <tr>\n",
              "      <th>1</th>\n",
              "      <td>f</td>\n",
              "      <td>7</td>\n",
              "    </tr>\n",
              "    <tr>\n",
              "      <th>2</th>\n",
              "      <td>g</td>\n",
              "      <td>8</td>\n",
              "    </tr>\n",
              "    <tr>\n",
              "      <th>3</th>\n",
              "      <td>h</td>\n",
              "      <td>9</td>\n",
              "    </tr>\n",
              "  </tbody>\n",
              "</table>\n",
              "</div>"
            ],
            "text/plain": [
              "  item  value\n",
              "0    a      1\n",
              "1    b      2\n",
              "2    c      3\n",
              "3    d      5\n",
              "0    e      6\n",
              "1    f      7\n",
              "2    g      8\n",
              "3    h      9"
            ]
          },
          "metadata": {
            "tags": []
          },
          "execution_count": 82
        }
      ]
    },
    {
      "cell_type": "code",
      "metadata": {
        "id": "5ZszfFgmewLE",
        "colab": {
          "base_uri": "https://localhost:8080/",
          "height": 284
        },
        "outputId": "a6ea2f09-aee0-436e-dc45-51d113d81fe2"
      },
      "source": [
        "df1=pd.DataFrame({'item':['a','b','c','d'],'value':[1,2,3,5]})\n",
        "df2=pd.DataFrame({'item':['e','f','g','h'],'quantity':[5,6,7,8]})\n",
        "pd.concat([df1,df2])"
      ],
      "execution_count": 83,
      "outputs": [
        {
          "output_type": "execute_result",
          "data": {
            "text/html": [
              "<div>\n",
              "<style scoped>\n",
              "    .dataframe tbody tr th:only-of-type {\n",
              "        vertical-align: middle;\n",
              "    }\n",
              "\n",
              "    .dataframe tbody tr th {\n",
              "        vertical-align: top;\n",
              "    }\n",
              "\n",
              "    .dataframe thead th {\n",
              "        text-align: right;\n",
              "    }\n",
              "</style>\n",
              "<table border=\"1\" class=\"dataframe\">\n",
              "  <thead>\n",
              "    <tr style=\"text-align: right;\">\n",
              "      <th></th>\n",
              "      <th>item</th>\n",
              "      <th>value</th>\n",
              "      <th>quantity</th>\n",
              "    </tr>\n",
              "  </thead>\n",
              "  <tbody>\n",
              "    <tr>\n",
              "      <th>0</th>\n",
              "      <td>a</td>\n",
              "      <td>1.0</td>\n",
              "      <td>NaN</td>\n",
              "    </tr>\n",
              "    <tr>\n",
              "      <th>1</th>\n",
              "      <td>b</td>\n",
              "      <td>2.0</td>\n",
              "      <td>NaN</td>\n",
              "    </tr>\n",
              "    <tr>\n",
              "      <th>2</th>\n",
              "      <td>c</td>\n",
              "      <td>3.0</td>\n",
              "      <td>NaN</td>\n",
              "    </tr>\n",
              "    <tr>\n",
              "      <th>3</th>\n",
              "      <td>d</td>\n",
              "      <td>5.0</td>\n",
              "      <td>NaN</td>\n",
              "    </tr>\n",
              "    <tr>\n",
              "      <th>0</th>\n",
              "      <td>e</td>\n",
              "      <td>NaN</td>\n",
              "      <td>5.0</td>\n",
              "    </tr>\n",
              "    <tr>\n",
              "      <th>1</th>\n",
              "      <td>f</td>\n",
              "      <td>NaN</td>\n",
              "      <td>6.0</td>\n",
              "    </tr>\n",
              "    <tr>\n",
              "      <th>2</th>\n",
              "      <td>g</td>\n",
              "      <td>NaN</td>\n",
              "      <td>7.0</td>\n",
              "    </tr>\n",
              "    <tr>\n",
              "      <th>3</th>\n",
              "      <td>h</td>\n",
              "      <td>NaN</td>\n",
              "      <td>8.0</td>\n",
              "    </tr>\n",
              "  </tbody>\n",
              "</table>\n",
              "</div>"
            ],
            "text/plain": [
              "  item  value  quantity\n",
              "0    a    1.0       NaN\n",
              "1    b    2.0       NaN\n",
              "2    c    3.0       NaN\n",
              "3    d    5.0       NaN\n",
              "0    e    NaN       5.0\n",
              "1    f    NaN       6.0\n",
              "2    g    NaN       7.0\n",
              "3    h    NaN       8.0"
            ]
          },
          "metadata": {
            "tags": []
          },
          "execution_count": 83
        }
      ]
    },
    {
      "cell_type": "code",
      "metadata": {
        "id": "1eNFnQEgfiWg",
        "colab": {
          "base_uri": "https://localhost:8080/",
          "height": 284
        },
        "outputId": "b1cb11a5-aaaf-4383-f341-06af2ef6ff4a"
      },
      "source": [
        "df1=pd.DataFrame({'item':['a','b','c','d'],'value':[1,2,3,5]})\n",
        "df2=pd.DataFrame({'item':['e','f','g','h'],'quantity':[5,6,7,8]})\n",
        "pd.concat([df1,df2]).reset_index()"
      ],
      "execution_count": 84,
      "outputs": [
        {
          "output_type": "execute_result",
          "data": {
            "text/html": [
              "<div>\n",
              "<style scoped>\n",
              "    .dataframe tbody tr th:only-of-type {\n",
              "        vertical-align: middle;\n",
              "    }\n",
              "\n",
              "    .dataframe tbody tr th {\n",
              "        vertical-align: top;\n",
              "    }\n",
              "\n",
              "    .dataframe thead th {\n",
              "        text-align: right;\n",
              "    }\n",
              "</style>\n",
              "<table border=\"1\" class=\"dataframe\">\n",
              "  <thead>\n",
              "    <tr style=\"text-align: right;\">\n",
              "      <th></th>\n",
              "      <th>index</th>\n",
              "      <th>item</th>\n",
              "      <th>value</th>\n",
              "      <th>quantity</th>\n",
              "    </tr>\n",
              "  </thead>\n",
              "  <tbody>\n",
              "    <tr>\n",
              "      <th>0</th>\n",
              "      <td>0</td>\n",
              "      <td>a</td>\n",
              "      <td>1.0</td>\n",
              "      <td>NaN</td>\n",
              "    </tr>\n",
              "    <tr>\n",
              "      <th>1</th>\n",
              "      <td>1</td>\n",
              "      <td>b</td>\n",
              "      <td>2.0</td>\n",
              "      <td>NaN</td>\n",
              "    </tr>\n",
              "    <tr>\n",
              "      <th>2</th>\n",
              "      <td>2</td>\n",
              "      <td>c</td>\n",
              "      <td>3.0</td>\n",
              "      <td>NaN</td>\n",
              "    </tr>\n",
              "    <tr>\n",
              "      <th>3</th>\n",
              "      <td>3</td>\n",
              "      <td>d</td>\n",
              "      <td>5.0</td>\n",
              "      <td>NaN</td>\n",
              "    </tr>\n",
              "    <tr>\n",
              "      <th>4</th>\n",
              "      <td>0</td>\n",
              "      <td>e</td>\n",
              "      <td>NaN</td>\n",
              "      <td>5.0</td>\n",
              "    </tr>\n",
              "    <tr>\n",
              "      <th>5</th>\n",
              "      <td>1</td>\n",
              "      <td>f</td>\n",
              "      <td>NaN</td>\n",
              "      <td>6.0</td>\n",
              "    </tr>\n",
              "    <tr>\n",
              "      <th>6</th>\n",
              "      <td>2</td>\n",
              "      <td>g</td>\n",
              "      <td>NaN</td>\n",
              "      <td>7.0</td>\n",
              "    </tr>\n",
              "    <tr>\n",
              "      <th>7</th>\n",
              "      <td>3</td>\n",
              "      <td>h</td>\n",
              "      <td>NaN</td>\n",
              "      <td>8.0</td>\n",
              "    </tr>\n",
              "  </tbody>\n",
              "</table>\n",
              "</div>"
            ],
            "text/plain": [
              "   index item  value  quantity\n",
              "0      0    a    1.0       NaN\n",
              "1      1    b    2.0       NaN\n",
              "2      2    c    3.0       NaN\n",
              "3      3    d    5.0       NaN\n",
              "4      0    e    NaN       5.0\n",
              "5      1    f    NaN       6.0\n",
              "6      2    g    NaN       7.0\n",
              "7      3    h    NaN       8.0"
            ]
          },
          "metadata": {
            "tags": []
          },
          "execution_count": 84
        }
      ]
    },
    {
      "cell_type": "code",
      "metadata": {
        "id": "hpPXjuLBgOz_",
        "colab": {
          "base_uri": "https://localhost:8080/",
          "height": 166
        },
        "outputId": "2d80c9ed-2586-4f9a-c49b-c49745e0d1f5"
      },
      "source": [
        "pd.concat([df1,df2], axis=1)"
      ],
      "execution_count": 85,
      "outputs": [
        {
          "output_type": "execute_result",
          "data": {
            "text/html": [
              "<div>\n",
              "<style scoped>\n",
              "    .dataframe tbody tr th:only-of-type {\n",
              "        vertical-align: middle;\n",
              "    }\n",
              "\n",
              "    .dataframe tbody tr th {\n",
              "        vertical-align: top;\n",
              "    }\n",
              "\n",
              "    .dataframe thead th {\n",
              "        text-align: right;\n",
              "    }\n",
              "</style>\n",
              "<table border=\"1\" class=\"dataframe\">\n",
              "  <thead>\n",
              "    <tr style=\"text-align: right;\">\n",
              "      <th></th>\n",
              "      <th>item</th>\n",
              "      <th>value</th>\n",
              "      <th>item</th>\n",
              "      <th>quantity</th>\n",
              "    </tr>\n",
              "  </thead>\n",
              "  <tbody>\n",
              "    <tr>\n",
              "      <th>0</th>\n",
              "      <td>a</td>\n",
              "      <td>1</td>\n",
              "      <td>e</td>\n",
              "      <td>5</td>\n",
              "    </tr>\n",
              "    <tr>\n",
              "      <th>1</th>\n",
              "      <td>b</td>\n",
              "      <td>2</td>\n",
              "      <td>f</td>\n",
              "      <td>6</td>\n",
              "    </tr>\n",
              "    <tr>\n",
              "      <th>2</th>\n",
              "      <td>c</td>\n",
              "      <td>3</td>\n",
              "      <td>g</td>\n",
              "      <td>7</td>\n",
              "    </tr>\n",
              "    <tr>\n",
              "      <th>3</th>\n",
              "      <td>d</td>\n",
              "      <td>5</td>\n",
              "      <td>h</td>\n",
              "      <td>8</td>\n",
              "    </tr>\n",
              "  </tbody>\n",
              "</table>\n",
              "</div>"
            ],
            "text/plain": [
              "  item  value item  quantity\n",
              "0    a      1    e         5\n",
              "1    b      2    f         6\n",
              "2    c      3    g         7\n",
              "3    d      5    h         8"
            ]
          },
          "metadata": {
            "tags": []
          },
          "execution_count": 85
        }
      ]
    },
    {
      "cell_type": "markdown",
      "metadata": {
        "id": "0pu1CRY3g2uR"
      },
      "source": [
        "*also use append to add multiple DataFrame to another*"
      ]
    },
    {
      "cell_type": "code",
      "metadata": {
        "id": "fR9GZnSOggI_",
        "colab": {
          "base_uri": "https://localhost:8080/",
          "height": 402
        },
        "outputId": "f0984008-914e-4b78-f695-061043f72d89"
      },
      "source": [
        "df1=pd.DataFrame({'item':['a','b','c','d'],'value':[1,2,3,5]})\n",
        "df2=pd.DataFrame({'item':['e','f','g','h'],'quantity':[5,6,7,8]})\n",
        "df3=pd.DataFrame({'item':['i','j','k','l'],'quantity':[3,7,4,25]})\n",
        "df1.append([df2,df3])"
      ],
      "execution_count": 88,
      "outputs": [
        {
          "output_type": "execute_result",
          "data": {
            "text/html": [
              "<div>\n",
              "<style scoped>\n",
              "    .dataframe tbody tr th:only-of-type {\n",
              "        vertical-align: middle;\n",
              "    }\n",
              "\n",
              "    .dataframe tbody tr th {\n",
              "        vertical-align: top;\n",
              "    }\n",
              "\n",
              "    .dataframe thead th {\n",
              "        text-align: right;\n",
              "    }\n",
              "</style>\n",
              "<table border=\"1\" class=\"dataframe\">\n",
              "  <thead>\n",
              "    <tr style=\"text-align: right;\">\n",
              "      <th></th>\n",
              "      <th>item</th>\n",
              "      <th>value</th>\n",
              "      <th>quantity</th>\n",
              "    </tr>\n",
              "  </thead>\n",
              "  <tbody>\n",
              "    <tr>\n",
              "      <th>0</th>\n",
              "      <td>a</td>\n",
              "      <td>1.0</td>\n",
              "      <td>NaN</td>\n",
              "    </tr>\n",
              "    <tr>\n",
              "      <th>1</th>\n",
              "      <td>b</td>\n",
              "      <td>2.0</td>\n",
              "      <td>NaN</td>\n",
              "    </tr>\n",
              "    <tr>\n",
              "      <th>2</th>\n",
              "      <td>c</td>\n",
              "      <td>3.0</td>\n",
              "      <td>NaN</td>\n",
              "    </tr>\n",
              "    <tr>\n",
              "      <th>3</th>\n",
              "      <td>d</td>\n",
              "      <td>5.0</td>\n",
              "      <td>NaN</td>\n",
              "    </tr>\n",
              "    <tr>\n",
              "      <th>0</th>\n",
              "      <td>e</td>\n",
              "      <td>NaN</td>\n",
              "      <td>5.0</td>\n",
              "    </tr>\n",
              "    <tr>\n",
              "      <th>1</th>\n",
              "      <td>f</td>\n",
              "      <td>NaN</td>\n",
              "      <td>6.0</td>\n",
              "    </tr>\n",
              "    <tr>\n",
              "      <th>2</th>\n",
              "      <td>g</td>\n",
              "      <td>NaN</td>\n",
              "      <td>7.0</td>\n",
              "    </tr>\n",
              "    <tr>\n",
              "      <th>3</th>\n",
              "      <td>h</td>\n",
              "      <td>NaN</td>\n",
              "      <td>8.0</td>\n",
              "    </tr>\n",
              "    <tr>\n",
              "      <th>0</th>\n",
              "      <td>i</td>\n",
              "      <td>NaN</td>\n",
              "      <td>3.0</td>\n",
              "    </tr>\n",
              "    <tr>\n",
              "      <th>1</th>\n",
              "      <td>j</td>\n",
              "      <td>NaN</td>\n",
              "      <td>7.0</td>\n",
              "    </tr>\n",
              "    <tr>\n",
              "      <th>2</th>\n",
              "      <td>k</td>\n",
              "      <td>NaN</td>\n",
              "      <td>4.0</td>\n",
              "    </tr>\n",
              "    <tr>\n",
              "      <th>3</th>\n",
              "      <td>l</td>\n",
              "      <td>NaN</td>\n",
              "      <td>25.0</td>\n",
              "    </tr>\n",
              "  </tbody>\n",
              "</table>\n",
              "</div>"
            ],
            "text/plain": [
              "  item  value  quantity\n",
              "0    a    1.0       NaN\n",
              "1    b    2.0       NaN\n",
              "2    c    3.0       NaN\n",
              "3    d    5.0       NaN\n",
              "0    e    NaN       5.0\n",
              "1    f    NaN       6.0\n",
              "2    g    NaN       7.0\n",
              "3    h    NaN       8.0\n",
              "0    i    NaN       3.0\n",
              "1    j    NaN       7.0\n",
              "2    k    NaN       4.0\n",
              "3    l    NaN      25.0"
            ]
          },
          "metadata": {
            "tags": []
          },
          "execution_count": 88
        }
      ]
    },
    {
      "cell_type": "code",
      "metadata": {
        "id": "jwf2MjQPhoUT",
        "colab": {
          "base_uri": "https://localhost:8080/",
          "height": 47
        },
        "outputId": "9aaa076c-d09e-48bd-db66-bc7621e6fe75"
      },
      "source": [
        "dfa=pd.DataFrame({'key':['a','b','c','d'],'A':[1,2,3,5]})\n",
        "dfb=pd.DataFrame({'key':['e','f','g','h'],'B':[5,6,7,8]})\n",
        "pd.merge(dfa,dfb, on='key')\n"
      ],
      "execution_count": 89,
      "outputs": [
        {
          "output_type": "execute_result",
          "data": {
            "text/html": [
              "<div>\n",
              "<style scoped>\n",
              "    .dataframe tbody tr th:only-of-type {\n",
              "        vertical-align: middle;\n",
              "    }\n",
              "\n",
              "    .dataframe tbody tr th {\n",
              "        vertical-align: top;\n",
              "    }\n",
              "\n",
              "    .dataframe thead th {\n",
              "        text-align: right;\n",
              "    }\n",
              "</style>\n",
              "<table border=\"1\" class=\"dataframe\">\n",
              "  <thead>\n",
              "    <tr style=\"text-align: right;\">\n",
              "      <th></th>\n",
              "      <th>key</th>\n",
              "      <th>A</th>\n",
              "      <th>B</th>\n",
              "    </tr>\n",
              "  </thead>\n",
              "  <tbody>\n",
              "  </tbody>\n",
              "</table>\n",
              "</div>"
            ],
            "text/plain": [
              "Empty DataFrame\n",
              "Columns: [key, A, B]\n",
              "Index: []"
            ]
          },
          "metadata": {
            "tags": []
          },
          "execution_count": 89
        }
      ]
    },
    {
      "cell_type": "code",
      "metadata": {
        "id": "jfgAwXDViZW0",
        "colab": {
          "base_uri": "https://localhost:8080/",
          "height": 166
        },
        "outputId": "dc9e915f-6f4c-46e5-9850-805b08bed79d"
      },
      "source": [
        "dfa=pd.DataFrame({'key':['k0','k1','k2','k3'],'A':['A0','A1','A2','A3'],'B':['B0','B1','B2','B3']})\n",
        "dfb=pd.DataFrame({'key':['k0','k1','k2','k3'],'C':['C0','C1','C2','C3'],'D':['D0','D1','D2','D3']})\n",
        "pd.merge(dfa,dfb, on='key')\n"
      ],
      "execution_count": 90,
      "outputs": [
        {
          "output_type": "execute_result",
          "data": {
            "text/html": [
              "<div>\n",
              "<style scoped>\n",
              "    .dataframe tbody tr th:only-of-type {\n",
              "        vertical-align: middle;\n",
              "    }\n",
              "\n",
              "    .dataframe tbody tr th {\n",
              "        vertical-align: top;\n",
              "    }\n",
              "\n",
              "    .dataframe thead th {\n",
              "        text-align: right;\n",
              "    }\n",
              "</style>\n",
              "<table border=\"1\" class=\"dataframe\">\n",
              "  <thead>\n",
              "    <tr style=\"text-align: right;\">\n",
              "      <th></th>\n",
              "      <th>key</th>\n",
              "      <th>A</th>\n",
              "      <th>B</th>\n",
              "      <th>C</th>\n",
              "      <th>D</th>\n",
              "    </tr>\n",
              "  </thead>\n",
              "  <tbody>\n",
              "    <tr>\n",
              "      <th>0</th>\n",
              "      <td>k0</td>\n",
              "      <td>A0</td>\n",
              "      <td>B0</td>\n",
              "      <td>C0</td>\n",
              "      <td>D0</td>\n",
              "    </tr>\n",
              "    <tr>\n",
              "      <th>1</th>\n",
              "      <td>k1</td>\n",
              "      <td>A1</td>\n",
              "      <td>B1</td>\n",
              "      <td>C1</td>\n",
              "      <td>D1</td>\n",
              "    </tr>\n",
              "    <tr>\n",
              "      <th>2</th>\n",
              "      <td>k2</td>\n",
              "      <td>A2</td>\n",
              "      <td>B2</td>\n",
              "      <td>C2</td>\n",
              "      <td>D2</td>\n",
              "    </tr>\n",
              "    <tr>\n",
              "      <th>3</th>\n",
              "      <td>k3</td>\n",
              "      <td>A3</td>\n",
              "      <td>B3</td>\n",
              "      <td>C3</td>\n",
              "      <td>D3</td>\n",
              "    </tr>\n",
              "  </tbody>\n",
              "</table>\n",
              "</div>"
            ],
            "text/plain": [
              "  key   A   B   C   D\n",
              "0  k0  A0  B0  C0  D0\n",
              "1  k1  A1  B1  C1  D1\n",
              "2  k2  A2  B2  C2  D2\n",
              "3  k3  A3  B3  C3  D3"
            ]
          },
          "metadata": {
            "tags": []
          },
          "execution_count": 90
        }
      ]
    },
    {
      "cell_type": "code",
      "metadata": {
        "id": "V6r_0eCAjdli",
        "colab": {
          "base_uri": "https://localhost:8080/",
          "height": 166
        },
        "outputId": "97e1d720-fd26-49d4-fe32-51ffd62ca272"
      },
      "source": [
        "dfa=pd.DataFrame({'key':['k0','k1','k2','k3'],'A':['A0','A1','A2','A3'],'B':['B0','B1','B2','B3']})\n",
        "dfb=pd.DataFrame({'key':['k0','k1','k2','k3'],'C':['C0','C1','C2','C3'],'D':['D0','D1','D2','D3']})\n",
        "pd.merge(dfa,dfb,how='left', on='key')\n"
      ],
      "execution_count": 91,
      "outputs": [
        {
          "output_type": "execute_result",
          "data": {
            "text/html": [
              "<div>\n",
              "<style scoped>\n",
              "    .dataframe tbody tr th:only-of-type {\n",
              "        vertical-align: middle;\n",
              "    }\n",
              "\n",
              "    .dataframe tbody tr th {\n",
              "        vertical-align: top;\n",
              "    }\n",
              "\n",
              "    .dataframe thead th {\n",
              "        text-align: right;\n",
              "    }\n",
              "</style>\n",
              "<table border=\"1\" class=\"dataframe\">\n",
              "  <thead>\n",
              "    <tr style=\"text-align: right;\">\n",
              "      <th></th>\n",
              "      <th>key</th>\n",
              "      <th>A</th>\n",
              "      <th>B</th>\n",
              "      <th>C</th>\n",
              "      <th>D</th>\n",
              "    </tr>\n",
              "  </thead>\n",
              "  <tbody>\n",
              "    <tr>\n",
              "      <th>0</th>\n",
              "      <td>k0</td>\n",
              "      <td>A0</td>\n",
              "      <td>B0</td>\n",
              "      <td>C0</td>\n",
              "      <td>D0</td>\n",
              "    </tr>\n",
              "    <tr>\n",
              "      <th>1</th>\n",
              "      <td>k1</td>\n",
              "      <td>A1</td>\n",
              "      <td>B1</td>\n",
              "      <td>C1</td>\n",
              "      <td>D1</td>\n",
              "    </tr>\n",
              "    <tr>\n",
              "      <th>2</th>\n",
              "      <td>k2</td>\n",
              "      <td>A2</td>\n",
              "      <td>B2</td>\n",
              "      <td>C2</td>\n",
              "      <td>D2</td>\n",
              "    </tr>\n",
              "    <tr>\n",
              "      <th>3</th>\n",
              "      <td>k3</td>\n",
              "      <td>A3</td>\n",
              "      <td>B3</td>\n",
              "      <td>C3</td>\n",
              "      <td>D3</td>\n",
              "    </tr>\n",
              "  </tbody>\n",
              "</table>\n",
              "</div>"
            ],
            "text/plain": [
              "  key   A   B   C   D\n",
              "0  k0  A0  B0  C0  D0\n",
              "1  k1  A1  B1  C1  D1\n",
              "2  k2  A2  B2  C2  D2\n",
              "3  k3  A3  B3  C3  D3"
            ]
          },
          "metadata": {
            "tags": []
          },
          "execution_count": 91
        }
      ]
    },
    {
      "cell_type": "code",
      "metadata": {
        "id": "cvr0NyNWjzHt",
        "colab": {
          "base_uri": "https://localhost:8080/",
          "height": 166
        },
        "outputId": "97370098-4a62-4c2c-db0f-5e796f9bcc1c"
      },
      "source": [
        "dfa=pd.DataFrame({'key':['k0','k1','k2','k3'],'A':['A0','A1','A2','A3'],'B':['B0','B1','B2','B3']})\n",
        "dfb=pd.DataFrame({'key':['k0','k1','k2','k3'],'C':['C0','C1','C2','C3'],'D':['D0','D1','D2','D3']})\n",
        "pd.merge(dfa,dfb,how='right', on='key')\n"
      ],
      "execution_count": 92,
      "outputs": [
        {
          "output_type": "execute_result",
          "data": {
            "text/html": [
              "<div>\n",
              "<style scoped>\n",
              "    .dataframe tbody tr th:only-of-type {\n",
              "        vertical-align: middle;\n",
              "    }\n",
              "\n",
              "    .dataframe tbody tr th {\n",
              "        vertical-align: top;\n",
              "    }\n",
              "\n",
              "    .dataframe thead th {\n",
              "        text-align: right;\n",
              "    }\n",
              "</style>\n",
              "<table border=\"1\" class=\"dataframe\">\n",
              "  <thead>\n",
              "    <tr style=\"text-align: right;\">\n",
              "      <th></th>\n",
              "      <th>key</th>\n",
              "      <th>A</th>\n",
              "      <th>B</th>\n",
              "      <th>C</th>\n",
              "      <th>D</th>\n",
              "    </tr>\n",
              "  </thead>\n",
              "  <tbody>\n",
              "    <tr>\n",
              "      <th>0</th>\n",
              "      <td>k0</td>\n",
              "      <td>A0</td>\n",
              "      <td>B0</td>\n",
              "      <td>C0</td>\n",
              "      <td>D0</td>\n",
              "    </tr>\n",
              "    <tr>\n",
              "      <th>1</th>\n",
              "      <td>k1</td>\n",
              "      <td>A1</td>\n",
              "      <td>B1</td>\n",
              "      <td>C1</td>\n",
              "      <td>D1</td>\n",
              "    </tr>\n",
              "    <tr>\n",
              "      <th>2</th>\n",
              "      <td>k2</td>\n",
              "      <td>A2</td>\n",
              "      <td>B2</td>\n",
              "      <td>C2</td>\n",
              "      <td>D2</td>\n",
              "    </tr>\n",
              "    <tr>\n",
              "      <th>3</th>\n",
              "      <td>k3</td>\n",
              "      <td>A3</td>\n",
              "      <td>B3</td>\n",
              "      <td>C3</td>\n",
              "      <td>D3</td>\n",
              "    </tr>\n",
              "  </tbody>\n",
              "</table>\n",
              "</div>"
            ],
            "text/plain": [
              "  key   A   B   C   D\n",
              "0  k0  A0  B0  C0  D0\n",
              "1  k1  A1  B1  C1  D1\n",
              "2  k2  A2  B2  C2  D2\n",
              "3  k3  A3  B3  C3  D3"
            ]
          },
          "metadata": {
            "tags": []
          },
          "execution_count": 92
        }
      ]
    },
    {
      "cell_type": "code",
      "metadata": {
        "id": "t71jRlm9j5Zi",
        "colab": {
          "base_uri": "https://localhost:8080/",
          "height": 166
        },
        "outputId": "206a1385-0d14-461b-dbe2-75d99ef4de30"
      },
      "source": [
        "dfa=pd.DataFrame({'key':['k0','k1','k2','k3'],'A':['A0','A1','A2','A3'],'B':['B0','B1','B2','B3']})\n",
        "dfb=pd.DataFrame({'key':['k0','k1','k2','k3'],'C':['C0','C1','C2','C3'],'D':['D0','D1','D2','D3']})\n",
        "pd.merge(dfa,dfb,how='inner', on='key')\n"
      ],
      "execution_count": 93,
      "outputs": [
        {
          "output_type": "execute_result",
          "data": {
            "text/html": [
              "<div>\n",
              "<style scoped>\n",
              "    .dataframe tbody tr th:only-of-type {\n",
              "        vertical-align: middle;\n",
              "    }\n",
              "\n",
              "    .dataframe tbody tr th {\n",
              "        vertical-align: top;\n",
              "    }\n",
              "\n",
              "    .dataframe thead th {\n",
              "        text-align: right;\n",
              "    }\n",
              "</style>\n",
              "<table border=\"1\" class=\"dataframe\">\n",
              "  <thead>\n",
              "    <tr style=\"text-align: right;\">\n",
              "      <th></th>\n",
              "      <th>key</th>\n",
              "      <th>A</th>\n",
              "      <th>B</th>\n",
              "      <th>C</th>\n",
              "      <th>D</th>\n",
              "    </tr>\n",
              "  </thead>\n",
              "  <tbody>\n",
              "    <tr>\n",
              "      <th>0</th>\n",
              "      <td>k0</td>\n",
              "      <td>A0</td>\n",
              "      <td>B0</td>\n",
              "      <td>C0</td>\n",
              "      <td>D0</td>\n",
              "    </tr>\n",
              "    <tr>\n",
              "      <th>1</th>\n",
              "      <td>k1</td>\n",
              "      <td>A1</td>\n",
              "      <td>B1</td>\n",
              "      <td>C1</td>\n",
              "      <td>D1</td>\n",
              "    </tr>\n",
              "    <tr>\n",
              "      <th>2</th>\n",
              "      <td>k2</td>\n",
              "      <td>A2</td>\n",
              "      <td>B2</td>\n",
              "      <td>C2</td>\n",
              "      <td>D2</td>\n",
              "    </tr>\n",
              "    <tr>\n",
              "      <th>3</th>\n",
              "      <td>k3</td>\n",
              "      <td>A3</td>\n",
              "      <td>B3</td>\n",
              "      <td>C3</td>\n",
              "      <td>D3</td>\n",
              "    </tr>\n",
              "  </tbody>\n",
              "</table>\n",
              "</div>"
            ],
            "text/plain": [
              "  key   A   B   C   D\n",
              "0  k0  A0  B0  C0  D0\n",
              "1  k1  A1  B1  C1  D1\n",
              "2  k2  A2  B2  C2  D2\n",
              "3  k3  A3  B3  C3  D3"
            ]
          },
          "metadata": {
            "tags": []
          },
          "execution_count": 93
        }
      ]
    },
    {
      "cell_type": "code",
      "metadata": {
        "id": "7-lA8fAjj-vF"
      },
      "source": [
        "left=pd.DataFrame({'A':['k0','k1','k2','k3'],'b':['A0','A1','A2','A3']},index=['B0','B1','B2','B3'])\n"
      ],
      "execution_count": 94,
      "outputs": []
    },
    {
      "cell_type": "code",
      "metadata": {
        "id": "QACqXRF5kvKv",
        "colab": {
          "base_uri": "https://localhost:8080/",
          "height": 166
        },
        "outputId": "0ac31756-a47a-4b1e-d736-cc11e91dc527"
      },
      "source": [
        "left"
      ],
      "execution_count": 95,
      "outputs": [
        {
          "output_type": "execute_result",
          "data": {
            "text/html": [
              "<div>\n",
              "<style scoped>\n",
              "    .dataframe tbody tr th:only-of-type {\n",
              "        vertical-align: middle;\n",
              "    }\n",
              "\n",
              "    .dataframe tbody tr th {\n",
              "        vertical-align: top;\n",
              "    }\n",
              "\n",
              "    .dataframe thead th {\n",
              "        text-align: right;\n",
              "    }\n",
              "</style>\n",
              "<table border=\"1\" class=\"dataframe\">\n",
              "  <thead>\n",
              "    <tr style=\"text-align: right;\">\n",
              "      <th></th>\n",
              "      <th>A</th>\n",
              "      <th>b</th>\n",
              "    </tr>\n",
              "  </thead>\n",
              "  <tbody>\n",
              "    <tr>\n",
              "      <th>B0</th>\n",
              "      <td>k0</td>\n",
              "      <td>A0</td>\n",
              "    </tr>\n",
              "    <tr>\n",
              "      <th>B1</th>\n",
              "      <td>k1</td>\n",
              "      <td>A1</td>\n",
              "    </tr>\n",
              "    <tr>\n",
              "      <th>B2</th>\n",
              "      <td>k2</td>\n",
              "      <td>A2</td>\n",
              "    </tr>\n",
              "    <tr>\n",
              "      <th>B3</th>\n",
              "      <td>k3</td>\n",
              "      <td>A3</td>\n",
              "    </tr>\n",
              "  </tbody>\n",
              "</table>\n",
              "</div>"
            ],
            "text/plain": [
              "     A   b\n",
              "B0  k0  A0\n",
              "B1  k1  A1\n",
              "B2  k2  A2\n",
              "B3  k3  A3"
            ]
          },
          "metadata": {
            "tags": []
          },
          "execution_count": 95
        }
      ]
    },
    {
      "cell_type": "code",
      "metadata": {
        "id": "_GSgZ3c1k6Ez",
        "colab": {
          "base_uri": "https://localhost:8080/",
          "height": 136
        },
        "outputId": "c73189b3-432b-4f36-d2a1-4b65da636f9c"
      },
      "source": [
        "left=pd.DataFrame({'A':['A0','A1','A2'],'b':['B0','B1','B2']},index=['K0','K1','K2'])\n",
        "left"
      ],
      "execution_count": 96,
      "outputs": [
        {
          "output_type": "execute_result",
          "data": {
            "text/html": [
              "<div>\n",
              "<style scoped>\n",
              "    .dataframe tbody tr th:only-of-type {\n",
              "        vertical-align: middle;\n",
              "    }\n",
              "\n",
              "    .dataframe tbody tr th {\n",
              "        vertical-align: top;\n",
              "    }\n",
              "\n",
              "    .dataframe thead th {\n",
              "        text-align: right;\n",
              "    }\n",
              "</style>\n",
              "<table border=\"1\" class=\"dataframe\">\n",
              "  <thead>\n",
              "    <tr style=\"text-align: right;\">\n",
              "      <th></th>\n",
              "      <th>A</th>\n",
              "      <th>b</th>\n",
              "    </tr>\n",
              "  </thead>\n",
              "  <tbody>\n",
              "    <tr>\n",
              "      <th>K0</th>\n",
              "      <td>A0</td>\n",
              "      <td>B0</td>\n",
              "    </tr>\n",
              "    <tr>\n",
              "      <th>K1</th>\n",
              "      <td>A1</td>\n",
              "      <td>B1</td>\n",
              "    </tr>\n",
              "    <tr>\n",
              "      <th>K2</th>\n",
              "      <td>A2</td>\n",
              "      <td>B2</td>\n",
              "    </tr>\n",
              "  </tbody>\n",
              "</table>\n",
              "</div>"
            ],
            "text/plain": [
              "     A   b\n",
              "K0  A0  B0\n",
              "K1  A1  B1\n",
              "K2  A2  B2"
            ]
          },
          "metadata": {
            "tags": []
          },
          "execution_count": 96
        }
      ]
    },
    {
      "cell_type": "code",
      "metadata": {
        "id": "eO_xhX1llMBY",
        "colab": {
          "base_uri": "https://localhost:8080/",
          "height": 136
        },
        "outputId": "30cf3b3d-7034-42a4-a43c-17729703a137"
      },
      "source": [
        "right=pd.DataFrame({'c':['c0','c1','c2'],'d':['d0','d1','d2']},index=['K0','K1','K2'])\n",
        "right"
      ],
      "execution_count": 97,
      "outputs": [
        {
          "output_type": "execute_result",
          "data": {
            "text/html": [
              "<div>\n",
              "<style scoped>\n",
              "    .dataframe tbody tr th:only-of-type {\n",
              "        vertical-align: middle;\n",
              "    }\n",
              "\n",
              "    .dataframe tbody tr th {\n",
              "        vertical-align: top;\n",
              "    }\n",
              "\n",
              "    .dataframe thead th {\n",
              "        text-align: right;\n",
              "    }\n",
              "</style>\n",
              "<table border=\"1\" class=\"dataframe\">\n",
              "  <thead>\n",
              "    <tr style=\"text-align: right;\">\n",
              "      <th></th>\n",
              "      <th>c</th>\n",
              "      <th>d</th>\n",
              "    </tr>\n",
              "  </thead>\n",
              "  <tbody>\n",
              "    <tr>\n",
              "      <th>K0</th>\n",
              "      <td>c0</td>\n",
              "      <td>d0</td>\n",
              "    </tr>\n",
              "    <tr>\n",
              "      <th>K1</th>\n",
              "      <td>c1</td>\n",
              "      <td>d1</td>\n",
              "    </tr>\n",
              "    <tr>\n",
              "      <th>K2</th>\n",
              "      <td>c2</td>\n",
              "      <td>d2</td>\n",
              "    </tr>\n",
              "  </tbody>\n",
              "</table>\n",
              "</div>"
            ],
            "text/plain": [
              "     c   d\n",
              "K0  c0  d0\n",
              "K1  c1  d1\n",
              "K2  c2  d2"
            ]
          },
          "metadata": {
            "tags": []
          },
          "execution_count": 97
        }
      ]
    },
    {
      "cell_type": "code",
      "metadata": {
        "id": "hUY__LjNmHMx",
        "colab": {
          "base_uri": "https://localhost:8080/",
          "height": 136
        },
        "outputId": "2a174178-f679-4e15-d43b-5215e1a7133d"
      },
      "source": [
        "left.join(right)"
      ],
      "execution_count": 98,
      "outputs": [
        {
          "output_type": "execute_result",
          "data": {
            "text/html": [
              "<div>\n",
              "<style scoped>\n",
              "    .dataframe tbody tr th:only-of-type {\n",
              "        vertical-align: middle;\n",
              "    }\n",
              "\n",
              "    .dataframe tbody tr th {\n",
              "        vertical-align: top;\n",
              "    }\n",
              "\n",
              "    .dataframe thead th {\n",
              "        text-align: right;\n",
              "    }\n",
              "</style>\n",
              "<table border=\"1\" class=\"dataframe\">\n",
              "  <thead>\n",
              "    <tr style=\"text-align: right;\">\n",
              "      <th></th>\n",
              "      <th>A</th>\n",
              "      <th>b</th>\n",
              "      <th>c</th>\n",
              "      <th>d</th>\n",
              "    </tr>\n",
              "  </thead>\n",
              "  <tbody>\n",
              "    <tr>\n",
              "      <th>K0</th>\n",
              "      <td>A0</td>\n",
              "      <td>B0</td>\n",
              "      <td>c0</td>\n",
              "      <td>d0</td>\n",
              "    </tr>\n",
              "    <tr>\n",
              "      <th>K1</th>\n",
              "      <td>A1</td>\n",
              "      <td>B1</td>\n",
              "      <td>c1</td>\n",
              "      <td>d1</td>\n",
              "    </tr>\n",
              "    <tr>\n",
              "      <th>K2</th>\n",
              "      <td>A2</td>\n",
              "      <td>B2</td>\n",
              "      <td>c2</td>\n",
              "      <td>d2</td>\n",
              "    </tr>\n",
              "  </tbody>\n",
              "</table>\n",
              "</div>"
            ],
            "text/plain": [
              "     A   b   c   d\n",
              "K0  A0  B0  c0  d0\n",
              "K1  A1  B1  c1  d1\n",
              "K2  A2  B2  c2  d2"
            ]
          },
          "metadata": {
            "tags": []
          },
          "execution_count": 98
        }
      ]
    },
    {
      "cell_type": "code",
      "metadata": {
        "id": "BnaEk-HYmKhh",
        "colab": {
          "base_uri": "https://localhost:8080/",
          "height": 136
        },
        "outputId": "f0b9b008-26cb-413b-cce1-5ae3ca2962da"
      },
      "source": [
        "left.join(right,how='outer')"
      ],
      "execution_count": 99,
      "outputs": [
        {
          "output_type": "execute_result",
          "data": {
            "text/html": [
              "<div>\n",
              "<style scoped>\n",
              "    .dataframe tbody tr th:only-of-type {\n",
              "        vertical-align: middle;\n",
              "    }\n",
              "\n",
              "    .dataframe tbody tr th {\n",
              "        vertical-align: top;\n",
              "    }\n",
              "\n",
              "    .dataframe thead th {\n",
              "        text-align: right;\n",
              "    }\n",
              "</style>\n",
              "<table border=\"1\" class=\"dataframe\">\n",
              "  <thead>\n",
              "    <tr style=\"text-align: right;\">\n",
              "      <th></th>\n",
              "      <th>A</th>\n",
              "      <th>b</th>\n",
              "      <th>c</th>\n",
              "      <th>d</th>\n",
              "    </tr>\n",
              "  </thead>\n",
              "  <tbody>\n",
              "    <tr>\n",
              "      <th>K0</th>\n",
              "      <td>A0</td>\n",
              "      <td>B0</td>\n",
              "      <td>c0</td>\n",
              "      <td>d0</td>\n",
              "    </tr>\n",
              "    <tr>\n",
              "      <th>K1</th>\n",
              "      <td>A1</td>\n",
              "      <td>B1</td>\n",
              "      <td>c1</td>\n",
              "      <td>d1</td>\n",
              "    </tr>\n",
              "    <tr>\n",
              "      <th>K2</th>\n",
              "      <td>A2</td>\n",
              "      <td>B2</td>\n",
              "      <td>c2</td>\n",
              "      <td>d2</td>\n",
              "    </tr>\n",
              "  </tbody>\n",
              "</table>\n",
              "</div>"
            ],
            "text/plain": [
              "     A   b   c   d\n",
              "K0  A0  B0  c0  d0\n",
              "K1  A1  B1  c1  d1\n",
              "K2  A2  B2  c2  d2"
            ]
          },
          "metadata": {
            "tags": []
          },
          "execution_count": 99
        }
      ]
    },
    {
      "cell_type": "code",
      "metadata": {
        "id": "0hNzIY5omcCJ",
        "colab": {
          "base_uri": "https://localhost:8080/"
        },
        "outputId": "771597e6-b573-4719-dab9-99d03ffec770"
      },
      "source": [
        "#python program for finding H.C.F of two input numbers\n",
        "def computeHCF(x,y):\n",
        "\n",
        "\n",
        "#choose the smaller number\n",
        "  if x>y:\n",
        "    smaller=y\n",
        "  else:\n",
        "    smaller=x\n",
        "  for i in range(1,smaller+1):\n",
        "    if ((x%i)==0) and ((y%i)==0):\n",
        "      hcf=i\n",
        "  return hcf\n",
        "num1=int(input(\"enter first number\"))\n",
        "num2=int(input(\"enter second number\"))\n",
        "print(\"HCF of\",num1,\"and\",num2,\"is\",computeHCF(num1,num2))"
      ],
      "execution_count": 102,
      "outputs": [
        {
          "output_type": "stream",
          "text": [
            "enter first number3\n",
            "enter second number4\n",
            "HCF of 3 and 4 is 1\n"
          ],
          "name": "stdout"
        }
      ]
    },
    {
      "cell_type": "code",
      "metadata": {
        "id": "JJG3njz5o1sM",
        "colab": {
          "base_uri": "https://localhost:8080/"
        },
        "outputId": "4d28aca2-0540-423e-86fd-a1ef699849a7"
      },
      "source": [
        "computeHCF(5,10)"
      ],
      "execution_count": 103,
      "outputs": [
        {
          "output_type": "execute_result",
          "data": {
            "text/plain": [
              "5"
            ]
          },
          "metadata": {
            "tags": []
          },
          "execution_count": 103
        }
      ]
    },
    {
      "cell_type": "markdown",
      "metadata": {
        "id": "E7Ge6-ExTcyv"
      },
      "source": [
        "**python dictionaries**"
      ]
    },
    {
      "cell_type": "code",
      "metadata": {
        "id": "RTD5XADCTP6q",
        "colab": {
          "base_uri": "https://localhost:8080/"
        },
        "outputId": "4a197b87-323d-44bb-b30d-fde94fb6c4f7"
      },
      "source": [
        "thisdict={\"brand\":\"ford\",\"model\":\"mustang\",\"year\":1964}\n",
        "print(thisdict)"
      ],
      "execution_count": 104,
      "outputs": [
        {
          "output_type": "stream",
          "text": [
            "{'brand': 'ford', 'model': 'mustang', 'year': 1964}\n"
          ],
          "name": "stdout"
        }
      ]
    },
    {
      "cell_type": "code",
      "metadata": {
        "id": "JE-7WJ5SXIP-",
        "colab": {
          "base_uri": "https://localhost:8080/"
        },
        "outputId": "b7c4d0b4-cd6f-4654-d075-61d8ed53dbf6"
      },
      "source": [
        "thisdict={\"brand\":\"ford\",\"model\":\"mustang\",\"country\":\"india\",\"year\":1964,\"colour\":[\"red\",\"white\",\"blue\"]}\n",
        "print(thisdict)"
      ],
      "execution_count": 105,
      "outputs": [
        {
          "output_type": "stream",
          "text": [
            "{'brand': 'ford', 'model': 'mustang', 'country': 'india', 'year': 1964, 'colour': ['red', 'white', 'blue']}\n"
          ],
          "name": "stdout"
        }
      ]
    },
    {
      "cell_type": "code",
      "metadata": {
        "id": "pfg12YYBYDXh",
        "colab": {
          "base_uri": "https://localhost:8080/"
        },
        "outputId": "30e19d1e-42a5-45dc-9b0e-4b1ebe6e54dd"
      },
      "source": [
        "print(type(thisdict))"
      ],
      "execution_count": 106,
      "outputs": [
        {
          "output_type": "stream",
          "text": [
            "<class 'dict'>\n"
          ],
          "name": "stdout"
        }
      ]
    },
    {
      "cell_type": "code",
      "metadata": {
        "id": "lDtaLYPZY0YN",
        "colab": {
          "base_uri": "https://localhost:8080/"
        },
        "outputId": "d5971b4a-5413-4993-d79d-1b07c1f123d9"
      },
      "source": [
        "thisdict={\"brand\":\"ford\",\"model\":\"mustang\",\"country\":\"india\",\"year\":1964,\"colour\":[\"red\",\"white\",\"blue\"]}\n",
        "thisdict[\"year\"]= 2020\n",
        "print(thisdict)\n",
        "print(len(thisdict[\"colour\"]))"
      ],
      "execution_count": 107,
      "outputs": [
        {
          "output_type": "stream",
          "text": [
            "{'brand': 'ford', 'model': 'mustang', 'country': 'india', 'year': 2020, 'colour': ['red', 'white', 'blue']}\n",
            "3\n"
          ],
          "name": "stdout"
        }
      ]
    },
    {
      "cell_type": "code",
      "metadata": {
        "id": "5GsQianYa_W3",
        "colab": {
          "base_uri": "https://localhost:8080/"
        },
        "outputId": "aa3f19eb-2021-4c7c-ee41-152d377cc4de"
      },
      "source": [
        "thisdict={\"brand\":\"ford\",\"model\":\"mustang\",\"country\":\"india\",\"year\":2022,\"colour\":[\"red\",\"white\",\"blue\"]}\n",
        "thisdict.update({\"aditya\":\"first owner\"})\n",
        "print(thisdict)"
      ],
      "execution_count": 108,
      "outputs": [
        {
          "output_type": "stream",
          "text": [
            "{'brand': 'ford', 'model': 'mustang', 'country': 'india', 'year': 2022, 'colour': ['red', 'white', 'blue'], 'aditya': 'first owner'}\n"
          ],
          "name": "stdout"
        }
      ]
    },
    {
      "cell_type": "code",
      "metadata": {
        "id": "e7em_iLPbuh1",
        "colab": {
          "base_uri": "https://localhost:8080/"
        },
        "outputId": "8b0d1f27-033b-4f69-82d2-1fa8d5752a64"
      },
      "source": [
        "thisdict={\"brand\":\"ford\",\"model\":\"mustang\",\"country\":\"india\",\"year\":2022,\"colour\":[\"red\",\"white\",\"blue\"]}\n",
        "thisdict.pop(\"colour\")\n",
        "print(thisdict)"
      ],
      "execution_count": 109,
      "outputs": [
        {
          "output_type": "stream",
          "text": [
            "{'brand': 'ford', 'model': 'mustang', 'country': 'india', 'year': 2022}\n"
          ],
          "name": "stdout"
        }
      ]
    },
    {
      "cell_type": "code",
      "metadata": {
        "id": "goMpKE6ycK8F",
        "colab": {
          "base_uri": "https://localhost:8080/"
        },
        "outputId": "8c25a36c-c4cc-4a67-c526-12eb9484144f"
      },
      "source": [
        "thisdict={\"brand\":\"ford\",\"model\":\"mustang\",\"country\":\"india\",\"year\":2022,\"colour\":[\"red\",\"white\",\"blue\"]}\n",
        "del thisdict[\"year\"]\n",
        "print(thisdict)"
      ],
      "execution_count": 110,
      "outputs": [
        {
          "output_type": "stream",
          "text": [
            "{'brand': 'ford', 'model': 'mustang', 'country': 'india', 'colour': ['red', 'white', 'blue']}\n"
          ],
          "name": "stdout"
        }
      ]
    },
    {
      "cell_type": "code",
      "metadata": {
        "id": "16oDYZ1uchBa",
        "colab": {
          "base_uri": "https://localhost:8080/"
        },
        "outputId": "efc0a3bf-b113-4c9b-f3c5-c2307eed6134"
      },
      "source": [
        "thisdict={\"brand\":\"ford\",\"model\":\"mustang\",\"country\":\"india\",\"year\":2022,\"colour\":[\"red\",\"white\",\"blue\"]}\n",
        "thisdict.clear()\n",
        "print(thisdict)"
      ],
      "execution_count": 111,
      "outputs": [
        {
          "output_type": "stream",
          "text": [
            "{}\n"
          ],
          "name": "stdout"
        }
      ]
    },
    {
      "cell_type": "code",
      "metadata": {
        "id": "gJsbLxRhc1uJ",
        "colab": {
          "base_uri": "https://localhost:8080/"
        },
        "outputId": "2a1fe6a0-ef43-4c39-89f0-f7eb87797b05"
      },
      "source": [
        "thisdict={\"brand\":\"ford\",\"model\":\"mustang\",\"country\":\"india\",\"year\":2022,\"colour\":[\"red\",\"white\",\"blue\"]}\n",
        "newdict=thisdict.copy()\n",
        "print(newdict)"
      ],
      "execution_count": 112,
      "outputs": [
        {
          "output_type": "stream",
          "text": [
            "{'brand': 'ford', 'model': 'mustang', 'country': 'india', 'year': 2022, 'colour': ['red', 'white', 'blue']}\n"
          ],
          "name": "stdout"
        }
      ]
    },
    {
      "cell_type": "code",
      "metadata": {
        "id": "GaVizhOpdRnR",
        "colab": {
          "base_uri": "https://localhost:8080/"
        },
        "outputId": "7e018fc4-24b1-49e2-a646-a97a376a2abc"
      },
      "source": [
        "thisdict={\"child1\":{\"name\":\"mansi\",\"year\":2002},\"child2\":{\"name\":\"vikas\",\"year\":1985},\"child3\":{\"name\":\"payal\",\"year\":2007}}\n",
        "print(thisdict)"
      ],
      "execution_count": 113,
      "outputs": [
        {
          "output_type": "stream",
          "text": [
            "{'child1': {'name': 'mansi', 'year': 2002}, 'child2': {'name': 'vikas', 'year': 1985}, 'child3': {'name': 'payal', 'year': 2007}}\n"
          ],
          "name": "stdout"
        }
      ]
    },
    {
      "cell_type": "markdown",
      "metadata": {
        "id": "6tWIGZRfe12I"
      },
      "source": [
        "#dictionary methods#"
      ]
    },
    {
      "cell_type": "markdown",
      "metadata": {
        "id": "Q5iV51uue5Xt"
      },
      "source": [
        "**1)clear() , 2)copy() , 3)fromkey() , 4)get() , 5)items() , 6)keys() , 7)pop() , 8)popitem() , 9)setdefault() , 10)update() , 11)values()**"
      ]
    },
    {
      "cell_type": "code",
      "metadata": {
        "id": "V-e-WwxTecAl",
        "colab": {
          "base_uri": "https://localhost:8080/"
        },
        "outputId": "f31b2d6b-ed3e-4028-e593-844f7350a773"
      },
      "source": [
        "a=33\n",
        "b=200\n",
        "if b>a :\n",
        "  print(\"b is greater\")\n"
      ],
      "execution_count": 114,
      "outputs": [
        {
          "output_type": "stream",
          "text": [
            "b is greater\n"
          ],
          "name": "stdout"
        }
      ]
    },
    {
      "cell_type": "code",
      "metadata": {
        "id": "vxS8MckXgEbd",
        "colab": {
          "base_uri": "https://localhost:8080/"
        },
        "outputId": "73726b3a-54fc-4589-a61e-3a4c2c5457fe"
      },
      "source": [
        "a=33\n",
        "b=33\n",
        "if b>a :\n",
        "  print(\"b is greater\")\n",
        "elif a==b :\n",
        "  print(\"a and b are equal\")\n"
      ],
      "execution_count": 115,
      "outputs": [
        {
          "output_type": "stream",
          "text": [
            "a and b are equal\n"
          ],
          "name": "stdout"
        }
      ]
    },
    {
      "cell_type": "code",
      "metadata": {
        "id": "EAlMQiAqgcLU",
        "colab": {
          "base_uri": "https://localhost:8080/"
        },
        "outputId": "a9f27e18-cc81-40ff-c613-c62007cde713"
      },
      "source": [
        "a=333\n",
        "b=33\n",
        "if b>a :\n",
        "  print(\"b is greater\")\n",
        "elif a==b :\n",
        "  print(\"a and b are equal\")\n",
        "else :\n",
        "  print(\"a is greater than b\")"
      ],
      "execution_count": 116,
      "outputs": [
        {
          "output_type": "stream",
          "text": [
            "a is greater than b\n"
          ],
          "name": "stdout"
        }
      ]
    },
    {
      "cell_type": "code",
      "metadata": {
        "id": "pluAGApVgsa4",
        "colab": {
          "base_uri": "https://localhost:8080/"
        },
        "outputId": "48fe3adb-d4f5-4c18-d6bf-5f89895892b7"
      },
      "source": [
        "a=332\n",
        "\n",
        "b=33\n",
        "if b>a :\n",
        "  print(\"b is greater\")\n",
        "else :\n",
        "  print(\"a is greater than b\")"
      ],
      "execution_count": 117,
      "outputs": [
        {
          "output_type": "stream",
          "text": [
            "a is greater than b\n"
          ],
          "name": "stdout"
        }
      ]
    },
    {
      "cell_type": "code",
      "metadata": {
        "id": "64Pb8hD-g89j",
        "colab": {
          "base_uri": "https://localhost:8080/"
        },
        "outputId": "701f87a2-069c-4c9a-a566-cd76a824a2bf"
      },
      "source": [
        "a=333\n",
        "b=3333\n",
        "if b>a : print(\"b is greater\")"
      ],
      "execution_count": 118,
      "outputs": [
        {
          "output_type": "stream",
          "text": [
            "b is greater\n"
          ],
          "name": "stdout"
        }
      ]
    },
    {
      "cell_type": "code",
      "metadata": {
        "id": "lqHdxx01hNun",
        "colab": {
          "base_uri": "https://localhost:8080/"
        },
        "outputId": "2fb938ae-dad4-407b-f93f-71bb1c1d1979"
      },
      "source": [
        "a=333\n",
        "b=33\n",
        "c=444\n",
        "if a>b and c>a :\n",
        "  print(\"both conditions are true.\",a,\"and\",c,\"are greater than\",b)"
      ],
      "execution_count": 119,
      "outputs": [
        {
          "output_type": "stream",
          "text": [
            "both conditions are true. 333 and 444 are greater than 33\n"
          ],
          "name": "stdout"
        }
      ]
    },
    {
      "cell_type": "code",
      "metadata": {
        "id": "cIMQMNQ-hxZO",
        "colab": {
          "base_uri": "https://localhost:8080/"
        },
        "outputId": "f28bbe4e-758a-4ffa-a15e-1a52c3fdc826"
      },
      "source": [
        "a=333\n",
        "b=33\n",
        "c=444\n",
        "if b>a or c>a :\n",
        "  print(\"at least one of the conditions is true\")"
      ],
      "execution_count": 120,
      "outputs": [
        {
          "output_type": "stream",
          "text": [
            "at least one of the conditions is true\n"
          ],
          "name": "stdout"
        }
      ]
    },
    {
      "cell_type": "markdown",
      "metadata": {
        "id": "Jvf_bZGIiHxV"
      },
      "source": [
        "***nested if***"
      ]
    },
    {
      "cell_type": "code",
      "metadata": {
        "id": "dYmrPWsiiCv6",
        "colab": {
          "base_uri": "https://localhost:8080/"
        },
        "outputId": "972bea6d-c628-4863-d62c-6d244623b1e2"
      },
      "source": [
        "x=42\n",
        "if x>10:\n",
        "  print(\"value is greater than 10\")\n",
        "  if x>20:\n",
        "    print(\"value is greater than 20\")\n",
        "else:\n",
        "  print(\"value is less than 10\")"
      ],
      "execution_count": 121,
      "outputs": [
        {
          "output_type": "stream",
          "text": [
            "value is greater than 10\n",
            "value is greater than 20\n"
          ],
          "name": "stdout"
        }
      ]
    },
    {
      "cell_type": "markdown",
      "metadata": {
        "id": "W5yV4qH5jNKM"
      },
      "source": [
        "***while loop***"
      ]
    },
    {
      "cell_type": "code",
      "metadata": {
        "id": "WgQLrjepi2Vy",
        "colab": {
          "base_uri": "https://localhost:8080/"
        },
        "outputId": "ffade214-a5d3-4f59-ac46-abe9a4c7aadc"
      },
      "source": [
        "i=1\n",
        "while i<6 :\n",
        "  print(i)\n",
        "  i+=1\n"
      ],
      "execution_count": 122,
      "outputs": [
        {
          "output_type": "stream",
          "text": [
            "1\n",
            "2\n",
            "3\n",
            "4\n",
            "5\n"
          ],
          "name": "stdout"
        }
      ]
    },
    {
      "cell_type": "code",
      "metadata": {
        "id": "7qpTkGH1jcRV",
        "colab": {
          "base_uri": "https://localhost:8080/"
        },
        "outputId": "eacb193e-5b55-4bd9-fc5d-7d8ec0534549"
      },
      "source": [
        "i=1\n",
        "while i<6 :\n",
        "  print(i)\n",
        "  if i==3:\n",
        "    break\n",
        "  i+=1\n"
      ],
      "execution_count": 123,
      "outputs": [
        {
          "output_type": "stream",
          "text": [
            "1\n",
            "2\n",
            "3\n"
          ],
          "name": "stdout"
        }
      ]
    },
    {
      "cell_type": "code",
      "metadata": {
        "id": "MQbre4pFjs9s",
        "colab": {
          "base_uri": "https://localhost:8080/"
        },
        "outputId": "a6a24d4e-5ea7-496d-8a87-69bf4758a2b7"
      },
      "source": [
        "i=1\n",
        "while i<6 :\n",
        "  print(i)\n",
        "  i+=1\n",
        "else:\n",
        "  print(\"i is no longer less than 6\")"
      ],
      "execution_count": 124,
      "outputs": [
        {
          "output_type": "stream",
          "text": [
            "1\n",
            "2\n",
            "3\n",
            "4\n",
            "5\n",
            "i is no longer less than 6\n"
          ],
          "name": "stdout"
        }
      ]
    },
    {
      "cell_type": "markdown",
      "metadata": {
        "id": "gzWLlqEmkiF5"
      },
      "source": [
        "***python program to find the L.C.M of 2 input numbers***"
      ]
    },
    {
      "cell_type": "code",
      "metadata": {
        "id": "PbKB_u_7kO3I",
        "colab": {
          "base_uri": "https://localhost:8080/"
        },
        "outputId": "0b9c4f0d-8b02-47f5-d349-3de3dd875068"
      },
      "source": [
        "def lcm(x,y):\n",
        "  if x>y:\n",
        "    greater = x\n",
        "  else:\n",
        "    greater=y\n",
        "  while(True):\n",
        "    if ((greater%x==0) and (greater%y==0)):\n",
        "      lcm=greater\n",
        "      break\n",
        "    greater+=1\n",
        "  return lcm\n",
        "num1=int(input(\"enter first number:\"))\n",
        "num2=int(input(\"enter second number:\"))\n",
        "print(\"lcm of\",num1,\"and\",num2,\"is\",lcm(num1,num2))"
      ],
      "execution_count": 125,
      "outputs": [
        {
          "output_type": "stream",
          "text": [
            "enter first number:3\n",
            "enter second number:2\n",
            "lcm of 3 and 2 is 6\n"
          ],
          "name": "stdout"
        }
      ]
    },
    {
      "cell_type": "markdown",
      "metadata": {
        "id": "cxN_YjcatyqM"
      },
      "source": [
        "2starting with numpy"
      ]
    },
    {
      "cell_type": "code",
      "metadata": {
        "id": "0vq7P9bTmMeM",
        "colab": {
          "base_uri": "https://localhost:8080/"
        },
        "outputId": "106c152e-1584-40a3-d060-7c3371688445"
      },
      "source": [
        "import numpy as np\n",
        "arr = np.array([[1,2,3,4,5],[6,7,8,9,10]])\n",
        "print(arr)\n",
        "print(type(arr))"
      ],
      "execution_count": 126,
      "outputs": [
        {
          "output_type": "stream",
          "text": [
            "[[ 1  2  3  4  5]\n",
            " [ 6  7  8  9 10]]\n",
            "<class 'numpy.ndarray'>\n"
          ],
          "name": "stdout"
        }
      ]
    },
    {
      "cell_type": "code",
      "metadata": {
        "id": "mWq1ZWmxuGr0",
        "colab": {
          "base_uri": "https://localhost:8080/"
        },
        "outputId": "fadd94dd-6356-4ce7-828f-3d5f3e4b3cff"
      },
      "source": [
        "import numpy as np\n",
        "arr = np.array([[[1,2,3],[4,5,6]],[[6,7,8],[9,10,11]]])\n",
        "print(arr)\n",
        "print(type(arr))"
      ],
      "execution_count": 127,
      "outputs": [
        {
          "output_type": "stream",
          "text": [
            "[[[ 1  2  3]\n",
            "  [ 4  5  6]]\n",
            "\n",
            " [[ 6  7  8]\n",
            "  [ 9 10 11]]]\n",
            "<class 'numpy.ndarray'>\n"
          ],
          "name": "stdout"
        }
      ]
    },
    {
      "cell_type": "code",
      "metadata": {
        "id": "Uwz2lQdAuZaf",
        "colab": {
          "base_uri": "https://localhost:8080/"
        },
        "outputId": "836b6ff8-462c-4594-f8f8-955dcc495d27"
      },
      "source": [
        "import numpy as np\n",
        "a=np.array(456)\n",
        "b=np.array([1,2,3,4,5,6,7])\n",
        "c= np.array([[1,2,3,4,5],[6,7,8,9,10]])\n",
        "d = np.array([[[1,2,3],[4,5,6]],[[6,7,8],[9,10,11]]])\n",
        "print(a.ndim)\n",
        "print(b.ndim)\n",
        "print(c.ndim)\n",
        "print(d.ndim)"
      ],
      "execution_count": 128,
      "outputs": [
        {
          "output_type": "stream",
          "text": [
            "0\n",
            "1\n",
            "2\n",
            "3\n"
          ],
          "name": "stdout"
        }
      ]
    },
    {
      "cell_type": "code",
      "metadata": {
        "id": "8S-k5Ls5vrTP",
        "colab": {
          "base_uri": "https://localhost:8080/"
        },
        "outputId": "ff20bff0-762d-4891-8757-771a5d46050d"
      },
      "source": [
        "import numpy as np\n",
        "arr=np.array([1,2,3,4,5,6,7])\n",
        "print(arr[2]+arr[4])"
      ],
      "execution_count": 129,
      "outputs": [
        {
          "output_type": "stream",
          "text": [
            "8\n"
          ],
          "name": "stdout"
        }
      ]
    },
    {
      "cell_type": "code",
      "metadata": {
        "id": "U_F7ncjWwYD0",
        "colab": {
          "base_uri": "https://localhost:8080/"
        },
        "outputId": "23221279-32e0-4801-c1f6-20b892215b44"
      },
      "source": [
        "import numpy as np\n",
        "c=np.array([[[1,2,3],[4,5,6]],[[6,7,8],[9,10,11]]])\n",
        "print(c)\n",
        "print('3rd element on 2nd array of 1st array:',c[0,1,2])"
      ],
      "execution_count": 130,
      "outputs": [
        {
          "output_type": "stream",
          "text": [
            "[[[ 1  2  3]\n",
            "  [ 4  5  6]]\n",
            "\n",
            " [[ 6  7  8]\n",
            "  [ 9 10 11]]]\n",
            "3rd element on 2nd array of 1st array: 6\n"
          ],
          "name": "stdout"
        }
      ]
    },
    {
      "cell_type": "code",
      "metadata": {
        "id": "74kAat-XxIGW",
        "colab": {
          "base_uri": "https://localhost:8080/"
        },
        "outputId": "098e8346-eecd-4cd0-bf35-7c771fbec30e"
      },
      "source": [
        "import numpy as np\n",
        "c=np.array([[1,2,3,4,5],[6,7,8,9,10]])\n",
        "print('last element of 2nd dim:', c[1,-1])"
      ],
      "execution_count": 131,
      "outputs": [
        {
          "output_type": "stream",
          "text": [
            "last element of 2nd dim: 10\n"
          ],
          "name": "stdout"
        }
      ]
    },
    {
      "cell_type": "code",
      "metadata": {
        "id": "Fyg1_tXgy4-8",
        "colab": {
          "base_uri": "https://localhost:8080/"
        },
        "outputId": "7d44110f-f893-4bc9-9ead-7ab646d09b0a"
      },
      "source": [
        "import numpy as np\n",
        "c=np.array([1,2,3,4,5,6,7,8,9,10])\n",
        "print(c[1:6])\n",
        "print(c[1:5])"
      ],
      "execution_count": 132,
      "outputs": [
        {
          "output_type": "stream",
          "text": [
            "[2 3 4 5 6]\n",
            "[2 3 4 5]\n"
          ],
          "name": "stdout"
        }
      ]
    },
    {
      "cell_type": "code",
      "metadata": {
        "id": "DbAlkBp1zPkB",
        "colab": {
          "base_uri": "https://localhost:8080/"
        },
        "outputId": "58359de7-d413-43fa-85f9-f685ffd2e460"
      },
      "source": [
        "import numpy as np\n",
        "c=np.array([1,2,3,4,5,6,7,8,9,10])\n",
        "print(c[5:])"
      ],
      "execution_count": 133,
      "outputs": [
        {
          "output_type": "stream",
          "text": [
            "[ 6  7  8  9 10]\n"
          ],
          "name": "stdout"
        }
      ]
    },
    {
      "cell_type": "code",
      "metadata": {
        "id": "ETN0C3MHzqka",
        "colab": {
          "base_uri": "https://localhost:8080/"
        },
        "outputId": "58101d5e-d410-4078-e57d-027dcc997728"
      },
      "source": [
        "import numpy as np\n",
        "c=np.array([1,2,3,4,5,6,7,8,9,10])\n",
        "print(c[:8])"
      ],
      "execution_count": 134,
      "outputs": [
        {
          "output_type": "stream",
          "text": [
            "[1 2 3 4 5 6 7 8]\n"
          ],
          "name": "stdout"
        }
      ]
    },
    {
      "cell_type": "code",
      "metadata": {
        "id": "gezamqpiz0uf",
        "colab": {
          "base_uri": "https://localhost:8080/"
        },
        "outputId": "3044c334-3efa-4503-9f8c-7966ccf38986"
      },
      "source": [
        "import numpy as np\n",
        "c=np.array([1,2,3,4,5,6,7,8,9,10])\n",
        "print(c[1:-2])"
      ],
      "execution_count": 135,
      "outputs": [
        {
          "output_type": "stream",
          "text": [
            "[2 3 4 5 6 7 8]\n"
          ],
          "name": "stdout"
        }
      ]
    },
    {
      "cell_type": "code",
      "metadata": {
        "id": "Ko2PWDS7z5QC",
        "colab": {
          "base_uri": "https://localhost:8080/"
        },
        "outputId": "de23e76d-1e2a-468d-eba1-dccd07c911f7"
      },
      "source": [
        "import numpy as np\n",
        "c=np.array([1,2,3,4,5,6,7,8,9,10])\n",
        "print(c[-3:-1])"
      ],
      "execution_count": 136,
      "outputs": [
        {
          "output_type": "stream",
          "text": [
            "[8 9]\n"
          ],
          "name": "stdout"
        }
      ]
    },
    {
      "cell_type": "code",
      "metadata": {
        "id": "XdoPP0Kiz9ni",
        "colab": {
          "base_uri": "https://localhost:8080/"
        },
        "outputId": "87c14698-5cb4-4360-dab4-97fdb4610c90"
      },
      "source": [
        "import numpy as np\n",
        "c=np.array([1,2,3,4,5,6,7,8,9,10])\n",
        "print(c[1:5:3])"
      ],
      "execution_count": 137,
      "outputs": [
        {
          "output_type": "stream",
          "text": [
            "[2 5]\n"
          ],
          "name": "stdout"
        }
      ]
    },
    {
      "cell_type": "code",
      "metadata": {
        "id": "maPX5Xv00Rtj",
        "colab": {
          "base_uri": "https://localhost:8080/"
        },
        "outputId": "77f97331-78a4-4bdc-9e38-15f7a4a30846"
      },
      "source": [
        "import numpy as np\n",
        "c=np.array([1,2,3,4,5,6,7,8,9,10])\n",
        "print(c[1:5:2])"
      ],
      "execution_count": 138,
      "outputs": [
        {
          "output_type": "stream",
          "text": [
            "[2 4]\n"
          ],
          "name": "stdout"
        }
      ]
    },
    {
      "cell_type": "code",
      "metadata": {
        "id": "qCGGifN10abo",
        "colab": {
          "base_uri": "https://localhost:8080/"
        },
        "outputId": "4afcab48-2dff-4065-fa2b-f5350b61ac29"
      },
      "source": [
        "import numpy as np\n",
        "c=np.array([1,2,3,4,5,6,7,8,9,10])\n",
        "print(c[::2])"
      ],
      "execution_count": 139,
      "outputs": [
        {
          "output_type": "stream",
          "text": [
            "[1 3 5 7 9]\n"
          ],
          "name": "stdout"
        }
      ]
    },
    {
      "cell_type": "code",
      "metadata": {
        "id": "LI3wOeV2006U",
        "colab": {
          "base_uri": "https://localhost:8080/"
        },
        "outputId": "7fc31a20-b01f-4841-96e7-70fa646baadd"
      },
      "source": [
        "import numpy as np\n",
        "c=np.array([[1,2,3,4,5],[6,7,8,9,10]])\n",
        "print(c[0:4,0:3])"
      ],
      "execution_count": 140,
      "outputs": [
        {
          "output_type": "stream",
          "text": [
            "[[1 2 3]\n",
            " [6 7 8]]\n"
          ],
          "name": "stdout"
        }
      ]
    },
    {
      "cell_type": "code",
      "metadata": {
        "id": "ZI5I8NNy1dsb",
        "colab": {
          "base_uri": "https://localhost:8080/"
        },
        "outputId": "b65c662e-c354-45b8-ac7b-8bacbde5d41b"
      },
      "source": [
        "import numpy as np\n",
        "c=np.array([1,2,3,4,5,6,7,8,9,10])\n",
        "print(c.dtype)"
      ],
      "execution_count": 141,
      "outputs": [
        {
          "output_type": "stream",
          "text": [
            "int64\n"
          ],
          "name": "stdout"
        }
      ]
    },
    {
      "cell_type": "code",
      "metadata": {
        "id": "7VDLb47o2X8x",
        "colab": {
          "base_uri": "https://localhost:8080/"
        },
        "outputId": "c2babc18-aba1-43b8-d41a-1ac7943ec73b"
      },
      "source": [
        "import numpy as np\n",
        "c=np.array(['madhu','sai','mansi','payal','ashwini','rahul'])\n",
        "print(c.dtype)"
      ],
      "execution_count": 142,
      "outputs": [
        {
          "output_type": "stream",
          "text": [
            "<U7\n"
          ],
          "name": "stdout"
        }
      ]
    },
    {
      "cell_type": "code",
      "metadata": {
        "id": "llkDWy8_2sGw",
        "colab": {
          "base_uri": "https://localhost:8080/"
        },
        "outputId": "52cb1621-a99b-4d2a-9886-fde8c67fdd46"
      },
      "source": [
        "import numpy as np\n",
        "c=np.array([1.23,2.34,3.44,4.44])\n",
        "newarray=c.astype(int)\n",
        "print(newarray)\n",
        "print(newarray.dtype)"
      ],
      "execution_count": 143,
      "outputs": [
        {
          "output_type": "stream",
          "text": [
            "[1 2 3 4]\n",
            "int64\n"
          ],
          "name": "stdout"
        }
      ]
    },
    {
      "cell_type": "code",
      "metadata": {
        "id": "qwg9d-J651XM",
        "colab": {
          "base_uri": "https://localhost:8080/"
        },
        "outputId": "c74705dd-9862-4b06-ccd4-98f0ad466c6d"
      },
      "source": [
        "import numpy as np\n",
        "c=np.array([1.23,2.34,3.44,4.44])\n",
        "newarray=c.astype(bool)\n",
        "print(newarray)\n",
        "print(newarray.dtype)"
      ],
      "execution_count": 144,
      "outputs": [
        {
          "output_type": "stream",
          "text": [
            "[ True  True  True  True]\n",
            "bool\n"
          ],
          "name": "stdout"
        }
      ]
    },
    {
      "cell_type": "code",
      "metadata": {
        "id": "mBvEFBdf56d3",
        "colab": {
          "base_uri": "https://localhost:8080/"
        },
        "outputId": "8572b9d6-c495-4d36-b3dd-9c9a572a19ea"
      },
      "source": [
        "import numpy as np\n",
        "c=np.array([1.23,2.34,3.44,4.44])\n",
        "x=c.copy()\n",
        "print(x)\n",
        "print(x.dtype)"
      ],
      "execution_count": 145,
      "outputs": [
        {
          "output_type": "stream",
          "text": [
            "[1.23 2.34 3.44 4.44]\n",
            "float64\n"
          ],
          "name": "stdout"
        }
      ]
    },
    {
      "cell_type": "code",
      "metadata": {
        "id": "L2XoDs6N6Hrh",
        "colab": {
          "base_uri": "https://localhost:8080/"
        },
        "outputId": "f6ccceda-e3ca-470f-ed5f-6081c3fed370"
      },
      "source": [
        "import numpy as np\n",
        "c=np.array([1.23,2.34,3.44,4.44])\n",
        "x=c.view()\n",
        "x[0]=34\n",
        "print(x)\n",
        "print(x.dtype)"
      ],
      "execution_count": 146,
      "outputs": [
        {
          "output_type": "stream",
          "text": [
            "[34.    2.34  3.44  4.44]\n",
            "float64\n"
          ],
          "name": "stdout"
        }
      ]
    },
    {
      "cell_type": "code",
      "metadata": {
        "id": "0F6Jk90u67dK",
        "colab": {
          "base_uri": "https://localhost:8080/"
        },
        "outputId": "49b9967d-1221-4b7c-a057-2113e1066cd5"
      },
      "source": [
        "import numpy as np\n",
        "c=np.array([1.23,2.34,3.44,4.44])\n",
        "x=c.view()#print the value of base attribute at the end to check if ana rray owns its data or not\n",
        "y=c.copy()\n",
        "print(x)\n",
        "print(y)\n",
        "print(x.base)\n",
        "print(y.base)\n",
        "print(x.dtype)"
      ],
      "execution_count": 147,
      "outputs": [
        {
          "output_type": "stream",
          "text": [
            "[1.23 2.34 3.44 4.44]\n",
            "[1.23 2.34 3.44 4.44]\n",
            "[1.23 2.34 3.44 4.44]\n",
            "None\n",
            "float64\n"
          ],
          "name": "stdout"
        }
      ]
    },
    {
      "cell_type": "code",
      "metadata": {
        "id": "LiKU7dtA7gX3",
        "colab": {
          "base_uri": "https://localhost:8080/"
        },
        "outputId": "fe3a286e-1ca3-440f-e8d6-f8b005b7dbc3"
      },
      "source": [
        "import numpy as np\n",
        "c=np.array([1.23,2.34,3.44,4.44])\n",
        "y=np.array([[1,2,3,4,5],[6,7,8,9,10,]])\n",
        "print(c.shape)\n",
        "print(y.shape)"
      ],
      "execution_count": 148,
      "outputs": [
        {
          "output_type": "stream",
          "text": [
            "(4,)\n",
            "(2, 5)\n"
          ],
          "name": "stdout"
        }
      ]
    },
    {
      "cell_type": "code",
      "metadata": {
        "id": "NCsvdP-B8TBs",
        "colab": {
          "base_uri": "https://localhost:8080/"
        },
        "outputId": "245bbc81-f838-41c2-d666-a91a086db00c"
      },
      "source": [
        "import numpy as np\n",
        "c=np.array([1,2,3,4,5,6,7,8,9,10,11,12])\n",
        "newarray=c.reshape(4,3)\n",
        "print(c)\n",
        "print(newarray)"
      ],
      "execution_count": 149,
      "outputs": [
        {
          "output_type": "stream",
          "text": [
            "[ 1  2  3  4  5  6  7  8  9 10 11 12]\n",
            "[[ 1  2  3]\n",
            " [ 4  5  6]\n",
            " [ 7  8  9]\n",
            " [10 11 12]]\n"
          ],
          "name": "stdout"
        }
      ]
    },
    {
      "cell_type": "code",
      "metadata": {
        "id": "uLro1rXc811f",
        "colab": {
          "base_uri": "https://localhost:8080/"
        },
        "outputId": "bea0fa29-b795-4552-9ef5-722e99201e75"
      },
      "source": [
        "\n",
        "import numpy as np\n",
        "c=np.array([1,2,3,4,5,6,7,8,9,10,11,12])\n",
        "newarray=c.reshape(2,3,2)\n",
        "print(c)\n",
        "print(newarray)"
      ],
      "execution_count": 150,
      "outputs": [
        {
          "output_type": "stream",
          "text": [
            "[ 1  2  3  4  5  6  7  8  9 10 11 12]\n",
            "[[[ 1  2]\n",
            "  [ 3  4]\n",
            "  [ 5  6]]\n",
            "\n",
            " [[ 7  8]\n",
            "  [ 9 10]\n",
            "  [11 12]]]\n"
          ],
          "name": "stdout"
        }
      ]
    },
    {
      "cell_type": "code",
      "metadata": {
        "id": "wxg28Swp9sml",
        "colab": {
          "base_uri": "https://localhost:8080/"
        },
        "outputId": "c525dc53-701e-4977-f786-6aa8edca4b30"
      },
      "source": [
        "import numpy as np\n",
        "arr=np.array([[1,2,3],[4,5,6]])\n",
        "newarray=arr.reshape(-1)\n",
        "print(newarray)"
      ],
      "execution_count": 151,
      "outputs": [
        {
          "output_type": "stream",
          "text": [
            "[1 2 3 4 5 6]\n"
          ],
          "name": "stdout"
        }
      ]
    },
    {
      "cell_type": "code",
      "metadata": {
        "id": "QIqW866st-LJ",
        "colab": {
          "base_uri": "https://localhost:8080/"
        },
        "outputId": "4876948c-175f-44ce-f5b5-6d2d7f5d8222"
      },
      "source": [
        "\n",
        "import numpy as np\n",
        "arr1=np.array([1,2,3])\n",
        "arr2=np.array([4,5,6])\n",
        "newarray=np.concatenate((arr1,arr2))\n",
        "print(arr1)\n",
        "print(arr2)\n",
        "print(newarray)"
      ],
      "execution_count": 154,
      "outputs": [
        {
          "output_type": "stream",
          "text": [
            "[1 2 3]\n",
            "[4 5 6]\n",
            "[1 2 3 4 5 6]\n"
          ],
          "name": "stdout"
        }
      ]
    },
    {
      "cell_type": "code",
      "metadata": {
        "id": "npuQjcnXu3le",
        "colab": {
          "base_uri": "https://localhost:8080/"
        },
        "outputId": "62e389e9-4773-4312-e06e-acb5e277d35a"
      },
      "source": [
        "import numpy as np\n",
        "arr1=np.array([1,2,3])\n",
        "arr2=np.array([4,5,6])\n",
        "newarray=np.stack((arr1,arr2),axis=0)\n",
        "print(arr1)\n",
        "print(arr2)\n",
        "print(newarray)"
      ],
      "execution_count": 155,
      "outputs": [
        {
          "output_type": "stream",
          "text": [
            "[1 2 3]\n",
            "[4 5 6]\n",
            "[[1 2 3]\n",
            " [4 5 6]]\n"
          ],
          "name": "stdout"
        }
      ]
    },
    {
      "cell_type": "code",
      "metadata": {
        "id": "24oL3a__v2Hf",
        "colab": {
          "base_uri": "https://localhost:8080/"
        },
        "outputId": "2d627c1c-d7a2-4a86-aa0f-31a4aad0adba"
      },
      "source": [
        "import numpy as np\n",
        "arr1=np.array([1,2,3])\n",
        "arr2=np.array([4,5,6])\n",
        "newarray=np.stack((arr1,arr2),axis=1)\n",
        "print(arr1)\n",
        "print(arr2)\n",
        "print(newarray)"
      ],
      "execution_count": 156,
      "outputs": [
        {
          "output_type": "stream",
          "text": [
            "[1 2 3]\n",
            "[4 5 6]\n",
            "[[1 4]\n",
            " [2 5]\n",
            " [3 6]]\n"
          ],
          "name": "stdout"
        }
      ]
    },
    {
      "cell_type": "code",
      "metadata": {
        "id": "3HXuS1WZwDsy",
        "colab": {
          "base_uri": "https://localhost:8080/"
        },
        "outputId": "b695f2cf-259d-4c94-8f02-6cc35e0a0f09"
      },
      "source": [
        "import numpy as np\n",
        "arr1=np.array([1,2,3])\n",
        "arr2=np.array([4,5,6])\n",
        "newarray=np.hstack((arr1,arr2))\n",
        "print(arr1)\n",
        "print(arr2)\n",
        "print(newarray)"
      ],
      "execution_count": 157,
      "outputs": [
        {
          "output_type": "stream",
          "text": [
            "[1 2 3]\n",
            "[4 5 6]\n",
            "[1 2 3 4 5 6]\n"
          ],
          "name": "stdout"
        }
      ]
    },
    {
      "cell_type": "code",
      "metadata": {
        "id": "7hOkdQLxwSQe",
        "colab": {
          "base_uri": "https://localhost:8080/"
        },
        "outputId": "b95baade-65e1-42dd-ee6a-be019d9d6820"
      },
      "source": [
        "import numpy as np\n",
        "arr1=np.array([1,2,3])\n",
        "arr2=np.array([4,5,6])\n",
        "newarray=np.vstack((arr1,arr2))\n",
        "print(arr1)\n",
        "print(arr2)\n",
        "print(newarray)"
      ],
      "execution_count": 158,
      "outputs": [
        {
          "output_type": "stream",
          "text": [
            "[1 2 3]\n",
            "[4 5 6]\n",
            "[[1 2 3]\n",
            " [4 5 6]]\n"
          ],
          "name": "stdout"
        }
      ]
    },
    {
      "cell_type": "code",
      "metadata": {
        "id": "CWxemFxvwcwv",
        "colab": {
          "base_uri": "https://localhost:8080/"
        },
        "outputId": "d32fef3f-46c5-424a-9deb-ba3627662896"
      },
      "source": [
        "import numpy as np\n",
        "arr1=np.array([1,2,3])\n",
        "arr2=np.array([4,5,6])\n",
        "newarray=np.dstack((arr1,arr2))\n",
        "print(newarray)"
      ],
      "execution_count": 159,
      "outputs": [
        {
          "output_type": "stream",
          "text": [
            "[[[1 4]\n",
            "  [2 5]\n",
            "  [3 6]]]\n"
          ],
          "name": "stdout"
        }
      ]
    },
    {
      "cell_type": "markdown",
      "metadata": {
        "id": "WZqAQzqFHnJy"
      },
      "source": [
        "##split the array##"
      ]
    },
    {
      "cell_type": "code",
      "metadata": {
        "id": "zR-_FaY-wtDm",
        "colab": {
          "base_uri": "https://localhost:8080/"
        },
        "outputId": "80a201ca-d090-4bfe-e576-99b49e027466"
      },
      "source": [
        "import numpy as np\n",
        "arr1=np.array([1,2,3,4,5,6])\n",
        "newarray=np.array_split(arr1,3)\n",
        "print(arr1)\n",
        "print(newarray)"
      ],
      "execution_count": 160,
      "outputs": [
        {
          "output_type": "stream",
          "text": [
            "[1 2 3 4 5 6]\n",
            "[array([1, 2]), array([3, 4]), array([5, 6])]\n"
          ],
          "name": "stdout"
        }
      ]
    },
    {
      "cell_type": "code",
      "metadata": {
        "id": "JcfFLTrixS_x",
        "colab": {
          "base_uri": "https://localhost:8080/"
        },
        "outputId": "687450dc-fd5f-4db6-e777-9fc6958e449a"
      },
      "source": [
        "import numpy as np\n",
        "arr1=np.array([1,2,3,4,5,6])\n",
        "newarray=np.array_split(arr1,4)\n",
        "print(arr1)\n",
        "print(newarray)"
      ],
      "execution_count": 161,
      "outputs": [
        {
          "output_type": "stream",
          "text": [
            "[1 2 3 4 5 6]\n",
            "[array([1, 2]), array([3, 4]), array([5]), array([6])]\n"
          ],
          "name": "stdout"
        }
      ]
    },
    {
      "cell_type": "code",
      "metadata": {
        "id": "xJ2q3Wz3xius",
        "colab": {
          "base_uri": "https://localhost:8080/"
        },
        "outputId": "cbe76e3c-c39e-4080-8261-0c88cdb6964d"
      },
      "source": [
        "import numpy as np\n",
        "arr=np.array([1,2,3,4,5,6])\n",
        "newarray=np.array_split(arr,3)\n",
        "print(newarray[0])\n",
        "print(newarray[1])\n",
        "print(newarray[2])"
      ],
      "execution_count": 162,
      "outputs": [
        {
          "output_type": "stream",
          "text": [
            "[1 2]\n",
            "[3 4]\n",
            "[5 6]\n"
          ],
          "name": "stdout"
        }
      ]
    },
    {
      "cell_type": "code",
      "metadata": {
        "id": "CJIag82o0ET3",
        "colab": {
          "base_uri": "https://localhost:8080/"
        },
        "outputId": "52fbd10d-e354-4fee-abf9-64f6e1dd6428"
      },
      "source": [
        "import numpy as np\n",
        "arr=np.array([1,2,3,4,5,4,4])\n",
        "newarray=np.where(arr==3)\n",
        "print(newarray)"
      ],
      "execution_count": 163,
      "outputs": [
        {
          "output_type": "stream",
          "text": [
            "(array([2]),)\n"
          ],
          "name": "stdout"
        }
      ]
    },
    {
      "cell_type": "code",
      "metadata": {
        "id": "EBlqfm3QyRum",
        "colab": {
          "base_uri": "https://localhost:8080/"
        },
        "outputId": "57eddd2e-2e7d-43c6-d3bd-52d1da4d5f7e"
      },
      "source": [
        "import numpy as np\n",
        "arr=np.array([1,2,3,4,5,4,4])\n",
        "newarray=np.where(arr==4)\n",
        "print(newarray)"
      ],
      "execution_count": 164,
      "outputs": [
        {
          "output_type": "stream",
          "text": [
            "(array([3, 5, 6]),)\n"
          ],
          "name": "stdout"
        }
      ]
    },
    {
      "cell_type": "code",
      "metadata": {
        "id": "CFQlAuz_z3-Z",
        "colab": {
          "base_uri": "https://localhost:8080/"
        },
        "outputId": "2680501a-448c-4446-8a00-b6f3135efe98"
      },
      "source": [
        "import numpy as np\n",
        "arr=np.array([1,2,3,4,5,6,7,8])\n",
        "newarray=np.where(arr%2==0)\n",
        "print(newarray)"
      ],
      "execution_count": 165,
      "outputs": [
        {
          "output_type": "stream",
          "text": [
            "(array([1, 3, 5, 7]),)\n"
          ],
          "name": "stdout"
        }
      ]
    },
    {
      "cell_type": "code",
      "metadata": {
        "id": "tDLmACO-0e27",
        "colab": {
          "base_uri": "https://localhost:8080/"
        },
        "outputId": "fbce9191-6898-4aab-d25b-eda9b279eb8e"
      },
      "source": [
        "import numpy as np\n",
        "arr=np.array([1,2,3,4,5,6,7,8])\n",
        "newarray=np.where(arr%2==1)\n",
        "print(newarray)"
      ],
      "execution_count": 166,
      "outputs": [
        {
          "output_type": "stream",
          "text": [
            "(array([0, 2, 4, 6]),)\n"
          ],
          "name": "stdout"
        }
      ]
    },
    {
      "cell_type": "code",
      "metadata": {
        "id": "ETeVdoXG0mFx",
        "colab": {
          "base_uri": "https://localhost:8080/"
        },
        "outputId": "194a75a0-fde8-4ba3-a6a9-a21cc537d92f"
      },
      "source": [
        "import numpy as np\n",
        "arr=np.array([6,7,8,9])\n",
        "newarray=np.searchsorted(arr,7)\n",
        "print(newarray)"
      ],
      "execution_count": 167,
      "outputs": [
        {
          "output_type": "stream",
          "text": [
            "1\n"
          ],
          "name": "stdout"
        }
      ]
    },
    {
      "cell_type": "code",
      "metadata": {
        "id": "eCGo8WmT1Odb",
        "colab": {
          "base_uri": "https://localhost:8080/"
        },
        "outputId": "5d09f9f4-38c0-4f60-e694-16b09f08e3b1"
      },
      "source": [
        "import numpy as np\n",
        "arr=np.array([1,2,3,4,5,6,7,8])\n",
        "newarray=np.where(arr==7)\n",
        "print(newarray)"
      ],
      "execution_count": 168,
      "outputs": [
        {
          "output_type": "stream",
          "text": [
            "(array([6]),)\n"
          ],
          "name": "stdout"
        }
      ]
    },
    {
      "cell_type": "code",
      "metadata": {
        "id": "hWGUcPre1sLq",
        "colab": {
          "base_uri": "https://localhost:8080/"
        },
        "outputId": "b0129933-4365-4812-a1f1-1fbba1534e3a"
      },
      "source": [
        "import numpy as np\n",
        "arr=np.array([6,7,8,9])\n",
        "newarray=np.searchsorted(arr,7,side='right')\n",
        "print(newarray)"
      ],
      "execution_count": 169,
      "outputs": [
        {
          "output_type": "stream",
          "text": [
            "2\n"
          ],
          "name": "stdout"
        }
      ]
    },
    {
      "cell_type": "code",
      "metadata": {
        "id": "cSXorsUi19x_",
        "colab": {
          "base_uri": "https://localhost:8080/"
        },
        "outputId": "010ea139-0d86-4a33-d2bb-d39e4cc65464"
      },
      "source": [
        "import numpy as np\n",
        "arr=np.array([41,42,43,44])\n",
        "x=arr[[True,False,True,False]]\n",
        "print(x)"
      ],
      "execution_count": 170,
      "outputs": [
        {
          "output_type": "stream",
          "text": [
            "[41 43]\n"
          ],
          "name": "stdout"
        }
      ]
    },
    {
      "cell_type": "code",
      "metadata": {
        "id": "1fMu1UIu232G",
        "colab": {
          "base_uri": "https://localhost:8080/"
        },
        "outputId": "a337b863-a6b8-4ed6-ac70-a1179c6730af"
      },
      "source": [
        "import numpy as np\n",
        "arr=np.array([1,2,3,5])\n",
        "x=arr[[True,True,True,False]]\n",
        "print(x)"
      ],
      "execution_count": 171,
      "outputs": [
        {
          "output_type": "stream",
          "text": [
            "[1 2 3]\n"
          ],
          "name": "stdout"
        }
      ]
    },
    {
      "cell_type": "code",
      "metadata": {
        "id": "uUvjfNE43MBo",
        "colab": {
          "base_uri": "https://localhost:8080/"
        },
        "outputId": "2a2afd1d-0624-416e-b9e3-9f693d2cee73"
      },
      "source": [
        "import numpy as np\n",
        "arr=np.array([1,2,3,5])\n",
        "filter_arr=arr>2\n",
        "newarray=arr[filter_arr]\n",
        "print(filter_arr)\n",
        "print(newarray)"
      ],
      "execution_count": 172,
      "outputs": [
        {
          "output_type": "stream",
          "text": [
            "[False False  True  True]\n",
            "[3 5]\n"
          ],
          "name": "stdout"
        }
      ]
    },
    {
      "cell_type": "markdown",
      "metadata": {
        "id": "XmQAqwXh4son"
      },
      "source": [
        "##what is Matplotlib?-Matplotlib is a comprehensive library for creating static, animated, and interactive visualizations in Python##"
      ]
    },
    {
      "cell_type": "code",
      "metadata": {
        "id": "s9MfE93G4EhV",
        "colab": {
          "base_uri": "https://localhost:8080/"
        },
        "outputId": "c8dc5fda-1c1d-4dc4-c043-d0e78d416873"
      },
      "source": [
        "import matplotlib\n",
        "print(matplotlib.__version__)"
      ],
      "execution_count": 173,
      "outputs": [
        {
          "output_type": "stream",
          "text": [
            "3.2.2\n"
          ],
          "name": "stdout"
        }
      ]
    },
    {
      "cell_type": "code",
      "metadata": {
        "id": "sEY75qKq5MGv",
        "colab": {
          "base_uri": "https://localhost:8080/",
          "height": 265
        },
        "outputId": "ab7509c9-daa8-4b8a-97d3-a72e17a5680a"
      },
      "source": [
        "import matplotlib.pyplot as plt\n",
        "import numpy as np\n",
        "xpoints=np.array([0,6])\n",
        "ypoints=np.array([0,6])\n",
        "plt.plot(xpoints,ypoints)\n",
        "plt.show()"
      ],
      "execution_count": 174,
      "outputs": [
        {
          "output_type": "display_data",
          "data": {
            "image/png": "[encoded data removed]",
            "text/plain": [
              "<Figure size 432x288 with 1 Axes>"
            ]
          },
          "metadata": {
            "tags": [],
            "needs_background": "light"
          }
        }
      ]
    },
    {
      "cell_type": "code",
      "metadata": {
        "id": "S1tSxipo6WBo",
        "colab": {
          "base_uri": "https://localhost:8080/",
          "height": 265
        },
        "outputId": "9409c2b3-6f68-4e08-e3ed-16802cab4e96"
      },
      "source": [
        "import matplotlib.pyplot as plt\n",
        "import numpy as np\n",
        "xpoints=np.array([1,8])\n",
        "ypoints=np.array([3,10])\n",
        "plt.plot(xpoints,ypoints)\n",
        "plt.show()"
      ],
      "execution_count": 175,
      "outputs": [
        {
          "output_type": "display_data",
          "data": {
            "image/png": "[encoded data removed]",
            "text/plain": [
              "<Figure size 432x288 with 1 Axes>"
            ]
          },
          "metadata": {
            "tags": [],
            "needs_background": "light"
          }
        }
      ]
    },
    {
      "cell_type": "code",
      "metadata": {
        "id": "e_lmPh5b6gFk",
        "colab": {
          "base_uri": "https://localhost:8080/",
          "height": 265
        },
        "outputId": "e6be486e-9228-4ed9-9dfd-6d2186b7d167"
      },
      "source": [
        "import matplotlib.pyplot as plt\n",
        "import numpy as np\n",
        "xpoints=np.array([1,5])\n",
        "ypoints=np.array([3,7])\n",
        "plt.plot(xpoints,ypoints,'o')\n",
        "plt.show()"
      ],
      "execution_count": 176,
      "outputs": [
        {
          "output_type": "display_data",
          "data": {
            "image/png": "[encoded data removed]",
            "text/plain": [
              "<Figure size 432x288 with 1 Axes>"
            ]
          },
          "metadata": {
            "tags": [],
            "needs_background": "light"
          }
        }
      ]
    },
    {
      "cell_type": "code",
      "metadata": {
        "id": "OycTUAKA76HW",
        "colab": {
          "base_uri": "https://localhost:8080/",
          "height": 265
        },
        "outputId": "1edb90b0-28d0-4170-c0c0-29b16ceb0ecf"
      },
      "source": [
        "import matplotlib.pyplot as plt\n",
        "import numpy as np\n",
        "xpoints=np.array([1,3,5,9])\n",
        "ypoints=np.array([3,4,5,10])\n",
        "plt.plot(xpoints,ypoints)\n",
        "plt.show()"
      ],
      "execution_count": 177,
      "outputs": [
        {
          "output_type": "display_data",
          "data": {
            "image/png": "[encoded data removed]",
            "text/plain": [
              "<Figure size 432x288 with 1 Axes>"
            ]
          },
          "metadata": {
            "tags": [],
            "needs_background": "light"
          }
        }
      ]
    },
    {
      "cell_type": "code",
      "metadata": {
        "id": "TC85S_u18C3T",
        "colab": {
          "base_uri": "https://localhost:8080/",
          "height": 265
        },
        "outputId": "3ec75eb9-f1a7-433d-84d4-abc5e0fb5a60"
      },
      "source": [
        "import matplotlib.pyplot as plt\n",
        "import numpy as np\n",
        "xpoints=np.array([1,2,6,8])\n",
        "plt.plot(xpoints)\n",
        "plt.show()"
      ],
      "execution_count": 178,
      "outputs": [
        {
          "output_type": "display_data",
          "data": {
            "image/png": "[encoded data removed]",
            "text/plain": [
              "<Figure size 432x288 with 1 Axes>"
            ]
          },
          "metadata": {
            "tags": [],
            "needs_background": "light"
          }
        }
      ]
    },
    {
      "cell_type": "code",
      "metadata": {
        "id": "q0Hq5jdz8cNB",
        "colab": {
          "base_uri": "https://localhost:8080/",
          "height": 265
        },
        "outputId": "eca7cfcf-d68e-4ede-bc60-67fb8559b108"
      },
      "source": [
        "import matplotlib.pyplot as plt\n",
        "import numpy as np\n",
        "xpoints=np.array([1,2,6,8])\n",
        "plt.plot(xpoints, marker='o')\n",
        "plt.show()"
      ],
      "execution_count": 179,
      "outputs": [
        {
          "output_type": "display_data",
          "data": {
            "image/png": "[encoded data removed]",
            "text/plain": [
              "<Figure size 432x288 with 1 Axes>"
            ]
          },
          "metadata": {
            "tags": [],
            "needs_background": "light"
          }
        }
      ]
    },
    {
      "cell_type": "code",
      "metadata": {
        "id": "AabCKd8o8sxs",
        "colab": {
          "base_uri": "https://localhost:8080/",
          "height": 265
        },
        "outputId": "be25aef8-ccd1-4b2b-c750-77e5c536a646"
      },
      "source": [
        "import matplotlib.pyplot as plt\n",
        "import numpy as np\n",
        "xpoints=np.array([1,2,6,8])\n",
        "plt.plot(xpoints,marker='*')\n",
        "plt.show()"
      ],
      "execution_count": 180,
      "outputs": [
        {
          "output_type": "display_data",
          "data": {
            "image/png": "[encoded data removed]",
            "text/plain": [
              "<Figure size 432x288 with 1 Axes>"
            ]
          },
          "metadata": {
            "tags": [],
            "needs_background": "light"
          }
        }
      ]
    },
    {
      "cell_type": "code",
      "metadata": {
        "id": "Aqu8mIPZ8w9-",
        "colab": {
          "base_uri": "https://localhost:8080/",
          "height": 265
        },
        "outputId": "8701c970-91c8-49dc-9e5f-beb0ce76a89b"
      },
      "source": [
        "import matplotlib.pyplot as plt\n",
        "import numpy as np\n",
        "xpoints=np.array([1,2,6,8])\n",
        "plt.plot(xpoints,'o:r')\n",
        "plt.show()"
      ],
      "execution_count": 181,
      "outputs": [
        {
          "output_type": "display_data",
          "data": {
            "image/png": "[encoded data removed]",
            "text/plain": [
              "<Figure size 432x288 with 1 Axes>"
            ]
          },
          "metadata": {
            "tags": [],
            "needs_background": "light"
          }
        }
      ]
    },
    {
      "cell_type": "code",
      "metadata": {
        "id": "XrhsJskX9SQ4",
        "colab": {
          "base_uri": "https://localhost:8080/",
          "height": 265
        },
        "outputId": "2e7153f3-4d73-4759-db11-bae87fbbe356"
      },
      "source": [
        "import matplotlib.pyplot as plt\n",
        "import numpy as np\n",
        "xpoints=np.array([1,2,6,8])\n",
        "plt.plot(xpoints,'o-b')\n",
        "plt.show()"
      ],
      "execution_count": 182,
      "outputs": [
        {
          "output_type": "display_data",
          "data": {
            "image/png": "[encoded data removed]",
            "text/plain": [
              "<Figure size 432x288 with 1 Axes>"
            ]
          },
          "metadata": {
            "tags": [],
            "needs_background": "light"
          }
        }
      ]
    },
    {
      "cell_type": "code",
      "metadata": {
        "id": "SmzThARh9iyC",
        "colab": {
          "base_uri": "https://localhost:8080/",
          "height": 265
        },
        "outputId": "d8281a38-83ae-4f69-b9aa-607d1582ee73"
      },
      "source": [
        "import matplotlib.pyplot as plt\n",
        "import numpy as np\n",
        "xpoints=np.array([1,2,6,8])\n",
        "plt.plot(xpoints,'o--b')\n",
        "plt.show()"
      ],
      "execution_count": 183,
      "outputs": [
        {
          "output_type": "display_data",
          "data": {
            "image/png": "[encoded data removed]",
            "text/plain": [
              "<Figure size 432x288 with 1 Axes>"
            ]
          },
          "metadata": {
            "tags": [],
            "needs_background": "light"
          }
        }
      ]
    },
    {
      "cell_type": "code",
      "metadata": {
        "id": "jlsTp4vp9sTf",
        "colab": {
          "base_uri": "https://localhost:8080/",
          "height": 265
        },
        "outputId": "0ad9f30c-0d98-4547-b59c-08ae09912f24"
      },
      "source": [
        "import matplotlib.pyplot as plt\n",
        "import numpy as np\n",
        "xpoints=np.array([1,2,6,8])\n",
        "plt.plot(xpoints,'o-.b')\n",
        "plt.show()"
      ],
      "execution_count": 184,
      "outputs": [
        {
          "output_type": "display_data",
          "data": {
            "image/png": "[encoded data removed]",
            "text/plain": [
              "<Figure size 432x288 with 1 Axes>"
            ]
          },
          "metadata": {
            "tags": [],
            "needs_background": "light"
          }
        }
      ]
    },
    {
      "cell_type": "code",
      "metadata": {
        "id": "agrD3Lfs9yzq",
        "colab": {
          "base_uri": "https://localhost:8080/",
          "height": 282
        },
        "outputId": "53d8da61-bb48-4c73-b5b4-ec789a214ce2"
      },
      "source": [
        "import matplotlib.pyplot as plt\n",
        "import numpy as np\n",
        "x=np.array([0,1,2,3])\n",
        "y=np.array([3,5,2,10])\n",
        "plt.subplot(1,2,1)\n",
        "plt.plot(x,y)"
      ],
      "execution_count": 185,
      "outputs": [
        {
          "output_type": "execute_result",
          "data": {
            "text/plain": [
              "[<matplotlib.lines.Line2D at 0x7f167ff25128>]"
            ]
          },
          "metadata": {
            "tags": []
          },
          "execution_count": 185
        },
        {
          "output_type": "display_data",
          "data": {
            "image/png": "[encoded data removed]",
            "text/plain": [
              "<Figure size 432x288 with 1 Axes>"
            ]
          },
          "metadata": {
            "tags": [],
            "needs_background": "light"
          }
        }
      ]
    },
    {
      "cell_type": "code",
      "metadata": {
        "id": "kq4WNVKW-kFV",
        "colab": {
          "base_uri": "https://localhost:8080/",
          "height": 265
        },
        "outputId": "8a0764e0-8a7c-45ca-b6e7-b7482e3d2d77"
      },
      "source": [
        "import matplotlib.pyplot as plt\n",
        "import numpy as np\n",
        "\n",
        "x=np.array([0,1,2,3])\n",
        "y=np.array([3,5,2,10])\n",
        "\n",
        "plt.subplot(2,1,1)\n",
        "plt.plot(x,y)\n",
        "\n",
        "x=np.array([0,1,2,3])\n",
        "y=np.array([13,25,32,40])\n",
        "plt.subplot(2,1,2)\n",
        "plt.plot(x,y)\n",
        "\n",
        "plt.show()"
      ],
      "execution_count": 186,
      "outputs": [
        {
          "output_type": "display_data",
          "data": {
            "image/png": "[encoded data removed]",
            "text/plain": [
              "<Figure size 432x288 with 2 Axes>"
            ]
          },
          "metadata": {
            "tags": [],
            "needs_background": "light"
          }
        }
      ]
    },
    {
      "cell_type": "code",
      "metadata": {
        "id": "BDFwkeLY_p6m",
        "colab": {
          "base_uri": "https://localhost:8080/",
          "height": 265
        },
        "outputId": "0d6f7d6a-e572-44ab-9a2c-2eaafc770d94"
      },
      "source": [
        "import matplotlib.pyplot as plt\n",
        "import numpy as np\n",
        "x = np.array([0,1,2,3])\n",
        "y = np.array([3,5,2,10])\n",
        "plt.subplot(2,3,1)\n",
        "plt.plot(x,y)\n",
        "\n",
        "x = np.array([0,1,2,3])\n",
        "y = np.array([13,25,32,40])\n",
        "plt.subplot(2,3,2)\n",
        "plt.plot(x,y)\n",
        "\n",
        "x = np.array([2,13,2,13])\n",
        "y = np.array([13,5,32,40])\n",
        "plt.subplot(2,3,3)\n",
        "plt.plot(x,y)\n",
        "\n",
        "x = np.array([10,11,12,13])\n",
        "y = np.array([3,5,32,20])\n",
        "plt.subplot(2,3,4)\n",
        "plt.plot(x,y)\n",
        "\n",
        "x = np.array([12,13,2,113])\n",
        "y = np.array([13,15,132,40])\n",
        "plt.subplot(2,3,5)\n",
        "plt.plot(x,y)\n",
        "\n",
        "plt.show()"
      ],
      "execution_count": 187,
      "outputs": [
        {
          "output_type": "display_data",
          "data": {
            "image/png": "[encoded data removed]",
            "text/plain": [
              "<Figure size 432x288 with 5 Axes>"
            ]
          },
          "metadata": {
            "tags": [],
            "needs_background": "light"
          }
        }
      ]
    },
    {
      "cell_type": "code",
      "metadata": {
        "id": "iCS53-NFAfpd",
        "colab": {
          "base_uri": "https://localhost:8080/",
          "height": 294
        },
        "outputId": "a50ccb74-8f24-4e6e-ff01-466bf2479375"
      },
      "source": [
        "import matplotlib.pyplot as plt\n",
        "import numpy as np\n",
        "\n",
        "x=np.array([0,1,2,3])\n",
        "y=np.array([3,5,2,10])\n",
        "\n",
        "plt.subplot(1,2,1)\n",
        "plt.plot(x,y)\n",
        "plt.title('SALES')\n",
        "\n",
        "x=np.array([0,1,2,3])\n",
        "y=np.array([13,25,32,40])\n",
        "plt.subplot(1,2,2)\n",
        "plt.plot(x,y)\n",
        "plt.title('INCOME')\n",
        "plt.suptitle('WORKSHOP OF ACHARYA COLLEGE')\n",
        "plt.show()"
      ],
      "execution_count": 188,
      "outputs": [
        {
          "output_type": "display_data",
          "data": {
            "image/png": "[encoded data removed]",
            "text/plain": [
              "<Figure size 432x288 with 2 Axes>"
            ]
          },
          "metadata": {
            "tags": [],
            "needs_background": "light"
          }
        }
      ]
    },
    {
      "cell_type": "code",
      "metadata": {
        "id": "Z3azVjGzBAiO",
        "colab": {
          "base_uri": "https://localhost:8080/",
          "height": 294
        },
        "outputId": "e82683e0-d5a7-4307-ace4-951925c7a323"
      },
      "source": [
        "import matplotlib.pyplot as plt\n",
        "import numpy as np\n",
        "\n",
        "x=np.array([10,20,30,40])\n",
        "y=np.array([30,40,50,60])\n",
        "\n",
        "plt.subplot(1,2,1)\n",
        "plt.plot(x,y)\n",
        "plt.title('first')\n",
        "\n",
        "x=np.array([50,60,70,80])\n",
        "y=np.array([40,50,60,70])\n",
        "plt.subplot(1,2,2)\n",
        "plt.plot(x,y)\n",
        "plt.title('second')\n",
        "plt.suptitle('first & second')\n",
        "\n",
        "plt.show()"
      ],
      "execution_count": 189,
      "outputs": [
        {
          "output_type": "display_data",
          "data": {
            "image/png": "[encoded data removed]",
            "text/plain": [
              "<Figure size 432x288 with 2 Axes>"
            ]
          },
          "metadata": {
            "tags": [],
            "needs_background": "light"
          }
        }
      ]
    },
    {
      "cell_type": "code",
      "metadata": {
        "id": "XWa0ORw-CTsX",
        "colab": {
          "base_uri": "https://localhost:8080/",
          "height": 281
        },
        "outputId": "17e626c0-adbc-46c3-f94e-384a74ca10c0"
      },
      "source": [
        "import matplotlib.pyplot as plt\n",
        "import numpy as np\n",
        "\n",
        "x=np.array([0,1,3,5,2,7,6,9,3,4,0,1,4,7,6,8])\n",
        "y=np.array([5,8,1,0,4,9,7,3,2,5,7,3,5,2,4,6])\n",
        "\n",
        "plt.scatter(x,y)\n",
        "plt.title('scatter plot')\n",
        "plt.show()"
      ],
      "execution_count": 190,
      "outputs": [
        {
          "output_type": "display_data",
          "data": {
            "image/png": "[encoded data removed]",
            "text/plain": [
              "<Figure size 432x288 with 1 Axes>"
            ]
          },
          "metadata": {
            "tags": [],
            "needs_background": "light"
          }
        }
      ]
    },
    {
      "cell_type": "code",
      "metadata": {
        "id": "6T7mmod8DMeo",
        "colab": {
          "base_uri": "https://localhost:8080/",
          "height": 281
        },
        "outputId": "ba9914e7-ad2d-4bea-eb16-3511e1e1ab31"
      },
      "source": [
        "import matplotlib.pyplot as plt\n",
        "import numpy as np\n",
        "\n",
        "x=np.array([0,1,3,5,2,7,6,9,3,4,0,1,4,7,6,8])\n",
        "y=np.array([5,8,1,0,4,9,7,3,2,5,7,3,5,2,4,6])\n",
        "plt.scatter(x,y)\n",
        "\n",
        "x=np.array([1,2,3,4,5,6,3,7,4,7,5,8,9,3,5,6,7])\n",
        "y=np.array([9,8,7,6,5,4,2,8,4,6,4,6,4,6,4,2,1])\n",
        "plt.scatter(x,y)\n",
        "plt.title('scatter plot')\n",
        "plt.show()"
      ],
      "execution_count": 191,
      "outputs": [
        {
          "output_type": "display_data",
          "data": {
            "image/png": "[encoded data removed]",
            "text/plain": [
              "<Figure size 432x288 with 1 Axes>"
            ]
          },
          "metadata": {
            "tags": [],
            "needs_background": "light"
          }
        }
      ]
    },
    {
      "cell_type": "code",
      "metadata": {
        "id": "lJyjO9K5D1GT",
        "colab": {
          "base_uri": "https://localhost:8080/",
          "height": 281
        },
        "outputId": "5493e3b4-97b4-4895-9c0b-651424867e81"
      },
      "source": [
        "import matplotlib.pyplot as plt\n",
        "import numpy as np\n",
        "\n",
        "x=np.array([0,1,3,5,2,7,6,9,3,4,0,1,4,7,6,8])\n",
        "y=np.array([5,8,1,0,4,9,7,3,2,5,7,3,5,2,4,6])\n",
        "plt.scatter(x,y, color='red')\n",
        "\n",
        "x=np.array([1,2,3,4,5,6,3,7,4,7,5,8,9,3,5,6,7])\n",
        "y=np.array([9,8,7,6,5,4,2,8,4,6,4,6,4,6,4,2,1])\n",
        "plt.scatter(x,y, color='black')\n",
        "plt.title('scatter plot')\n",
        "plt.show()"
      ],
      "execution_count": 192,
      "outputs": [
        {
          "output_type": "display_data",
          "data": {
            "image/png": "[encoded data removed]",
            "text/plain": [
              "<Figure size 432x288 with 1 Axes>"
            ]
          },
          "metadata": {
            "tags": [],
            "needs_background": "light"
          }
        }
      ]
    },
    {
      "cell_type": "code",
      "metadata": {
        "id": "iLZwkctsEDlD",
        "colab": {
          "base_uri": "https://localhost:8080/",
          "height": 281
        },
        "outputId": "c1e0f9fe-c5dd-4040-f161-45ba38a5f2e6"
      },
      "source": [
        "import matplotlib.pyplot as plt\n",
        "import numpy as np\n",
        "\n",
        "x=np.array([0,1,3,5,2,7,6,9,3,4,0,1,4,7,6,8])\n",
        "y=np.array([5,8,1,0,4,9,7,3,2,5,7,3,5,2,4,6])\n",
        "plt.scatter(x,y, color='r')\n",
        "\n",
        "x=np.array([1,2,3,4,5,6,3,7,4,7,5,8,9,3,5,6,7])\n",
        "y=np.array([9,8,7,6,5,4,2,8,4,6,4,6,4,6,4,2,1])\n",
        "plt.scatter(x,y, color='b')\n",
        "plt.title('scatter plot')\n",
        "plt.show()"
      ],
      "execution_count": 193,
      "outputs": [
        {
          "output_type": "display_data",
          "data": {
            "image/png": "[encoded data removed]",
            "text/plain": [
              "<Figure size 432x288 with 1 Axes>"
            ]
          },
          "metadata": {
            "tags": [],
            "needs_background": "light"
          }
        }
      ]
    },
    {
      "cell_type": "code",
      "metadata": {
        "id": "Gcbqc3FpEiyT",
        "colab": {
          "base_uri": "https://localhost:8080/",
          "height": 265
        },
        "outputId": "a842273a-e558-45b3-d404-e686a1c40449"
      },
      "source": [
        "import matplotlib.pyplot as plt\r\n",
        "import numpy as np\r\n",
        "\r\n",
        "x=np.array([1,3,5,3,6,8,4,6,8,9,1])\r\n",
        "y=np.array([99,86,54,32,98,111,87,44,13,90,99])\r\n",
        "colors =np.array([0,10,20,30,40,50,60,70,80,90,100])\r\n",
        "plt.scatter(x,y,c=colors,cmap='viridis')\r\n",
        "plt.show()"
      ],
      "execution_count": 194,
      "outputs": [
        {
          "output_type": "display_data",
          "data": {
            "image/png": "[encoded data removed]",
            "text/plain": [
              "<Figure size 432x288 with 1 Axes>"
            ]
          },
          "metadata": {
            "tags": [],
            "needs_background": "light"
          }
        }
      ]
    },
    {
      "cell_type": "code",
      "metadata": {
        "id": "wxM_kjdH_CyE",
        "colab": {
          "base_uri": "https://localhost:8080/",
          "height": 269
        },
        "outputId": "a7d1742c-b084-49f5-a581-07fa8c269b3e"
      },
      "source": [
        "import matplotlib.pyplot as plt\r\n",
        "import numpy as np\r\n",
        "\r\n",
        "x=np.array([1,3,5,3,6,8,4,6,8,9,1])\r\n",
        "y=np.array([99,86,54,32,98,111,87,44,13,90,99])\r\n",
        "colors =np.array([0,10,20,30,40,50,60,70,80,90,100])\r\n",
        "plt.scatter(x,y,c=colors,cmap='viridis')\r\n",
        "plt.colorbar()\r\n",
        "plt.show()"
      ],
      "execution_count": 195,
      "outputs": [
        {
          "output_type": "display_data",
          "data": {
            "image/png": "[encoded data removed]",
            "text/plain": [
              "<Figure size 432x288 with 2 Axes>"
            ]
          },
          "metadata": {
            "tags": [],
            "needs_background": "light"
          }
        }
      ]
    },
    {
      "cell_type": "code",
      "metadata": {
        "id": "-jvH-Rrv_vbK",
        "colab": {
          "base_uri": "https://localhost:8080/",
          "height": 265
        },
        "outputId": "d52253c0-981e-4365-f28f-c91faa37b421"
      },
      "source": [
        "import matplotlib.pyplot as plt\r\n",
        "import numpy as np\r\n",
        "\r\n",
        "x=np.array([1,3,5,3,6,8,4,6,8,9,1])\r\n",
        "y=np.array([99,86,54,32,98,111,87,44,13,90,99])\r\n",
        "colors =np.array([0,10,20,30,40,50,60,70,80,90,100])\r\n",
        "plt.scatter(x,y,c=colors,cmap='Accent')\r\n",
        "plt.show()"
      ],
      "execution_count": 196,
      "outputs": [
        {
          "output_type": "display_data",
          "data": {
            "image/png": "[encoded data removed]",
            "text/plain": [
              "<Figure size 432x288 with 1 Axes>"
            ]
          },
          "metadata": {
            "tags": [],
            "needs_background": "light"
          }
        }
      ]
    },
    {
      "cell_type": "code",
      "metadata": {
        "id": "pjJKV9dhAEfJ",
        "colab": {
          "base_uri": "https://localhost:8080/",
          "height": 269
        },
        "outputId": "02b71918-6137-4863-c25b-644ed80d8be8"
      },
      "source": [
        "import matplotlib.pyplot as plt\r\n",
        "import numpy as np\r\n",
        "\r\n",
        "x=np.array([1,3,5,3,6,8,4,6,8,9,1])\r\n",
        "y=np.array([99,86,54,32,98,111,87,44,13,90,99])\r\n",
        "sizes =np.array([0,10,20,30,40,50,60,70,80,90,100])\r\n",
        "plt.scatter(x,y,s=sizes,alpha=0.5)\r\n",
        "plt.colorbar()\r\n",
        "plt.show()"
      ],
      "execution_count": 197,
      "outputs": [
        {
          "output_type": "display_data",
          "data": {
            "image/png": "[encoded data removed]",
            "text/plain": [
              "<Figure size 432x288 with 2 Axes>"
            ]
          },
          "metadata": {
            "tags": [],
            "needs_background": "light"
          }
        }
      ]
    },
    {
      "cell_type": "code",
      "metadata": {
        "id": "T2-rNnfvAnI7",
        "colab": {
          "base_uri": "https://localhost:8080/",
          "height": 265
        },
        "outputId": "ea2d8a0a-8eef-446d-f690-e833cd7c5642"
      },
      "source": [
        "import matplotlib.pyplot as plt\r\n",
        "import numpy as np\r\n",
        "\r\n",
        "x =np.random.randint(100,size=(100))\r\n",
        "y =np.random.randint(100,size=(100))\r\n",
        "colors =np.random.randint(100,size=(100))\r\n",
        "sizes =10*np.random.randint(100,size=(100))\r\n",
        "plt.scatter(x,y,c=colors,s=sizes,alpha=0.7,cmap='nipy_spectral')\r\n",
        "plt.show()"
      ],
      "execution_count": 198,
      "outputs": [
        {
          "output_type": "display_data",
          "data": {
            "image/png": "[encoded data removed]",
            "text/plain": [
              "<Figure size 432x288 with 1 Axes>"
            ]
          },
          "metadata": {
            "tags": [],
            "needs_background": "light"
          }
        }
      ]
    },
    {
      "cell_type": "code",
      "metadata": {
        "id": "341XAg-MB_37",
        "colab": {
          "base_uri": "https://localhost:8080/",
          "height": 265
        },
        "outputId": "7785cb62-c2cc-47c7-b73f-15fdf4e9f796"
      },
      "source": [
        "import matplotlib.pyplot as plt\r\n",
        "import numpy as np\r\n",
        "\r\n",
        "x = np.random.randint(100,size=(100))\r\n",
        "y = np.random.randint(100,size=(100))\r\n",
        "colors = np.random.randint(100,size=(100))\r\n",
        "sizes = 10 * np.random.randint(100,size=(100))\r\n",
        "\r\n",
        "plt.scatter(x,y,c=colors,s=sizes,alpha=0.5,cmap='nipy_spectral')\r\n",
        "plt.colorbar()\r\n",
        "\r\n",
        "plt.show()"
      ],
      "execution_count": 199,
      "outputs": [
        {
          "output_type": "display_data",
          "data": {
            "image/png": "[encoded data removed]",
            "text/plain": [
              "<Figure size 432x288 with 2 Axes>"
            ]
          },
          "metadata": {
            "tags": [],
            "needs_background": "light"
          }
        }
      ]
    },
    {
      "cell_type": "code",
      "metadata": {
        "id": "XjLF55Bsr7L6"
      },
      "source": [
        ""
      ],
      "execution_count": 199,
      "outputs": []
    },
    {
      "cell_type": "markdown",
      "metadata": {
        "id": "JF4-OiUlK3gr"
      },
      "source": [
        "##bar plots/charts##"
      ]
    },
    {
      "cell_type": "code",
      "metadata": {
        "id": "EZo6ed6nCG1_",
        "colab": {
          "base_uri": "https://localhost:8080/",
          "height": 265
        },
        "outputId": "8c40ec44-8db9-420c-b1f7-b2c1b3f67d09"
      },
      "source": [
        "import matplotlib.pyplot as plt\r\n",
        "import numpy as np\r\n",
        "x=np.array([\"a\",\"b\",\"c\",\"d\"])\r\n",
        "y=np.array([23,50,87,39])\r\n",
        "plt.bar(x,y)\r\n",
        "plt.show()"
      ],
      "execution_count": 200,
      "outputs": [
        {
          "output_type": "display_data",
          "data": {
            "image/png": "[encoded data removed]",
            "text/plain": [
              "<Figure size 432x288 with 1 Axes>"
            ]
          },
          "metadata": {
            "tags": [],
            "needs_background": "light"
          }
        }
      ]
    },
    {
      "cell_type": "code",
      "metadata": {
        "id": "ryFm1OARDi9r",
        "colab": {
          "base_uri": "https://localhost:8080/",
          "height": 265
        },
        "outputId": "ddcad9b3-86e0-4095-98a8-7ea6a357580a"
      },
      "source": [
        "import matplotlib.pyplot as plt\r\n",
        "import numpy as np\r\n",
        "x=np.array([\"a\",\"b\",\"c\",\"d\"])\r\n",
        "y=np.array([23,50,87,39])\r\n",
        "plt.barh(x,y)\r\n",
        "plt.show()"
      ],
      "execution_count": 201,
      "outputs": [
        {
          "output_type": "display_data",
          "data": {
            "image/png": "[encoded data removed]",
            "text/plain": [
              "<Figure size 432x288 with 1 Axes>"
            ]
          },
          "metadata": {
            "tags": [],
            "needs_background": "light"
          }
        }
      ]
    },
    {
      "cell_type": "code",
      "metadata": {
        "id": "uBC1lWG3DzcM",
        "colab": {
          "base_uri": "https://localhost:8080/",
          "height": 265
        },
        "outputId": "36f36bd2-d37a-4e12-b439-e2ff8c7c68f2"
      },
      "source": [
        "import matplotlib.pyplot as plt\r\n",
        "import numpy as np\r\n",
        "x=np.array([\"a\",\"b\",\"c\",\"d\"])\r\n",
        "y=np.array([23,50,87,39])\r\n",
        "plt.bar(x,y,color='r')\r\n",
        "plt.show()"
      ],
      "execution_count": 202,
      "outputs": [
        {
          "output_type": "display_data",
          "data": {
            "image/png": "[encoded data removed]",
            "text/plain": [
              "<Figure size 432x288 with 1 Axes>"
            ]
          },
          "metadata": {
            "tags": [],
            "needs_background": "light"
          }
        }
      ]
    },
    {
      "cell_type": "code",
      "metadata": {
        "id": "2cCepSn6D6Ze",
        "colab": {
          "base_uri": "https://localhost:8080/",
          "height": 265
        },
        "outputId": "59f7dbe6-c2ac-4636-bd94-f18b15dd98bf"
      },
      "source": [
        "import matplotlib.pyplot as plt\r\n",
        "import numpy as np\r\n",
        "x=np.array([\"a\",\"b\",\"c\",\"d\"])\r\n",
        "y=np.array([23,50,87,39])\r\n",
        "plt.bar(x,y,width=0.1)\r\n",
        "plt.show()"
      ],
      "execution_count": 203,
      "outputs": [
        {
          "output_type": "display_data",
          "data": {
            "image/png": "[encoded data removed]",
            "text/plain": [
              "<Figure size 432x288 with 1 Axes>"
            ]
          },
          "metadata": {
            "tags": [],
            "needs_background": "light"
          }
        }
      ]
    },
    {
      "cell_type": "code",
      "metadata": {
        "id": "177WtQDHEoWX",
        "colab": {
          "base_uri": "https://localhost:8080/",
          "height": 265
        },
        "outputId": "99f8440f-eff3-40c5-8e4a-be287649edfe"
      },
      "source": [
        "import matplotlib.pyplot as plt\r\n",
        "import numpy as np\r\n",
        "x=np.array([\"a\",\"b\",\"c\",\"d\"])\r\n",
        "y=np.array([23,50,87,39])\r\n",
        "plt.bar(x,y,width=0.5)\r\n",
        "plt.show()"
      ],
      "execution_count": 204,
      "outputs": [
        {
          "output_type": "display_data",
          "data": {
            "image/png": "[encoded data removed]",
            "text/plain": [
              "<Figure size 432x288 with 1 Axes>"
            ]
          },
          "metadata": {
            "tags": [],
            "needs_background": "light"
          }
        }
      ]
    },
    {
      "cell_type": "code",
      "metadata": {
        "id": "NnXNoItuEsfk",
        "colab": {
          "base_uri": "https://localhost:8080/",
          "height": 265
        },
        "outputId": "888a7bea-f8c9-49c1-ff60-230acaa8ee93"
      },
      "source": [
        "import matplotlib.pyplot as plt\r\n",
        "import numpy as np\r\n",
        "x=np.array([\"a\",\"b\",\"c\",\"d\"])\r\n",
        "y=np.array([23,50,87,39])\r\n",
        "plt.barh(x,y,height=0.1)\r\n",
        "plt.show()"
      ],
      "execution_count": 205,
      "outputs": [
        {
          "output_type": "display_data",
          "data": {
            "image/png": "[encoded data removed]",
            "text/plain": [
              "<Figure size 432x288 with 1 Axes>"
            ]
          },
          "metadata": {
            "tags": [],
            "needs_background": "light"
          }
        }
      ]
    },
    {
      "cell_type": "code",
      "metadata": {
        "id": "PcNxP8gjE7AU"
      },
      "source": [
        "import numpy as np\r\n",
        "\r\n",
        "x=np.random.normal(170,10,250)"
      ],
      "execution_count": 206,
      "outputs": []
    },
    {
      "cell_type": "code",
      "metadata": {
        "id": "S5lFcAczF3SW",
        "colab": {
          "base_uri": "https://localhost:8080/",
          "height": 266
        },
        "outputId": "2b657b52-8c33-44d2-e9cc-9b859404c70a"
      },
      "source": [
        "import numpy as np\r\n",
        "import matplotlib.pyplot as plt\r\n",
        "\r\n",
        "\r\n",
        "x=np.random.normal(170,10,250)\r\n",
        "plt.hist(x)\r\n",
        "plt.show()\r\n"
      ],
      "execution_count": 207,
      "outputs": [
        {
          "output_type": "display_data",
          "data": {
            "image/png": "[encoded data removed]",
            "text/plain": [
              "<Figure size 432x288 with 1 Axes>"
            ]
          },
          "metadata": {
            "tags": [],
            "needs_background": "light"
          }
        }
      ]
    },
    {
      "cell_type": "code",
      "metadata": {
        "id": "7PZ-ZKs6GCMV",
        "colab": {
          "base_uri": "https://localhost:8080/",
          "height": 248
        },
        "outputId": "f955ec99-f8bf-442c-cd0c-e02d21048607"
      },
      "source": [
        "import numpy as np\r\n",
        "import matplotlib.pyplot as plt\r\n",
        "y=np.array([35,15,25,25])\r\n",
        "plt.pie(y)\r\n",
        "plt.show()\r\n"
      ],
      "execution_count": 208,
      "outputs": [
        {
          "output_type": "display_data",
          "data": {
            "image/png": "[encoded data removed]",
            "text/plain": [
              "<Figure size 432x288 with 1 Axes>"
            ]
          },
          "metadata": {
            "tags": []
          }
        }
      ]
    },
    {
      "cell_type": "code",
      "metadata": {
        "id": "y-FuKV1TGg-J",
        "colab": {
          "base_uri": "https://localhost:8080/",
          "height": 248
        },
        "outputId": "4dde46c3-b613-4c2f-e476-bfd62cffda1d"
      },
      "source": [
        "import numpy as np\r\n",
        "import matplotlib.pyplot as plt\r\n",
        "y=np.array([35,15,25,25])\r\n",
        "mylabels=['Manas','rony','john','deku']\r\n",
        "plt.pie(y,labels=mylabels)\r\n",
        "plt.show()"
      ],
      "execution_count": 209,
      "outputs": [
        {
          "output_type": "display_data",
          "data": {
            "image/png": "[encoded data removed]",
            "text/plain": [
              "<Figure size 432x288 with 1 Axes>"
            ]
          },
          "metadata": {
            "tags": []
          }
        }
      ]
    },
    {
      "cell_type": "code",
      "metadata": {
        "id": "UC3rP_oJHSNM",
        "colab": {
          "base_uri": "https://localhost:8080/",
          "height": 248
        },
        "outputId": "abab0794-c55b-4cfb-eb58-605128eef8a1"
      },
      "source": [
        "import numpy as np\r\n",
        "import matplotlib.pyplot as plt\r\n",
        "y=np.array([35,15,25,25])\r\n",
        "mylabels=['Manas','rony','john','deku']\r\n",
        "myexplode=[0.2,0,0,0]\r\n",
        "plt.pie(y,labels=mylabels,explode=myexplode)\r\n",
        "plt.show()"
      ],
      "execution_count": 210,
      "outputs": [
        {
          "output_type": "display_data",
          "data": {
            "image/png": "[encoded data removed]",
            "text/plain": [
              "<Figure size 432x288 with 1 Axes>"
            ]
          },
          "metadata": {
            "tags": []
          }
        }
      ]
    },
    {
      "cell_type": "code",
      "metadata": {
        "id": "WzWCTewoHku0",
        "colab": {
          "base_uri": "https://localhost:8080/",
          "height": 248
        },
        "outputId": "638b8301-1ed4-4a19-fbb2-b270f252e18d"
      },
      "source": [
        "import numpy as np\r\n",
        "import matplotlib.pyplot as plt\r\n",
        "y=np.array([35,15,25,25])\r\n",
        "mylabels=['Manas','rony','john','deku']\r\n",
        "myexplode=[0.2,0,0,0]\r\n",
        "plt.pie(y,labels=mylabels,explode=myexplode,shadow=True)\r\n",
        "plt.show()"
      ],
      "execution_count": 211,
      "outputs": [
        {
          "output_type": "display_data",
          "data": {
            "image/png": "[encoded data removed]",
            "text/plain": [
              "<Figure size 432x288 with 1 Axes>"
            ]
          },
          "metadata": {
            "tags": []
          }
        }
      ]
    },
    {
      "cell_type": "code",
      "metadata": {
        "id": "Aoa-XfKYHtJ1",
        "colab": {
          "base_uri": "https://localhost:8080/",
          "height": 248
        },
        "outputId": "c4f0d92a-b19e-4975-bc8e-a5dc8752408a"
      },
      "source": [
        "import numpy as np\r\n",
        "import matplotlib.pyplot as plt\r\n",
        "y=np.array([35,15,25,25])\r\n",
        "mylabels=['Manas','rony','john','deku']\r\n",
        "myexplode=[0.2,0,0,0]\r\n",
        "plt.pie(y,labels=mylabels,explode=myexplode,shadow=True)\r\n",
        "plt.legend()\r\n",
        "plt.show()"
      ],
      "execution_count": 212,
      "outputs": [
        {
          "output_type": "display_data",
          "data": {
            "image/png": "[encoded data removed]",
            "text/plain": [
              "<Figure size 432x288 with 1 Axes>"
            ]
          },
          "metadata": {
            "tags": []
          }
        }
      ]
    },
    {
      "cell_type": "code",
      "metadata": {
        "id": "sB1PtjwaICbK",
        "colab": {
          "base_uri": "https://localhost:8080/",
          "height": 248
        },
        "outputId": "ce412b75-8ba9-475d-e05a-b48c3365e715"
      },
      "source": [
        "import numpy as np\r\n",
        "import matplotlib.pyplot as plt\r\n",
        "y=np.array([35,15,25,25])\r\n",
        "mylabels=['Manas','rony','john','deku']\r\n",
        "myexplode=[0.2,0,0,0]\r\n",
        "plt.pie(y,labels=mylabels,explode=myexplode,shadow=True)\r\n",
        "plt.legend(title='studentnames:')\r\n",
        "plt.show()"
      ],
      "execution_count": 213,
      "outputs": [
        {
          "output_type": "display_data",
          "data": {
            "image/png": "[encoded data removed]",
            "text/plain": [
              "<Figure size 432x288 with 1 Axes>"
            ]
          },
          "metadata": {
            "tags": []
          }
        }
      ]
    },
    {
      "cell_type": "code",
      "metadata": {
        "id": "R1ZNq9PqIcGR",
        "colab": {
          "base_uri": "https://localhost:8080/",
          "height": 280
        },
        "outputId": "6c84f075-c0f3-4694-d9ad-a38e72f90aec"
      },
      "source": [
        "import numpy as np\r\n",
        "import matplotlib.pyplot as plt\r\n",
        "y=np.array([43,17,20,20])\r\n",
        "user_names=['Manas','rony','john','deku']\r\n",
        "myexplode=[0.5,0,0,0]\r\n",
        "plt.pie(y,labels=user_names,explode=myexplode,shadow=True)\r\n",
        "plt.legend(title='users:')\r\n",
        "plt.show()"
      ],
      "execution_count": 214,
      "outputs": [
        {
          "output_type": "display_data",
          "data": {
            "image/png": "[encoded data removed]",
            "text/plain": [
              "<Figure size 432x288 with 1 Axes>"
            ]
          },
          "metadata": {
            "tags": []
          }
        }
      ]
    }
  ]
}