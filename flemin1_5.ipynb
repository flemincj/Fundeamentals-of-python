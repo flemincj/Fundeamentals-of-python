{
  "nbformat": 4,
  "nbformat_minor": 0,
  "metadata": {
    "colab": {
      "name": "flemin1.5.ipynb",
      "provenance": [],
      "collapsed_sections": []
    },
    "kernelspec": {
      "name": "python3",
      "display_name": "Python 3"
    }
  },
  "cells": [
    {
      "cell_type": "markdown",
      "metadata": {
        "id": "Piq3Cnjfhvfo"
      },
      "source": [
        "##Scientific Computing using Scipy##"
      ]
    },
    {
      "cell_type": "code",
      "metadata": {
        "colab": {
          "base_uri": "https://localhost:8080/"
        },
        "id": "8tQlimPXhv9o",
        "outputId": "a9fed24b-2370-4717-f625-9ffa4c85e220"
      },
      "source": [
        "from scipy import constants\r\n",
        "print(constants.pi)"
      ],
      "execution_count": 1,
      "outputs": [
        {
          "output_type": "stream",
          "text": [
            "3.141592653589793\n"
          ],
          "name": "stdout"
        }
      ]
    },
    {
      "cell_type": "code",
      "metadata": {
        "colab": {
          "base_uri": "https://localhost:8080/"
        },
        "id": "Ui98Lhwghz3R",
        "outputId": "62d36366-3424-495d-b5ea-44e1a8630dec"
      },
      "source": [
        "print(dir(constants))"
      ],
      "execution_count": 2,
      "outputs": [
        {
          "output_type": "stream",
          "text": [
            "['Avogadro', 'Boltzmann', 'Btu', 'Btu_IT', 'Btu_th', 'ConstantWarning', 'G', 'Julian_year', 'N_A', 'Planck', 'R', 'Rydberg', 'Stefan_Boltzmann', 'Wien', '__all__', '__builtins__', '__cached__', '__doc__', '__file__', '__loader__', '__name__', '__package__', '__path__', '__spec__', '_obsolete_constants', 'absolute_import', 'acre', 'alpha', 'angstrom', 'arcmin', 'arcminute', 'arcsec', 'arcsecond', 'astronomical_unit', 'atm', 'atmosphere', 'atomic_mass', 'atto', 'au', 'bar', 'barrel', 'bbl', 'blob', 'c', 'calorie', 'calorie_IT', 'calorie_th', 'carat', 'centi', 'codata', 'constants', 'convert_temperature', 'day', 'deci', 'degree', 'degree_Fahrenheit', 'deka', 'division', 'dyn', 'dyne', 'e', 'eV', 'electron_mass', 'electron_volt', 'elementary_charge', 'epsilon_0', 'erg', 'exa', 'exbi', 'femto', 'fermi', 'find', 'fine_structure', 'fluid_ounce', 'fluid_ounce_US', 'fluid_ounce_imp', 'foot', 'g', 'gallon', 'gallon_US', 'gallon_imp', 'gas_constant', 'gibi', 'giga', 'golden', 'golden_ratio', 'grain', 'gram', 'gravitational_constant', 'h', 'hbar', 'hectare', 'hecto', 'horsepower', 'hour', 'hp', 'inch', 'k', 'kgf', 'kibi', 'kilo', 'kilogram_force', 'kmh', 'knot', 'lambda2nu', 'lb', 'lbf', 'light_year', 'liter', 'litre', 'long_ton', 'm_e', 'm_n', 'm_p', 'm_u', 'mach', 'mebi', 'mega', 'metric_ton', 'micro', 'micron', 'mil', 'mile', 'milli', 'minute', 'mmHg', 'mph', 'mu_0', 'nano', 'nautical_mile', 'neutron_mass', 'nu2lambda', 'ounce', 'oz', 'parsec', 'pebi', 'peta', 'physical_constants', 'pi', 'pico', 'point', 'pound', 'pound_force', 'precision', 'print_function', 'proton_mass', 'psi', 'pt', 'short_ton', 'sigma', 'slinch', 'slug', 'speed_of_light', 'speed_of_sound', 'stone', 'survey_foot', 'survey_mile', 'tebi', 'tera', 'test', 'ton_TNT', 'torr', 'troy_ounce', 'troy_pound', 'u', 'unit', 'value', 'week', 'yard', 'year', 'yobi', 'yotta', 'zebi', 'zepto', 'zero_Celsius', 'zetta']\n"
          ],
          "name": "stdout"
        }
      ]
    },
    {
      "cell_type": "code",
      "metadata": {
        "colab": {
          "base_uri": "https://localhost:8080/"
        },
        "id": "ac6gjpQCh3bV",
        "outputId": "1ce49cd3-fcd4-48e1-8fe1-7e856b0fd2a1"
      },
      "source": [
        "from scipy import constants\r\n",
        "print(constants.gram)\r\n",
        "print(constants.pound)\r\n",
        "print(constants.carat)\r\n",
        "print(constants.u)\r\n",
        "print(constants.atomic_mass)\r\n",
        "print(constants.astronomical_unit)"
      ],
      "execution_count": 3,
      "outputs": [
        {
          "output_type": "stream",
          "text": [
            "0.001\n",
            "0.45359236999999997\n",
            "0.0002\n",
            "1.6605390666e-27\n",
            "1.6605390666e-27\n",
            "149597870700.0\n"
          ],
          "name": "stdout"
        }
      ]
    },
    {
      "cell_type": "code",
      "metadata": {
        "colab": {
          "base_uri": "https://localhost:8080/"
        },
        "id": "d5PNs6Wsh5dn",
        "outputId": "573c5e4e-f569-4eae-c80c-93336584b560"
      },
      "source": [
        "from scipy import constants\r\n",
        "print(constants.minute)\r\n",
        "print(constants.hour)\r\n",
        "print(constants.week)\r\n",
        "print(constants.year)\r\n",
        "print(constants.Julian_year)"
      ],
      "execution_count": 4,
      "outputs": [
        {
          "output_type": "stream",
          "text": [
            "60.0\n",
            "3600.0\n",
            "604800.0\n",
            "31536000.0\n",
            "31557600.0\n"
          ],
          "name": "stdout"
        }
      ]
    },
    {
      "cell_type": "code",
      "metadata": {
        "colab": {
          "base_uri": "https://localhost:8080/"
        },
        "id": "8Ec2Kw_nh9V7",
        "outputId": "7c4c7d52-3512-4411-93bc-a88d7941f355"
      },
      "source": [
        "from scipy import constants\r\n",
        "print(constants.yotta)\r\n",
        "print(constants.zetta)\r\n",
        "print(constants.tera)\r\n",
        "print(constants.mega)\r\n",
        "print(constants.kilo)\r\n",
        "print(constants.astronomical_unit)\r\n",
        "print(constants.atomic_mass)\r\n",
        "print(constants.year)\r\n",
        "print(constants.Julian_year)"
      ],
      "execution_count": 5,
      "outputs": [
        {
          "output_type": "stream",
          "text": [
            "1e+24\n",
            "1e+21\n",
            "1000000000000.0\n",
            "1000000.0\n",
            "1000.0\n",
            "149597870700.0\n",
            "1.6605390666e-27\n",
            "31536000.0\n",
            "31557600.0\n"
          ],
          "name": "stdout"
        }
      ]
    },
    {
      "cell_type": "code",
      "metadata": {
        "colab": {
          "base_uri": "https://localhost:8080/"
        },
        "id": "DU9vH9G2iAYR",
        "outputId": "e388a6d4-03ba-4f8b-a412-03f76a7fbf62"
      },
      "source": [
        "from scipy import constants\r\n",
        "print(constants.inch)\r\n",
        "print(constants.foot)\r\n",
        "print(constants.mile)\r\n",
        "print(constants.pt)\r\n",
        "print(constants.point)"
      ],
      "execution_count": 6,
      "outputs": [
        {
          "output_type": "stream",
          "text": [
            "0.0254\n",
            "0.30479999999999996\n",
            "1609.3439999999998\n",
            "0.00035277777777777776\n",
            "0.00035277777777777776\n"
          ],
          "name": "stdout"
        }
      ]
    },
    {
      "cell_type": "code",
      "metadata": {
        "colab": {
          "base_uri": "https://localhost:8080/"
        },
        "id": "PfmEVKXYiCib",
        "outputId": "9a9808e3-8cf0-4c40-d117-c3d04d2632f9"
      },
      "source": [
        "print(constants.eV)\r\n",
        "print(constants.electron_volt)"
      ],
      "execution_count": 7,
      "outputs": [
        {
          "output_type": "stream",
          "text": [
            "1.602176634e-19\n",
            "1.602176634e-19\n"
          ],
          "name": "stdout"
        }
      ]
    },
    {
      "cell_type": "code",
      "metadata": {
        "id": "7LPssOOpiFJ-"
      },
      "source": [
        "from scipy.optimize import root\r\n",
        "from math import cos\r\n",
        "def eqn(x):\r\n",
        "  return x+cos(x)\r\n",
        "myroot=root(eqn,0)"
      ],
      "execution_count": 8,
      "outputs": []
    },
    {
      "cell_type": "code",
      "metadata": {
        "colab": {
          "base_uri": "https://localhost:8080/"
        },
        "id": "vRtT6CNziHSS",
        "outputId": "6a885a72-a447-4b2a-c14a-b2a74959680f"
      },
      "source": [
        "from scipy.optimize import root\r\n",
        "from math import cos\r\n",
        "def eqn(x):\r\n",
        "  return x+cos(x)\r\n",
        "myroot=root(eqn,0)\r\n",
        "print(myroot)"
      ],
      "execution_count": 9,
      "outputs": [
        {
          "output_type": "stream",
          "text": [
            "    fjac: array([[-1.]])\n",
            "     fun: array([0.])\n",
            " message: 'The solution converged.'\n",
            "    nfev: 9\n",
            "     qtf: array([-2.66786593e-13])\n",
            "       r: array([-1.67361202])\n",
            "  status: 1\n",
            " success: True\n",
            "       x: array([-0.73908513])\n"
          ],
          "name": "stdout"
        }
      ]
    },
    {
      "cell_type": "code",
      "metadata": {
        "colab": {
          "base_uri": "https://localhost:8080/"
        },
        "id": "61_MxR_giJp4",
        "outputId": "5ca29d1e-5053-46ee-dfc0-295f2b8ed613"
      },
      "source": [
        "from scipy.optimize import root\r\n",
        "from math import cos\r\n",
        "def eqn(x):\r\n",
        "  return x+cos(x)\r\n",
        "myroot=root(eqn,1)\r\n",
        "print(myroot.x)\r\n",
        "print(myroot)"
      ],
      "execution_count": 10,
      "outputs": [
        {
          "output_type": "stream",
          "text": [
            "[-0.73908513]\n",
            "    fjac: array([[-1.]])\n",
            "     fun: array([0.])\n",
            " message: 'The solution converged.'\n",
            "    nfev: 11\n",
            "     qtf: array([2.57793786e-13])\n",
            "       r: array([-1.67361203])\n",
            "  status: 1\n",
            " success: True\n",
            "       x: array([-0.73908513])\n"
          ],
          "name": "stdout"
        }
      ]
    },
    {
      "cell_type": "code",
      "metadata": {
        "colab": {
          "base_uri": "https://localhost:8080/"
        },
        "id": "WFBfB0PNiL1z",
        "outputId": "0ce3a25e-5202-40f0-8a10-f4aec025636e"
      },
      "source": [
        "from scipy.optimize import root\r\n",
        "from math import cos\r\n",
        "def eqn(x):\r\n",
        "  return x+cos(x)\r\n",
        "myroot=root(eqn,2)\r\n",
        "print(myroot.x)\r\n",
        "print(myroot)"
      ],
      "execution_count": 11,
      "outputs": [
        {
          "output_type": "stream",
          "text": [
            "[-0.73908513]\n",
            "    fjac: array([[-1.]])\n",
            "     fun: array([0.])\n",
            " message: 'The solution converged.'\n",
            "    nfev: 11\n",
            "     qtf: array([-5.66612313e-11])\n",
            "       r: array([-1.67361183])\n",
            "  status: 1\n",
            " success: True\n",
            "       x: array([-0.73908513])\n"
          ],
          "name": "stdout"
        }
      ]
    },
    {
      "cell_type": "code",
      "metadata": {
        "colab": {
          "base_uri": "https://localhost:8080/"
        },
        "id": "52u4VUsLiODo",
        "outputId": "b8a05fd4-b8c2-4c49-86fc-0954644096d4"
      },
      "source": [
        "from scipy.optimize import minimize\r\n",
        "def eqn(x):\r\n",
        "  return x**2+x+2\r\n",
        "mymini=minimize(eqn,0,method='BFGS')\r\n",
        "print(mymini)"
      ],
      "execution_count": 12,
      "outputs": [
        {
          "output_type": "stream",
          "text": [
            "      fun: 1.75\n",
            " hess_inv: array([[0.50000001]])\n",
            "      jac: array([0.])\n",
            "  message: 'Optimization terminated successfully.'\n",
            "     nfev: 12\n",
            "      nit: 2\n",
            "     njev: 4\n",
            "   status: 0\n",
            "  success: True\n",
            "        x: array([-0.50000001])\n"
          ],
          "name": "stdout"
        }
      ]
    },
    {
      "cell_type": "code",
      "metadata": {
        "id": "EfgJCcg9iQ_k"
      },
      "source": [
        ""
      ],
      "execution_count": null,
      "outputs": []
    }
  ]
}